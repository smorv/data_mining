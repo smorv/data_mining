{
 "cells": [
  {
   "cell_type": "markdown",
   "metadata": {},
   "source": [
    "# String Matching\n",
    "\n",
    "The idea of string matching is to find strings that match a given pattern. We have seen that Pandas provides some useful functions to do that job."
   ]
  },
  {
   "cell_type": "code",
   "execution_count": 5,
   "metadata": {},
   "outputs": [
    {
     "data": {
      "text/html": [
       "<div>\n",
       "<style>\n",
       "    .dataframe thead tr:only-child th {\n",
       "        text-align: right;\n",
       "    }\n",
       "\n",
       "    .dataframe thead th {\n",
       "        text-align: left;\n",
       "    }\n",
       "\n",
       "    .dataframe tbody tr th {\n",
       "        vertical-align: top;\n",
       "    }\n",
       "</style>\n",
       "<table border=\"1\" class=\"dataframe\">\n",
       "  <thead>\n",
       "    <tr style=\"text-align: right;\">\n",
       "      <th></th>\n",
       "      <th>name</th>\n",
       "      <th>surname</th>\n",
       "    </tr>\n",
       "  </thead>\n",
       "  <tbody>\n",
       "    <tr>\n",
       "      <th>0</th>\n",
       "      <td>Alice</td>\n",
       "      <td>Doe</td>\n",
       "    </tr>\n",
       "    <tr>\n",
       "      <th>1</th>\n",
       "      <td>Bob</td>\n",
       "      <td>Smith</td>\n",
       "    </tr>\n",
       "    <tr>\n",
       "      <th>2</th>\n",
       "      <td>Charlie</td>\n",
       "      <td>Sheen</td>\n",
       "    </tr>\n",
       "    <tr>\n",
       "      <th>3</th>\n",
       "      <td>Dennis</td>\n",
       "      <td>Quaid</td>\n",
       "    </tr>\n",
       "  </tbody>\n",
       "</table>\n",
       "</div>"
      ],
      "text/plain": [
       "      name surname\n",
       "0    Alice     Doe\n",
       "1      Bob   Smith\n",
       "2  Charlie   Sheen\n",
       "3   Dennis   Quaid"
      ]
     },
     "execution_count": 5,
     "metadata": {},
     "output_type": "execute_result"
    }
   ],
   "source": [
    "import pandas as pd\n",
    "\n",
    "names = pd.DataFrame({\"name\" : [\"Alice\",\"Bob\",\"Charlie\",\"Dennis\"],\n",
    "                     \"surname\" : [\"Doe\",\"Smith\",\"Sheen\",\"Quaid\"]})\n",
    "names"
   ]
  },
  {
   "cell_type": "code",
   "execution_count": 4,
   "metadata": {},
   "outputs": [
    {
     "data": {
      "text/plain": [
       "0     True\n",
       "1    False\n",
       "2    False\n",
       "3    False\n",
       "Name: name, dtype: bool"
      ]
     },
     "execution_count": 4,
     "metadata": {},
     "output_type": "execute_result"
    }
   ],
   "source": [
    "names.name.str.match(\"A\\w+\")"
   ]
  },
  {
   "cell_type": "code",
   "execution_count": 7,
   "metadata": {},
   "outputs": [
    {
     "data": {
      "text/html": [
       "<div>\n",
       "<style>\n",
       "    .dataframe thead tr:only-child th {\n",
       "        text-align: right;\n",
       "    }\n",
       "\n",
       "    .dataframe thead th {\n",
       "        text-align: left;\n",
       "    }\n",
       "\n",
       "    .dataframe tbody tr th {\n",
       "        vertical-align: top;\n",
       "    }\n",
       "</style>\n",
       "<table border=\"1\" class=\"dataframe\">\n",
       "  <thead>\n",
       "    <tr style=\"text-align: right;\">\n",
       "      <th></th>\n",
       "      <th>amount</th>\n",
       "      <th>debtor</th>\n",
       "    </tr>\n",
       "  </thead>\n",
       "  <tbody>\n",
       "    <tr>\n",
       "      <th>0</th>\n",
       "      <td>100</td>\n",
       "      <td>D.Quaid</td>\n",
       "    </tr>\n",
       "    <tr>\n",
       "      <th>1</th>\n",
       "      <td>10000</td>\n",
       "      <td>C.Sheen</td>\n",
       "    </tr>\n",
       "  </tbody>\n",
       "</table>\n",
       "</div>"
      ],
      "text/plain": [
       "   amount   debtor\n",
       "0     100  D.Quaid\n",
       "1   10000  C.Sheen"
      ]
     },
     "execution_count": 7,
     "metadata": {},
     "output_type": "execute_result"
    }
   ],
   "source": [
    "debts = pd.DataFrame({\"debtor\":[\"D.Quaid\",\"C.Sheen\"],\n",
    "                     \"amount\":[100,10000]})\n",
    "debts"
   ]
  },
  {
   "cell_type": "markdown",
   "metadata": {},
   "source": [
    "Imagine I want to have a list of my friends with the amount of money I borrowed to each other, toghether with their names and surnames."
   ]
  },
  {
   "cell_type": "code",
   "execution_count": 10,
   "metadata": {},
   "outputs": [
    {
     "name": "stderr",
     "output_type": "stream",
     "text": [
      "C:\\ProgramData\\Anaconda3\\lib\\site-packages\\ipykernel_launcher.py:1: FutureWarning: currently extract(expand=None) means expand=False (return Index/Series/DataFrame) but in a future version of pandas this will be changed to expand=True (return DataFrame)\n",
      "  \"\"\"Entry point for launching an IPython kernel.\n"
     ]
    },
    {
     "data": {
      "text/html": [
       "<div>\n",
       "<style>\n",
       "    .dataframe thead tr:only-child th {\n",
       "        text-align: right;\n",
       "    }\n",
       "\n",
       "    .dataframe thead th {\n",
       "        text-align: left;\n",
       "    }\n",
       "\n",
       "    .dataframe tbody tr th {\n",
       "        vertical-align: top;\n",
       "    }\n",
       "</style>\n",
       "<table border=\"1\" class=\"dataframe\">\n",
       "  <thead>\n",
       "    <tr style=\"text-align: right;\">\n",
       "      <th></th>\n",
       "      <th>amount</th>\n",
       "      <th>debtor</th>\n",
       "      <th>surname</th>\n",
       "    </tr>\n",
       "  </thead>\n",
       "  <tbody>\n",
       "    <tr>\n",
       "      <th>0</th>\n",
       "      <td>100</td>\n",
       "      <td>D.Quaid</td>\n",
       "      <td>Quaid</td>\n",
       "    </tr>\n",
       "    <tr>\n",
       "      <th>1</th>\n",
       "      <td>10000</td>\n",
       "      <td>C.Sheen</td>\n",
       "      <td>Sheen</td>\n",
       "    </tr>\n",
       "  </tbody>\n",
       "</table>\n",
       "</div>"
      ],
      "text/plain": [
       "   amount   debtor surname\n",
       "0     100  D.Quaid   Quaid\n",
       "1   10000  C.Sheen   Sheen"
      ]
     },
     "execution_count": 10,
     "metadata": {},
     "output_type": "execute_result"
    }
   ],
   "source": [
    "debts[\"surname\"] = debts.debtor.str.extract(\"\\w+\\.(\\w+)\")\n",
    "debts"
   ]
  },
  {
   "cell_type": "markdown",
   "metadata": {},
   "source": [
    "To merge two dataframes we can use merge function: https://pandas.pydata.org/pandas-docs/stable/generated/pandas.DataFrame.merge.html. Merge DataFrame objects by performing a database-style join operation by columns or indexes.\n",
    "\n",
    "We can use merge in two different ways (very simmilar):\n",
    "* using the DataFrame method: left_df.merge(right_df, ...)\n",
    "* using the Pandas function: pd.merge(left_df, right_df, ...)\n",
    "\n",
    "Common parameters\t\n",
    "\n",
    "* how : {‘left’, ‘right’, ‘outer’, ‘inner’}, default ‘inner’\n",
    "  * left: use only keys from left frame, similar to a SQL left outer join; preserve key order\n",
    "  * right: use only keys from right frame, similar to a SQL right outer join; preserve key order\n",
    "  * outer: use union of keys from both frames, similar to a SQL full outer join; sort keys lexicographically\n",
    "  * inner: use intersection of keys from both frames, similar to a SQL inner join; preserve the order of the left keys\n",
    "\n",
    "on : label or list\n",
    "\n",
    "    Field names to join on. Must be found in both DataFrames. If on is None and not merging on indexes, then it merges on the intersection of the columns by default.\n",
    "\n",
    "left_on : label or list, or array-like\n",
    "\n",
    "    Field names to join on in left DataFrame. Can be a vector or list of vectors of the length of the DataFrame to use a particular vector as the join key instead of columns\n",
    "\n",
    "right_on : label or list, or array-like\n",
    "\n",
    "    Field names to join on in right DataFrame or vector/list of vectors per left_on docs\n",
    "\n",
    "left_index : boolean, default False\n",
    "\n",
    "    Use the index from the left DataFrame as the join key(s). If it is a MultiIndex, the number of keys in the other DataFrame (either the index or a number of columns) must match the number of levels\n",
    "\n",
    "right_index : boolean, default False\n",
    "\n",
    "    Use the index from the right DataFrame as the join key. Same caveats as left_index\n"
   ]
  },
  {
   "cell_type": "code",
   "execution_count": 12,
   "metadata": {},
   "outputs": [
    {
     "data": {
      "text/html": [
       "<div>\n",
       "<style>\n",
       "    .dataframe thead tr:only-child th {\n",
       "        text-align: right;\n",
       "    }\n",
       "\n",
       "    .dataframe thead th {\n",
       "        text-align: left;\n",
       "    }\n",
       "\n",
       "    .dataframe tbody tr th {\n",
       "        vertical-align: top;\n",
       "    }\n",
       "</style>\n",
       "<table border=\"1\" class=\"dataframe\">\n",
       "  <thead>\n",
       "    <tr style=\"text-align: right;\">\n",
       "      <th></th>\n",
       "      <th>name</th>\n",
       "      <th>surname</th>\n",
       "      <th>amount</th>\n",
       "      <th>debtor</th>\n",
       "    </tr>\n",
       "  </thead>\n",
       "  <tbody>\n",
       "    <tr>\n",
       "      <th>0</th>\n",
       "      <td>Alice</td>\n",
       "      <td>Doe</td>\n",
       "      <td>NaN</td>\n",
       "      <td>NaN</td>\n",
       "    </tr>\n",
       "    <tr>\n",
       "      <th>1</th>\n",
       "      <td>Bob</td>\n",
       "      <td>Smith</td>\n",
       "      <td>NaN</td>\n",
       "      <td>NaN</td>\n",
       "    </tr>\n",
       "    <tr>\n",
       "      <th>2</th>\n",
       "      <td>Charlie</td>\n",
       "      <td>Sheen</td>\n",
       "      <td>10000.0</td>\n",
       "      <td>C.Sheen</td>\n",
       "    </tr>\n",
       "    <tr>\n",
       "      <th>3</th>\n",
       "      <td>Dennis</td>\n",
       "      <td>Quaid</td>\n",
       "      <td>100.0</td>\n",
       "      <td>D.Quaid</td>\n",
       "    </tr>\n",
       "  </tbody>\n",
       "</table>\n",
       "</div>"
      ],
      "text/plain": [
       "      name surname   amount   debtor\n",
       "0    Alice     Doe      NaN      NaN\n",
       "1      Bob   Smith      NaN      NaN\n",
       "2  Charlie   Sheen  10000.0  C.Sheen\n",
       "3   Dennis   Quaid    100.0  D.Quaid"
      ]
     },
     "execution_count": 12,
     "metadata": {},
     "output_type": "execute_result"
    }
   ],
   "source": [
    "names.merge(debts, left_on=\"surname\", right_on=\"surname\", how=\"left\")"
   ]
  },
  {
   "cell_type": "code",
   "execution_count": 13,
   "metadata": {},
   "outputs": [
    {
     "data": {
      "text/html": [
       "<div>\n",
       "<style>\n",
       "    .dataframe thead tr:only-child th {\n",
       "        text-align: right;\n",
       "    }\n",
       "\n",
       "    .dataframe thead th {\n",
       "        text-align: left;\n",
       "    }\n",
       "\n",
       "    .dataframe tbody tr th {\n",
       "        vertical-align: top;\n",
       "    }\n",
       "</style>\n",
       "<table border=\"1\" class=\"dataframe\">\n",
       "  <thead>\n",
       "    <tr style=\"text-align: right;\">\n",
       "      <th></th>\n",
       "      <th>name</th>\n",
       "      <th>surname</th>\n",
       "      <th>amount</th>\n",
       "      <th>debtor</th>\n",
       "    </tr>\n",
       "  </thead>\n",
       "  <tbody>\n",
       "    <tr>\n",
       "      <th>0</th>\n",
       "      <td>Charlie</td>\n",
       "      <td>Sheen</td>\n",
       "      <td>10000</td>\n",
       "      <td>C.Sheen</td>\n",
       "    </tr>\n",
       "    <tr>\n",
       "      <th>1</th>\n",
       "      <td>Dennis</td>\n",
       "      <td>Quaid</td>\n",
       "      <td>100</td>\n",
       "      <td>D.Quaid</td>\n",
       "    </tr>\n",
       "  </tbody>\n",
       "</table>\n",
       "</div>"
      ],
      "text/plain": [
       "      name surname  amount   debtor\n",
       "0  Charlie   Sheen   10000  C.Sheen\n",
       "1   Dennis   Quaid     100  D.Quaid"
      ]
     },
     "execution_count": 13,
     "metadata": {},
     "output_type": "execute_result"
    }
   ],
   "source": [
    "names.merge(debts, left_on=\"surname\", right_on=\"surname\", how=\"right\")"
   ]
  },
  {
   "cell_type": "code",
   "execution_count": 14,
   "metadata": {},
   "outputs": [
    {
     "data": {
      "text/html": [
       "<div>\n",
       "<style>\n",
       "    .dataframe thead tr:only-child th {\n",
       "        text-align: right;\n",
       "    }\n",
       "\n",
       "    .dataframe thead th {\n",
       "        text-align: left;\n",
       "    }\n",
       "\n",
       "    .dataframe tbody tr th {\n",
       "        vertical-align: top;\n",
       "    }\n",
       "</style>\n",
       "<table border=\"1\" class=\"dataframe\">\n",
       "  <thead>\n",
       "    <tr style=\"text-align: right;\">\n",
       "      <th></th>\n",
       "      <th>name</th>\n",
       "      <th>surname</th>\n",
       "      <th>amount</th>\n",
       "      <th>debtor</th>\n",
       "    </tr>\n",
       "  </thead>\n",
       "  <tbody>\n",
       "    <tr>\n",
       "      <th>0</th>\n",
       "      <td>Charlie</td>\n",
       "      <td>Sheen</td>\n",
       "      <td>10000</td>\n",
       "      <td>C.Sheen</td>\n",
       "    </tr>\n",
       "    <tr>\n",
       "      <th>1</th>\n",
       "      <td>Dennis</td>\n",
       "      <td>Quaid</td>\n",
       "      <td>100</td>\n",
       "      <td>D.Quaid</td>\n",
       "    </tr>\n",
       "  </tbody>\n",
       "</table>\n",
       "</div>"
      ],
      "text/plain": [
       "      name surname  amount   debtor\n",
       "0  Charlie   Sheen   10000  C.Sheen\n",
       "1   Dennis   Quaid     100  D.Quaid"
      ]
     },
     "execution_count": 14,
     "metadata": {},
     "output_type": "execute_result"
    }
   ],
   "source": [
    "names.merge(debts, left_on=\"surname\", right_on=\"surname\", how=\"inner\")"
   ]
  },
  {
   "cell_type": "code",
   "execution_count": 15,
   "metadata": {},
   "outputs": [
    {
     "data": {
      "text/html": [
       "<div>\n",
       "<style>\n",
       "    .dataframe thead tr:only-child th {\n",
       "        text-align: right;\n",
       "    }\n",
       "\n",
       "    .dataframe thead th {\n",
       "        text-align: left;\n",
       "    }\n",
       "\n",
       "    .dataframe tbody tr th {\n",
       "        vertical-align: top;\n",
       "    }\n",
       "</style>\n",
       "<table border=\"1\" class=\"dataframe\">\n",
       "  <thead>\n",
       "    <tr style=\"text-align: right;\">\n",
       "      <th></th>\n",
       "      <th>name</th>\n",
       "      <th>surname</th>\n",
       "      <th>amount</th>\n",
       "      <th>debtor</th>\n",
       "    </tr>\n",
       "  </thead>\n",
       "  <tbody>\n",
       "    <tr>\n",
       "      <th>0</th>\n",
       "      <td>Alice</td>\n",
       "      <td>Doe</td>\n",
       "      <td>NaN</td>\n",
       "      <td>NaN</td>\n",
       "    </tr>\n",
       "    <tr>\n",
       "      <th>1</th>\n",
       "      <td>Bob</td>\n",
       "      <td>Smith</td>\n",
       "      <td>NaN</td>\n",
       "      <td>NaN</td>\n",
       "    </tr>\n",
       "    <tr>\n",
       "      <th>2</th>\n",
       "      <td>Charlie</td>\n",
       "      <td>Sheen</td>\n",
       "      <td>10000.0</td>\n",
       "      <td>C.Sheen</td>\n",
       "    </tr>\n",
       "    <tr>\n",
       "      <th>3</th>\n",
       "      <td>Dennis</td>\n",
       "      <td>Quaid</td>\n",
       "      <td>100.0</td>\n",
       "      <td>D.Quaid</td>\n",
       "    </tr>\n",
       "  </tbody>\n",
       "</table>\n",
       "</div>"
      ],
      "text/plain": [
       "      name surname   amount   debtor\n",
       "0    Alice     Doe      NaN      NaN\n",
       "1      Bob   Smith      NaN      NaN\n",
       "2  Charlie   Sheen  10000.0  C.Sheen\n",
       "3   Dennis   Quaid    100.0  D.Quaid"
      ]
     },
     "execution_count": 15,
     "metadata": {},
     "output_type": "execute_result"
    }
   ],
   "source": [
    "names.merge(debts, left_on=\"surname\", right_on=\"surname\", how=\"outer\")"
   ]
  },
  {
   "cell_type": "code",
   "execution_count": 17,
   "metadata": {},
   "outputs": [
    {
     "data": {
      "text/html": [
       "<div>\n",
       "<style>\n",
       "    .dataframe thead tr:only-child th {\n",
       "        text-align: right;\n",
       "    }\n",
       "\n",
       "    .dataframe thead th {\n",
       "        text-align: left;\n",
       "    }\n",
       "\n",
       "    .dataframe tbody tr th {\n",
       "        vertical-align: top;\n",
       "    }\n",
       "</style>\n",
       "<table border=\"1\" class=\"dataframe\">\n",
       "  <thead>\n",
       "    <tr style=\"text-align: right;\">\n",
       "      <th></th>\n",
       "      <th>name</th>\n",
       "      <th>surname_x</th>\n",
       "      <th>amount</th>\n",
       "      <th>debtor</th>\n",
       "      <th>surname_y</th>\n",
       "    </tr>\n",
       "  </thead>\n",
       "  <tbody>\n",
       "    <tr>\n",
       "      <th>0</th>\n",
       "      <td>Alice</td>\n",
       "      <td>Doe</td>\n",
       "      <td>100.0</td>\n",
       "      <td>D.Quaid</td>\n",
       "      <td>Quaid</td>\n",
       "    </tr>\n",
       "    <tr>\n",
       "      <th>1</th>\n",
       "      <td>Bob</td>\n",
       "      <td>Smith</td>\n",
       "      <td>10000.0</td>\n",
       "      <td>C.Sheen</td>\n",
       "      <td>Sheen</td>\n",
       "    </tr>\n",
       "    <tr>\n",
       "      <th>2</th>\n",
       "      <td>Charlie</td>\n",
       "      <td>Sheen</td>\n",
       "      <td>NaN</td>\n",
       "      <td>NaN</td>\n",
       "      <td>NaN</td>\n",
       "    </tr>\n",
       "    <tr>\n",
       "      <th>3</th>\n",
       "      <td>Dennis</td>\n",
       "      <td>Quaid</td>\n",
       "      <td>NaN</td>\n",
       "      <td>NaN</td>\n",
       "      <td>NaN</td>\n",
       "    </tr>\n",
       "  </tbody>\n",
       "</table>\n",
       "</div>"
      ],
      "text/plain": [
       "      name surname_x   amount   debtor surname_y\n",
       "0    Alice       Doe    100.0  D.Quaid     Quaid\n",
       "1      Bob     Smith  10000.0  C.Sheen     Sheen\n",
       "2  Charlie     Sheen      NaN      NaN       NaN\n",
       "3   Dennis     Quaid      NaN      NaN       NaN"
      ]
     },
     "execution_count": 17,
     "metadata": {},
     "output_type": "execute_result"
    }
   ],
   "source": [
    "names.merge(debts, left_index=True, right_index=True, how=\"left\")"
   ]
  },
  {
   "cell_type": "markdown",
   "metadata": {},
   "source": [
    "# Approximate String Matching\n",
    "\n",
    "Fuzzy String Matching, also called Approximate String Matching, is the process of finding strings that approximatively match a given pattern.\n",
    "\n",
    "For example, we can have two datasets with information about local municipalities:"
   ]
  },
  {
   "cell_type": "code",
   "execution_count": 20,
   "metadata": {},
   "outputs": [
    {
     "data": {
      "text/html": [
       "<div>\n",
       "<style>\n",
       "    .dataframe thead tr:only-child th {\n",
       "        text-align: right;\n",
       "    }\n",
       "\n",
       "    .dataframe thead th {\n",
       "        text-align: left;\n",
       "    }\n",
       "\n",
       "    .dataframe tbody tr th {\n",
       "        vertical-align: top;\n",
       "    }\n",
       "</style>\n",
       "<table border=\"1\" class=\"dataframe\">\n",
       "  <thead>\n",
       "    <tr style=\"text-align: right;\">\n",
       "      <th></th>\n",
       "      <th>Comunidad</th>\n",
       "      <th>Provincia</th>\n",
       "      <th>Población</th>\n",
       "      <th>Latitud</th>\n",
       "      <th>Longitud</th>\n",
       "      <th>Altitud</th>\n",
       "      <th>Habitantes</th>\n",
       "      <th>Hombres</th>\n",
       "      <th>Mujeres</th>\n",
       "    </tr>\n",
       "  </thead>\n",
       "  <tbody>\n",
       "    <tr>\n",
       "      <th>0</th>\n",
       "      <td>Andalucía</td>\n",
       "      <td>Almería</td>\n",
       "      <td>Abla</td>\n",
       "      <td>37.14114</td>\n",
       "      <td>-2.780104</td>\n",
       "      <td>871.16840</td>\n",
       "      <td>1504</td>\n",
       "      <td>783</td>\n",
       "      <td>721</td>\n",
       "    </tr>\n",
       "    <tr>\n",
       "      <th>1</th>\n",
       "      <td>Andalucía</td>\n",
       "      <td>Almería</td>\n",
       "      <td>Abrucena</td>\n",
       "      <td>37.13305</td>\n",
       "      <td>-2.797098</td>\n",
       "      <td>976.93870</td>\n",
       "      <td>1341</td>\n",
       "      <td>682</td>\n",
       "      <td>659</td>\n",
       "    </tr>\n",
       "    <tr>\n",
       "      <th>2</th>\n",
       "      <td>Andalucía</td>\n",
       "      <td>Almería</td>\n",
       "      <td>Adra</td>\n",
       "      <td>36.74807</td>\n",
       "      <td>-3.022522</td>\n",
       "      <td>10.97898</td>\n",
       "      <td>24373</td>\n",
       "      <td>12338</td>\n",
       "      <td>12035</td>\n",
       "    </tr>\n",
       "    <tr>\n",
       "      <th>3</th>\n",
       "      <td>Andalucía</td>\n",
       "      <td>Almería</td>\n",
       "      <td>Albánchez</td>\n",
       "      <td>37.28710</td>\n",
       "      <td>-2.181163</td>\n",
       "      <td>481.31230</td>\n",
       "      <td>815</td>\n",
       "      <td>422</td>\n",
       "      <td>393</td>\n",
       "    </tr>\n",
       "    <tr>\n",
       "      <th>4</th>\n",
       "      <td>Andalucía</td>\n",
       "      <td>Almería</td>\n",
       "      <td>Alboloduy</td>\n",
       "      <td>37.03319</td>\n",
       "      <td>-2.621750</td>\n",
       "      <td>388.43460</td>\n",
       "      <td>674</td>\n",
       "      <td>334</td>\n",
       "      <td>340</td>\n",
       "    </tr>\n",
       "  </tbody>\n",
       "</table>\n",
       "</div>"
      ],
      "text/plain": [
       "   Comunidad Provincia  Población   Latitud  Longitud    Altitud  Habitantes  \\\n",
       "0  Andalucía   Almería       Abla  37.14114 -2.780104  871.16840        1504   \n",
       "1  Andalucía   Almería   Abrucena  37.13305 -2.797098  976.93870        1341   \n",
       "2  Andalucía   Almería       Adra  36.74807 -3.022522   10.97898       24373   \n",
       "3  Andalucía   Almería  Albánchez  37.28710 -2.181163  481.31230         815   \n",
       "4  Andalucía   Almería  Alboloduy  37.03319 -2.621750  388.43460         674   \n",
       "\n",
       "   Hombres  Mujeres  \n",
       "0      783      721  \n",
       "1      682      659  \n",
       "2    12338    12035  \n",
       "3      422      393  \n",
       "4      334      340  "
      ]
     },
     "execution_count": 20,
     "metadata": {},
     "output_type": "execute_result"
    }
   ],
   "source": [
    "lat_lon_mun = pd.read_excel(\"lat_lon_municipalities.xls\", skiprows=2)\n",
    "lat_lon_mun.head()"
   ]
  },
  {
   "cell_type": "code",
   "execution_count": 27,
   "metadata": {},
   "outputs": [
    {
     "data": {
      "text/html": [
       "<div>\n",
       "<style>\n",
       "    .dataframe thead tr:only-child th {\n",
       "        text-align: right;\n",
       "    }\n",
       "\n",
       "    .dataframe thead th {\n",
       "        text-align: left;\n",
       "    }\n",
       "\n",
       "    .dataframe tbody tr th {\n",
       "        vertical-align: top;\n",
       "    }\n",
       "</style>\n",
       "<table border=\"1\" class=\"dataframe\">\n",
       "  <thead>\n",
       "    <tr style=\"text-align: right;\">\n",
       "      <th></th>\n",
       "      <th>CPRO</th>\n",
       "      <th>CMUN</th>\n",
       "      <th>DC</th>\n",
       "      <th>NOMBRE</th>\n",
       "    </tr>\n",
       "  </thead>\n",
       "  <tbody>\n",
       "    <tr>\n",
       "      <th>0</th>\n",
       "      <td>1</td>\n",
       "      <td>1</td>\n",
       "      <td>4</td>\n",
       "      <td>Alegría-Dulantzi</td>\n",
       "    </tr>\n",
       "    <tr>\n",
       "      <th>1</th>\n",
       "      <td>1</td>\n",
       "      <td>2</td>\n",
       "      <td>9</td>\n",
       "      <td>Amurrio</td>\n",
       "    </tr>\n",
       "    <tr>\n",
       "      <th>2</th>\n",
       "      <td>1</td>\n",
       "      <td>49</td>\n",
       "      <td>3</td>\n",
       "      <td>Añana</td>\n",
       "    </tr>\n",
       "    <tr>\n",
       "      <th>3</th>\n",
       "      <td>1</td>\n",
       "      <td>3</td>\n",
       "      <td>5</td>\n",
       "      <td>Aramaio</td>\n",
       "    </tr>\n",
       "    <tr>\n",
       "      <th>4</th>\n",
       "      <td>1</td>\n",
       "      <td>6</td>\n",
       "      <td>6</td>\n",
       "      <td>Armiñón</td>\n",
       "    </tr>\n",
       "  </tbody>\n",
       "</table>\n",
       "</div>"
      ],
      "text/plain": [
       "   CPRO  CMUN  DC            NOMBRE\n",
       "0     1     1   4  Alegría-Dulantzi\n",
       "1     1     2   9           Amurrio\n",
       "2     1    49   3             Añana\n",
       "3     1     3   5           Aramaio\n",
       "4     1     6   6           Armiñón"
      ]
     },
     "execution_count": 27,
     "metadata": {},
     "output_type": "execute_result"
    }
   ],
   "source": [
    "mun_codes = pd.read_excel(\"11codmun.xls\", encoding=\"latin1\", skiprows=1) \n",
    "mun_codes.head()"
   ]
  },
  {
   "cell_type": "code",
   "execution_count": 33,
   "metadata": {},
   "outputs": [
    {
     "data": {
      "text/html": [
       "<div>\n",
       "<style>\n",
       "    .dataframe thead tr:only-child th {\n",
       "        text-align: right;\n",
       "    }\n",
       "\n",
       "    .dataframe thead th {\n",
       "        text-align: left;\n",
       "    }\n",
       "\n",
       "    .dataframe tbody tr th {\n",
       "        vertical-align: top;\n",
       "    }\n",
       "</style>\n",
       "<table border=\"1\" class=\"dataframe\">\n",
       "  <thead>\n",
       "    <tr style=\"text-align: right;\">\n",
       "      <th></th>\n",
       "      <th>Comunidad</th>\n",
       "      <th>Provincia</th>\n",
       "      <th>Población</th>\n",
       "      <th>Latitud</th>\n",
       "      <th>Longitud</th>\n",
       "      <th>Altitud</th>\n",
       "      <th>Habitantes</th>\n",
       "      <th>Hombres</th>\n",
       "      <th>Mujeres</th>\n",
       "    </tr>\n",
       "  </thead>\n",
       "  <tbody>\n",
       "    <tr>\n",
       "      <th>1595</th>\n",
       "      <td>Canarias</td>\n",
       "      <td>Las Palmas</td>\n",
       "      <td>Palmas de Gran Canaria (Las)</td>\n",
       "      <td>28.12482</td>\n",
       "      <td>-15.43001</td>\n",
       "      <td>7.271036</td>\n",
       "      <td>381847</td>\n",
       "      <td>186191</td>\n",
       "      <td>195656</td>\n",
       "    </tr>\n",
       "    <tr>\n",
       "      <th>1601</th>\n",
       "      <td>Canarias</td>\n",
       "      <td>Las Palmas</td>\n",
       "      <td>Santa María de Guía de Gran Canaria</td>\n",
       "      <td>28.13915</td>\n",
       "      <td>-15.63284</td>\n",
       "      <td>184.067500</td>\n",
       "      <td>14069</td>\n",
       "      <td>7022</td>\n",
       "      <td>7047</td>\n",
       "    </tr>\n",
       "    <tr>\n",
       "      <th>1610</th>\n",
       "      <td>Canarias</td>\n",
       "      <td>Las Palmas</td>\n",
       "      <td>Valsequillo de Gran Canaria</td>\n",
       "      <td>27.99119</td>\n",
       "      <td>-15.49928</td>\n",
       "      <td>579.217100</td>\n",
       "      <td>9067</td>\n",
       "      <td>4617</td>\n",
       "      <td>4450</td>\n",
       "    </tr>\n",
       "  </tbody>\n",
       "</table>\n",
       "</div>"
      ],
      "text/plain": [
       "     Comunidad   Provincia                            Población   Latitud  \\\n",
       "1595  Canarias  Las Palmas         Palmas de Gran Canaria (Las)  28.12482   \n",
       "1601  Canarias  Las Palmas  Santa María de Guía de Gran Canaria  28.13915   \n",
       "1610  Canarias  Las Palmas          Valsequillo de Gran Canaria  27.99119   \n",
       "\n",
       "      Longitud     Altitud  Habitantes  Hombres  Mujeres  \n",
       "1595 -15.43001    7.271036      381847   186191   195656  \n",
       "1601 -15.63284  184.067500       14069     7022     7047  \n",
       "1610 -15.49928  579.217100        9067     4617     4450  "
      ]
     },
     "execution_count": 33,
     "metadata": {},
     "output_type": "execute_result"
    }
   ],
   "source": [
    "lat_lon_mun[lat_lon_mun[\"Población\"].str.match(\".*anaria.*\")]"
   ]
  },
  {
   "cell_type": "code",
   "execution_count": 34,
   "metadata": {},
   "outputs": [
    {
     "data": {
      "text/html": [
       "<div>\n",
       "<style>\n",
       "    .dataframe thead tr:only-child th {\n",
       "        text-align: right;\n",
       "    }\n",
       "\n",
       "    .dataframe thead th {\n",
       "        text-align: left;\n",
       "    }\n",
       "\n",
       "    .dataframe tbody tr th {\n",
       "        vertical-align: top;\n",
       "    }\n",
       "</style>\n",
       "<table border=\"1\" class=\"dataframe\">\n",
       "  <thead>\n",
       "    <tr style=\"text-align: right;\">\n",
       "      <th></th>\n",
       "      <th>CPRO</th>\n",
       "      <th>CMUN</th>\n",
       "      <th>DC</th>\n",
       "      <th>NOMBRE</th>\n",
       "    </tr>\n",
       "  </thead>\n",
       "  <tbody>\n",
       "    <tr>\n",
       "      <th>5251</th>\n",
       "      <td>35</td>\n",
       "      <td>16</td>\n",
       "      <td>7</td>\n",
       "      <td>Palmas de Gran Canaria, Las</td>\n",
       "    </tr>\n",
       "    <tr>\n",
       "      <th>5257</th>\n",
       "      <td>35</td>\n",
       "      <td>23</td>\n",
       "      <td>4</td>\n",
       "      <td>Santa María de Guía de Gran Canaria</td>\n",
       "    </tr>\n",
       "    <tr>\n",
       "      <th>5266</th>\n",
       "      <td>35</td>\n",
       "      <td>31</td>\n",
       "      <td>1</td>\n",
       "      <td>Valsequillo de Gran Canaria</td>\n",
       "    </tr>\n",
       "  </tbody>\n",
       "</table>\n",
       "</div>"
      ],
      "text/plain": [
       "      CPRO  CMUN  DC                               NOMBRE\n",
       "5251    35    16   7          Palmas de Gran Canaria, Las\n",
       "5257    35    23   4  Santa María de Guía de Gran Canaria\n",
       "5266    35    31   1          Valsequillo de Gran Canaria"
      ]
     },
     "execution_count": 34,
     "metadata": {},
     "output_type": "execute_result"
    }
   ],
   "source": [
    "mun_codes[mun_codes[\"NOMBRE\"].str.match(\".*anaria.*\")]"
   ]
  },
  {
   "cell_type": "code",
   "execution_count": 37,
   "metadata": {},
   "outputs": [
    {
     "data": {
      "text/plain": [
       "True"
      ]
     },
     "execution_count": 37,
     "metadata": {},
     "output_type": "execute_result"
    }
   ],
   "source": [
    "\"Valsequillo de Gran Canaria\" == \"Valsequillo de Gran Canaria\""
   ]
  },
  {
   "cell_type": "code",
   "execution_count": 36,
   "metadata": {},
   "outputs": [
    {
     "data": {
      "text/plain": [
       "False"
      ]
     },
     "execution_count": 36,
     "metadata": {},
     "output_type": "execute_result"
    }
   ],
   "source": [
    "\"Palmas de Gran Canaria (Las)\" == \"Palmas de Gran Canaria, Las\""
   ]
  },
  {
   "cell_type": "markdown",
   "metadata": {},
   "source": [
    "The closeness of a match is often measured in terms of edit distance, which is the number of primitive operations necessary to convert the string into an exact match.\n",
    "Primitive operations are usually: insertion (to insert a new character at a given position), deletion (to delete a particular character) and substitution (to replace a character with a new one).\n",
    "\n",
    "Fuzzy String Matching can have different practical applications. Typical examples are spell-checking, text re-use detection (the politically correct way of calling plagiarism detection), spam filtering, as well as several applications in the bioinformatics domain, e.g. matching DNA sequences.\n",
    "\n",
    "## FuzzyWuzzy\n",
    "The main modules in FuzzyWuzzy are called fuzz, for string-to-string comparisons, and process to compare a string with a list of strings.\n",
    "\n",
    "Under the hood, FuzzyWuzzy uses difflib, part of the standard library, so there is nothing extra to install. \n",
    "\n",
    "### String Similarity\n",
    "The simplest way to compare two strings is with a measurement of edit distance. For example, the following two strings are quite similar:\n",
    "\n",
    "    NEW YORK METS\n",
    "    NEW YORK MEATS\n",
    "\n",
    "Now, according to the ratio:\n",
    "\n",
    "    Return a measure of the sequences' similarity as a float in the range [0, 1]. Where T is the total number of elements in both sequences, and M is the number of matches, this is 2.0*M / T.\n"
   ]
  },
  {
   "cell_type": "code",
   "execution_count": 28,
   "metadata": {},
   "outputs": [
    {
     "data": {
      "text/plain": [
       "96"
      ]
     },
     "execution_count": 28,
     "metadata": {},
     "output_type": "execute_result"
    }
   ],
   "source": [
    "from fuzzywuzzy import fuzz\n",
    "fuzz.ratio(\"NEW YORK METS\",\"NEW YORK MEATS\")"
   ]
  },
  {
   "cell_type": "code",
   "execution_count": 35,
   "metadata": {},
   "outputs": [
    {
     "data": {
      "text/plain": [
       "95"
      ]
     },
     "execution_count": 35,
     "metadata": {},
     "output_type": "execute_result"
    }
   ],
   "source": [
    "fuzz.ratio(\"Palmas de Gran Canaria (Las)\",\"Palmas de Gran Canaria, Las\")"
   ]
  },
  {
   "cell_type": "markdown",
   "metadata": {},
   "source": [
    "### Partial String Similarity\n",
    "\n",
    "What to do when we want to find if two strings are simmilar, and one contains the other.\n",
    "\n",
    "In this case the ratio will be low but if we would know how to split the bigger string, the match would be perfect. Let's see an example:\n"
   ]
  },
  {
   "cell_type": "code",
   "execution_count": 39,
   "metadata": {},
   "outputs": [
    {
     "data": {
      "text/plain": [
       "False"
      ]
     },
     "execution_count": 39,
     "metadata": {},
     "output_type": "execute_result"
    }
   ],
   "source": [
    "\"San Millán de Yécora\" == \"Millán de Yécora\""
   ]
  },
  {
   "cell_type": "code",
   "execution_count": 40,
   "metadata": {},
   "outputs": [
    {
     "data": {
      "text/plain": [
       "89"
      ]
     },
     "execution_count": 40,
     "metadata": {},
     "output_type": "execute_result"
    }
   ],
   "source": [
    "fuzz.ratio(\"San Millán de Yécora\", \"Millán de Yécora\")"
   ]
  },
  {
   "cell_type": "markdown",
   "metadata": {},
   "source": [
    "In fact we can have the following situation:"
   ]
  },
  {
   "cell_type": "code",
   "execution_count": 42,
   "metadata": {},
   "outputs": [
    {
     "data": {
      "text/plain": [
       "61"
      ]
     },
     "execution_count": 42,
     "metadata": {},
     "output_type": "execute_result"
    }
   ],
   "source": [
    "fuzz.ratio(\"YANKEES\", \"NEW YORK YANKEES\") "
   ]
  },
  {
   "cell_type": "code",
   "execution_count": 44,
   "metadata": {},
   "outputs": [
    {
     "data": {
      "text/plain": [
       "76"
      ]
     },
     "execution_count": 44,
     "metadata": {},
     "output_type": "execute_result"
    }
   ],
   "source": [
    "fuzz.ratio(\"NEW YORK METS\", \"NEW YORK YANKEES\")"
   ]
  },
  {
   "cell_type": "markdown",
   "metadata": {},
   "source": [
    "partial_ratio, seeks the more appealing substring and returns its ratio"
   ]
  },
  {
   "cell_type": "code",
   "execution_count": 45,
   "metadata": {},
   "outputs": [
    {
     "data": {
      "text/plain": [
       "100"
      ]
     },
     "execution_count": 45,
     "metadata": {},
     "output_type": "execute_result"
    }
   ],
   "source": [
    "fuzz.partial_ratio(\"San Millán de Yécora\", \"Millán de Yécora\")"
   ]
  },
  {
   "cell_type": "code",
   "execution_count": 46,
   "metadata": {},
   "outputs": [
    {
     "data": {
      "text/plain": [
       "100"
      ]
     },
     "execution_count": 46,
     "metadata": {},
     "output_type": "execute_result"
    }
   ],
   "source": [
    "fuzz.partial_ratio(\"YANKEES\", \"NEW YORK YANKEES\") "
   ]
  },
  {
   "cell_type": "code",
   "execution_count": 47,
   "metadata": {},
   "outputs": [
    {
     "data": {
      "text/plain": [
       "69"
      ]
     },
     "execution_count": 47,
     "metadata": {},
     "output_type": "execute_result"
    }
   ],
   "source": [
    "fuzz.partial_ratio(\"NEW YORK METS\", \"NEW YORK YANKEES\") "
   ]
  },
  {
   "cell_type": "markdown",
   "metadata": {},
   "source": [
    "### Out of Order\n",
    "\n",
    "What happens if we have just the same strings but in a different order, let's have an example:"
   ]
  },
  {
   "cell_type": "code",
   "execution_count": 48,
   "metadata": {
    "collapsed": true
   },
   "outputs": [],
   "source": [
    "s1 = \"Las Palmas de Gran Canaria\"\n",
    "s2 = \"Gran Canaria, Las Palmas de\"\n",
    "s3 = \"Palmas de Gran Canaria, Las\"\n",
    "s4 = \"Palmas de Gran Canaria, (Las)\""
   ]
  },
  {
   "cell_type": "markdown",
   "metadata": {},
   "source": [
    "FuzzyWuzzy provides two ways to deal with this situation:\n",
    "\n",
    "#### Token Sort\n",
    "\n",
    "The token sort approach involves tokenizing the string in question, sorting the tokens alphabetically, and then joining them back into a string. Then compare the transformed strings with a simple ratio(."
   ]
  },
  {
   "cell_type": "code",
   "execution_count": 49,
   "metadata": {},
   "outputs": [
    {
     "data": {
      "text/plain": [
       "100"
      ]
     },
     "execution_count": 49,
     "metadata": {},
     "output_type": "execute_result"
    }
   ],
   "source": [
    "fuzz.token_sort_ratio(\"Las Palmas de Gran Canaria\", \"Palmas de Gran Canaria Las\")"
   ]
  },
  {
   "cell_type": "code",
   "execution_count": 50,
   "metadata": {},
   "outputs": [
    {
     "data": {
      "text/plain": [
       "85"
      ]
     },
     "execution_count": 50,
     "metadata": {},
     "output_type": "execute_result"
    }
   ],
   "source": [
    "fuzz.ratio(\"Las Palmas de Gran Canaria\", \"Palmas de Gran Canaria Las\")"
   ]
  },
  {
   "cell_type": "markdown",
   "metadata": {},
   "source": [
    "#### Token Set\n",
    "\n",
    "The token set approach is similar, but a little bit more flexible. Here, we tokenize both strings, but instead of immediately sorting and comparing, we split the tokens into two groups: intersection and remainder. We use those sets to build up a comparison string.\n",
    "\n",
    "    t0 = [SORTED_INTERSECTION]\n",
    "    t1 = [SORTED_INTERSECTION] + [SORTED_REST_OF_STRING1]\n",
    "    t2 = [SORTED_INTERSECTION] + [SORTED_REST_OF_STRING2]\n",
    "\n",
    "    max(ratio(t0,t1),ratio(t0,t2),ratio(t1,t2))"
   ]
  },
  {
   "cell_type": "code",
   "execution_count": 52,
   "metadata": {},
   "outputs": [],
   "source": [
    "t0 = [\"Canaria,\",\"de\",\"Gran\", \"Palmas\"]\n",
    "t1 = [\"Canaria,\",\"de\",\"Gran\", \"Palmas\"] + [\"Las\"]\n",
    "t2 = [\"Canaria,\",\"de\",\"Gran\", \"Palmas\"] + [\"(Las)\"]"
   ]
  },
  {
   "cell_type": "code",
   "execution_count": 53,
   "metadata": {},
   "outputs": [
    {
     "data": {
      "text/plain": [
       "100"
      ]
     },
     "execution_count": 53,
     "metadata": {},
     "output_type": "execute_result"
    }
   ],
   "source": [
    "fuzz.token_sort_ratio(\"Palmas de Gran Canaria, Las\", \"Palmas de Gran Canaria, (Las)\")"
   ]
  },
  {
   "cell_type": "markdown",
   "metadata": {},
   "source": [
    "# Example\n",
    "\n",
    "We want to merge both mun_codes and lat_lon_mun. So we have to have a good municipality name in both datasets. From that names we can do:\n",
    " * Exact string matching: match these names common in both datasets\n",
    " * Approximate string matching: match these names with highest similarity\n",
    " \n",
    "# Step 1: Explore datasets"
   ]
  },
  {
   "cell_type": "code",
   "execution_count": 54,
   "metadata": {},
   "outputs": [
    {
     "data": {
      "text/plain": [
       "(8116, 4)"
      ]
     },
     "execution_count": 54,
     "metadata": {},
     "output_type": "execute_result"
    }
   ],
   "source": [
    "mun_codes.shape"
   ]
  },
  {
   "cell_type": "code",
   "execution_count": 56,
   "metadata": {},
   "outputs": [
    {
     "data": {
      "text/html": [
       "<div>\n",
       "<style>\n",
       "    .dataframe thead tr:only-child th {\n",
       "        text-align: right;\n",
       "    }\n",
       "\n",
       "    .dataframe thead th {\n",
       "        text-align: left;\n",
       "    }\n",
       "\n",
       "    .dataframe tbody tr th {\n",
       "        vertical-align: top;\n",
       "    }\n",
       "</style>\n",
       "<table border=\"1\" class=\"dataframe\">\n",
       "  <thead>\n",
       "    <tr style=\"text-align: right;\">\n",
       "      <th></th>\n",
       "      <th>CPRO</th>\n",
       "      <th>CMUN</th>\n",
       "      <th>DC</th>\n",
       "      <th>NOMBRE</th>\n",
       "    </tr>\n",
       "  </thead>\n",
       "  <tbody>\n",
       "    <tr>\n",
       "      <th>0</th>\n",
       "      <td>1</td>\n",
       "      <td>1</td>\n",
       "      <td>4</td>\n",
       "      <td>Alegría-Dulantzi</td>\n",
       "    </tr>\n",
       "    <tr>\n",
       "      <th>1</th>\n",
       "      <td>1</td>\n",
       "      <td>2</td>\n",
       "      <td>9</td>\n",
       "      <td>Amurrio</td>\n",
       "    </tr>\n",
       "    <tr>\n",
       "      <th>2</th>\n",
       "      <td>1</td>\n",
       "      <td>49</td>\n",
       "      <td>3</td>\n",
       "      <td>Añana</td>\n",
       "    </tr>\n",
       "    <tr>\n",
       "      <th>3</th>\n",
       "      <td>1</td>\n",
       "      <td>3</td>\n",
       "      <td>5</td>\n",
       "      <td>Aramaio</td>\n",
       "    </tr>\n",
       "    <tr>\n",
       "      <th>4</th>\n",
       "      <td>1</td>\n",
       "      <td>6</td>\n",
       "      <td>6</td>\n",
       "      <td>Armiñón</td>\n",
       "    </tr>\n",
       "  </tbody>\n",
       "</table>\n",
       "</div>"
      ],
      "text/plain": [
       "   CPRO  CMUN  DC            NOMBRE\n",
       "0     1     1   4  Alegría-Dulantzi\n",
       "1     1     2   9           Amurrio\n",
       "2     1    49   3             Añana\n",
       "3     1     3   5           Aramaio\n",
       "4     1     6   6           Armiñón"
      ]
     },
     "execution_count": 56,
     "metadata": {},
     "output_type": "execute_result"
    }
   ],
   "source": [
    "mun_codes.head()"
   ]
  },
  {
   "cell_type": "code",
   "execution_count": 55,
   "metadata": {},
   "outputs": [
    {
     "data": {
      "text/plain": [
       "(8112, 9)"
      ]
     },
     "execution_count": 55,
     "metadata": {},
     "output_type": "execute_result"
    }
   ],
   "source": [
    "lat_lon_mun.shape"
   ]
  },
  {
   "cell_type": "code",
   "execution_count": 57,
   "metadata": {},
   "outputs": [
    {
     "data": {
      "text/html": [
       "<div>\n",
       "<style>\n",
       "    .dataframe thead tr:only-child th {\n",
       "        text-align: right;\n",
       "    }\n",
       "\n",
       "    .dataframe thead th {\n",
       "        text-align: left;\n",
       "    }\n",
       "\n",
       "    .dataframe tbody tr th {\n",
       "        vertical-align: top;\n",
       "    }\n",
       "</style>\n",
       "<table border=\"1\" class=\"dataframe\">\n",
       "  <thead>\n",
       "    <tr style=\"text-align: right;\">\n",
       "      <th></th>\n",
       "      <th>Comunidad</th>\n",
       "      <th>Provincia</th>\n",
       "      <th>Población</th>\n",
       "      <th>Latitud</th>\n",
       "      <th>Longitud</th>\n",
       "      <th>Altitud</th>\n",
       "      <th>Habitantes</th>\n",
       "      <th>Hombres</th>\n",
       "      <th>Mujeres</th>\n",
       "    </tr>\n",
       "  </thead>\n",
       "  <tbody>\n",
       "    <tr>\n",
       "      <th>0</th>\n",
       "      <td>Andalucía</td>\n",
       "      <td>Almería</td>\n",
       "      <td>Abla</td>\n",
       "      <td>37.14114</td>\n",
       "      <td>-2.780104</td>\n",
       "      <td>871.16840</td>\n",
       "      <td>1504</td>\n",
       "      <td>783</td>\n",
       "      <td>721</td>\n",
       "    </tr>\n",
       "    <tr>\n",
       "      <th>1</th>\n",
       "      <td>Andalucía</td>\n",
       "      <td>Almería</td>\n",
       "      <td>Abrucena</td>\n",
       "      <td>37.13305</td>\n",
       "      <td>-2.797098</td>\n",
       "      <td>976.93870</td>\n",
       "      <td>1341</td>\n",
       "      <td>682</td>\n",
       "      <td>659</td>\n",
       "    </tr>\n",
       "    <tr>\n",
       "      <th>2</th>\n",
       "      <td>Andalucía</td>\n",
       "      <td>Almería</td>\n",
       "      <td>Adra</td>\n",
       "      <td>36.74807</td>\n",
       "      <td>-3.022522</td>\n",
       "      <td>10.97898</td>\n",
       "      <td>24373</td>\n",
       "      <td>12338</td>\n",
       "      <td>12035</td>\n",
       "    </tr>\n",
       "    <tr>\n",
       "      <th>3</th>\n",
       "      <td>Andalucía</td>\n",
       "      <td>Almería</td>\n",
       "      <td>Albánchez</td>\n",
       "      <td>37.28710</td>\n",
       "      <td>-2.181163</td>\n",
       "      <td>481.31230</td>\n",
       "      <td>815</td>\n",
       "      <td>422</td>\n",
       "      <td>393</td>\n",
       "    </tr>\n",
       "    <tr>\n",
       "      <th>4</th>\n",
       "      <td>Andalucía</td>\n",
       "      <td>Almería</td>\n",
       "      <td>Alboloduy</td>\n",
       "      <td>37.03319</td>\n",
       "      <td>-2.621750</td>\n",
       "      <td>388.43460</td>\n",
       "      <td>674</td>\n",
       "      <td>334</td>\n",
       "      <td>340</td>\n",
       "    </tr>\n",
       "  </tbody>\n",
       "</table>\n",
       "</div>"
      ],
      "text/plain": [
       "   Comunidad Provincia  Población   Latitud  Longitud    Altitud  Habitantes  \\\n",
       "0  Andalucía   Almería       Abla  37.14114 -2.780104  871.16840        1504   \n",
       "1  Andalucía   Almería   Abrucena  37.13305 -2.797098  976.93870        1341   \n",
       "2  Andalucía   Almería       Adra  36.74807 -3.022522   10.97898       24373   \n",
       "3  Andalucía   Almería  Albánchez  37.28710 -2.181163  481.31230         815   \n",
       "4  Andalucía   Almería  Alboloduy  37.03319 -2.621750  388.43460         674   \n",
       "\n",
       "   Hombres  Mujeres  \n",
       "0      783      721  \n",
       "1      682      659  \n",
       "2    12338    12035  \n",
       "3      422      393  \n",
       "4      334      340  "
      ]
     },
     "execution_count": 57,
     "metadata": {},
     "output_type": "execute_result"
    }
   ],
   "source": [
    "lat_lon_mun.head()"
   ]
  },
  {
   "cell_type": "markdown",
   "metadata": {},
   "source": [
    "## Step 2: Merge datasets"
   ]
  },
  {
   "cell_type": "code",
   "execution_count": 111,
   "metadata": {},
   "outputs": [
    {
     "data": {
      "text/html": [
       "<div>\n",
       "<style>\n",
       "    .dataframe thead tr:only-child th {\n",
       "        text-align: right;\n",
       "    }\n",
       "\n",
       "    .dataframe thead th {\n",
       "        text-align: left;\n",
       "    }\n",
       "\n",
       "    .dataframe tbody tr th {\n",
       "        vertical-align: top;\n",
       "    }\n",
       "</style>\n",
       "<table border=\"1\" class=\"dataframe\">\n",
       "  <thead>\n",
       "    <tr style=\"text-align: right;\">\n",
       "      <th></th>\n",
       "      <th>CPRO</th>\n",
       "      <th>CMUN</th>\n",
       "      <th>DC</th>\n",
       "      <th>NOMBRE</th>\n",
       "      <th>Comunidad</th>\n",
       "      <th>Provincia</th>\n",
       "      <th>Población</th>\n",
       "      <th>Latitud</th>\n",
       "      <th>Longitud</th>\n",
       "      <th>Altitud</th>\n",
       "      <th>Habitantes</th>\n",
       "      <th>Hombres</th>\n",
       "      <th>Mujeres</th>\n",
       "    </tr>\n",
       "  </thead>\n",
       "  <tbody>\n",
       "    <tr>\n",
       "      <th>0</th>\n",
       "      <td>1</td>\n",
       "      <td>1</td>\n",
       "      <td>4</td>\n",
       "      <td>Alegría-Dulantzi</td>\n",
       "      <td>País Vasco</td>\n",
       "      <td>Álava</td>\n",
       "      <td>Alegría-Dulantzi</td>\n",
       "      <td>42.84149</td>\n",
       "      <td>-2.513507</td>\n",
       "      <td>561.6857</td>\n",
       "      <td>2620</td>\n",
       "      <td>1353</td>\n",
       "      <td>1267</td>\n",
       "    </tr>\n",
       "    <tr>\n",
       "      <th>1</th>\n",
       "      <td>1</td>\n",
       "      <td>2</td>\n",
       "      <td>9</td>\n",
       "      <td>Amurrio</td>\n",
       "      <td>País Vasco</td>\n",
       "      <td>Álava</td>\n",
       "      <td>Amurrio</td>\n",
       "      <td>43.05265</td>\n",
       "      <td>-3.001022</td>\n",
       "      <td>219.6910</td>\n",
       "      <td>10089</td>\n",
       "      <td>5069</td>\n",
       "      <td>5020</td>\n",
       "    </tr>\n",
       "    <tr>\n",
       "      <th>2</th>\n",
       "      <td>1</td>\n",
       "      <td>49</td>\n",
       "      <td>3</td>\n",
       "      <td>Añana</td>\n",
       "      <td>País Vasco</td>\n",
       "      <td>Álava</td>\n",
       "      <td>Añana</td>\n",
       "      <td>42.80235</td>\n",
       "      <td>-2.982607</td>\n",
       "      <td>628.5115</td>\n",
       "      <td>176</td>\n",
       "      <td>92</td>\n",
       "      <td>84</td>\n",
       "    </tr>\n",
       "    <tr>\n",
       "      <th>3</th>\n",
       "      <td>1</td>\n",
       "      <td>3</td>\n",
       "      <td>5</td>\n",
       "      <td>Aramaio</td>\n",
       "      <td>País Vasco</td>\n",
       "      <td>Álava</td>\n",
       "      <td>Aramaio</td>\n",
       "      <td>43.05400</td>\n",
       "      <td>-2.566000</td>\n",
       "      <td>381.8797</td>\n",
       "      <td>1499</td>\n",
       "      <td>781</td>\n",
       "      <td>718</td>\n",
       "    </tr>\n",
       "    <tr>\n",
       "      <th>4</th>\n",
       "      <td>1</td>\n",
       "      <td>6</td>\n",
       "      <td>6</td>\n",
       "      <td>Armiñón</td>\n",
       "      <td>País Vasco</td>\n",
       "      <td>Álava</td>\n",
       "      <td>Armiñón</td>\n",
       "      <td>42.72305</td>\n",
       "      <td>-2.872574</td>\n",
       "      <td>463.5815</td>\n",
       "      <td>207</td>\n",
       "      <td>103</td>\n",
       "      <td>104</td>\n",
       "    </tr>\n",
       "  </tbody>\n",
       "</table>\n",
       "</div>"
      ],
      "text/plain": [
       "   CPRO  CMUN  DC            NOMBRE   Comunidad Provincia         Población  \\\n",
       "0     1     1   4  Alegría-Dulantzi  País Vasco     Álava  Alegría-Dulantzi   \n",
       "1     1     2   9           Amurrio  País Vasco     Álava           Amurrio   \n",
       "2     1    49   3             Añana  País Vasco     Álava             Añana   \n",
       "3     1     3   5           Aramaio  País Vasco     Álava           Aramaio   \n",
       "4     1     6   6           Armiñón  País Vasco     Álava           Armiñón   \n",
       "\n",
       "    Latitud  Longitud   Altitud  Habitantes  Hombres  Mujeres  \n",
       "0  42.84149 -2.513507  561.6857        2620     1353     1267  \n",
       "1  43.05265 -3.001022  219.6910       10089     5069     5020  \n",
       "2  42.80235 -2.982607  628.5115         176       92       84  \n",
       "3  43.05400 -2.566000  381.8797        1499      781      718  \n",
       "4  42.72305 -2.872574  463.5815         207      103      104  "
      ]
     },
     "execution_count": 111,
     "metadata": {},
     "output_type": "execute_result"
    }
   ],
   "source": [
    "df1 = mun_codes.merge(lat_lon_mun, left_on=\"NOMBRE\", right_on=\"Población\",how=\"inner\")\n",
    "df1.head()"
   ]
  },
  {
   "cell_type": "markdown",
   "metadata": {},
   "source": [
    "## Step 3: Create a new variable called match_ratio"
   ]
  },
  {
   "cell_type": "code",
   "execution_count": 112,
   "metadata": {},
   "outputs": [],
   "source": [
    "df1[\"match_ratio\"] = 100"
   ]
  },
  {
   "cell_type": "markdown",
   "metadata": {},
   "source": [
    "## Step 4: Merge again with original dataset and select those which have no direct match"
   ]
  },
  {
   "cell_type": "code",
   "execution_count": 113,
   "metadata": {},
   "outputs": [
    {
     "data": {
      "text/html": [
       "<div>\n",
       "<style>\n",
       "    .dataframe thead tr:only-child th {\n",
       "        text-align: right;\n",
       "    }\n",
       "\n",
       "    .dataframe thead th {\n",
       "        text-align: left;\n",
       "    }\n",
       "\n",
       "    .dataframe tbody tr th {\n",
       "        vertical-align: top;\n",
       "    }\n",
       "</style>\n",
       "<table border=\"1\" class=\"dataframe\">\n",
       "  <thead>\n",
       "    <tr style=\"text-align: right;\">\n",
       "      <th></th>\n",
       "      <th>CPRO</th>\n",
       "      <th>CMUN</th>\n",
       "      <th>DC</th>\n",
       "      <th>NOMBRE</th>\n",
       "      <th>match_ratio</th>\n",
       "    </tr>\n",
       "  </thead>\n",
       "  <tbody>\n",
       "    <tr>\n",
       "      <th>0</th>\n",
       "      <td>1</td>\n",
       "      <td>1</td>\n",
       "      <td>4</td>\n",
       "      <td>Alegría-Dulantzi</td>\n",
       "      <td>100.0</td>\n",
       "    </tr>\n",
       "    <tr>\n",
       "      <th>1</th>\n",
       "      <td>1</td>\n",
       "      <td>2</td>\n",
       "      <td>9</td>\n",
       "      <td>Amurrio</td>\n",
       "      <td>100.0</td>\n",
       "    </tr>\n",
       "    <tr>\n",
       "      <th>2</th>\n",
       "      <td>1</td>\n",
       "      <td>49</td>\n",
       "      <td>3</td>\n",
       "      <td>Añana</td>\n",
       "      <td>100.0</td>\n",
       "    </tr>\n",
       "    <tr>\n",
       "      <th>3</th>\n",
       "      <td>1</td>\n",
       "      <td>3</td>\n",
       "      <td>5</td>\n",
       "      <td>Aramaio</td>\n",
       "      <td>100.0</td>\n",
       "    </tr>\n",
       "    <tr>\n",
       "      <th>4</th>\n",
       "      <td>1</td>\n",
       "      <td>6</td>\n",
       "      <td>6</td>\n",
       "      <td>Armiñón</td>\n",
       "      <td>100.0</td>\n",
       "    </tr>\n",
       "  </tbody>\n",
       "</table>\n",
       "</div>"
      ],
      "text/plain": [
       "   CPRO  CMUN  DC            NOMBRE  match_ratio\n",
       "0     1     1   4  Alegría-Dulantzi        100.0\n",
       "1     1     2   9           Amurrio        100.0\n",
       "2     1    49   3             Añana        100.0\n",
       "3     1     3   5           Aramaio        100.0\n",
       "4     1     6   6           Armiñón        100.0"
      ]
     },
     "execution_count": 113,
     "metadata": {},
     "output_type": "execute_result"
    }
   ],
   "source": [
    "df2 = mun_codes.merge(df1, left_on=\"NOMBRE\", right_on=\"NOMBRE\", how=\"left\")\n",
    "df2.head()\n",
    "df3 = df2.loc[: ,[\"CPRO_x\",\"CMUN_x\",\"DC_x\",\"NOMBRE\",\"match_ratio\"]]\n",
    "df3.rename(columns={\"CPRO_x\": \"CPRO\", \"CMUN_x\":\"CMUN\",\"DC_x\":\"DC\"},inplace=True)\n",
    "df3.head()"
   ]
  },
  {
   "cell_type": "code",
   "execution_count": 115,
   "metadata": {},
   "outputs": [
    {
     "data": {
      "text/html": [
       "<div>\n",
       "<style>\n",
       "    .dataframe thead tr:only-child th {\n",
       "        text-align: right;\n",
       "    }\n",
       "\n",
       "    .dataframe thead th {\n",
       "        text-align: left;\n",
       "    }\n",
       "\n",
       "    .dataframe tbody tr th {\n",
       "        vertical-align: top;\n",
       "    }\n",
       "</style>\n",
       "<table border=\"1\" class=\"dataframe\">\n",
       "  <thead>\n",
       "    <tr style=\"text-align: right;\">\n",
       "      <th></th>\n",
       "      <th>CPRO</th>\n",
       "      <th>CMUN</th>\n",
       "      <th>DC</th>\n",
       "      <th>NOMBRE</th>\n",
       "      <th>match_ratio</th>\n",
       "    </tr>\n",
       "  </thead>\n",
       "  <tbody>\n",
       "    <tr>\n",
       "      <th>31</th>\n",
       "      <td>1</td>\n",
       "      <td>58</td>\n",
       "      <td>7</td>\n",
       "      <td>Legutio</td>\n",
       "      <td>NaN</td>\n",
       "    </tr>\n",
       "    <tr>\n",
       "      <th>63</th>\n",
       "      <td>2</td>\n",
       "      <td>14</td>\n",
       "      <td>3</td>\n",
       "      <td>Ballestero, El</td>\n",
       "      <td>NaN</td>\n",
       "    </tr>\n",
       "    <tr>\n",
       "      <th>69</th>\n",
       "      <td>2</td>\n",
       "      <td>19</td>\n",
       "      <td>4</td>\n",
       "      <td>Bonillo, El</td>\n",
       "      <td>NaN</td>\n",
       "    </tr>\n",
       "    <tr>\n",
       "      <th>85</th>\n",
       "      <td>2</td>\n",
       "      <td>35</td>\n",
       "      <td>2</td>\n",
       "      <td>Gineta, La</td>\n",
       "      <td>NaN</td>\n",
       "    </tr>\n",
       "    <tr>\n",
       "      <th>88</th>\n",
       "      <td>2</td>\n",
       "      <td>38</td>\n",
       "      <td>7</td>\n",
       "      <td>Herrera, La</td>\n",
       "      <td>NaN</td>\n",
       "    </tr>\n",
       "  </tbody>\n",
       "</table>\n",
       "</div>"
      ],
      "text/plain": [
       "    CPRO  CMUN  DC          NOMBRE  match_ratio\n",
       "31     1    58   7         Legutio          NaN\n",
       "63     2    14   3  Ballestero, El          NaN\n",
       "69     2    19   4     Bonillo, El          NaN\n",
       "85     2    35   2      Gineta, La          NaN\n",
       "88     2    38   7     Herrera, La          NaN"
      ]
     },
     "execution_count": 115,
     "metadata": {},
     "output_type": "execute_result"
    }
   ],
   "source": [
    "df3.loc[df3.match_ratio.isnull(),:].head()"
   ]
  },
  {
   "cell_type": "markdown",
   "metadata": {},
   "source": [
    "## Step 5: Apply approximate string matching"
   ]
  },
  {
   "cell_type": "code",
   "execution_count": 127,
   "metadata": {},
   "outputs": [],
   "source": [
    "mun_names = lat_lon_mun[\"Población\"].tolist()\n",
    "\n",
    "def approx_str_compare(x):\n",
    "    ratio = [fuzz.ratio(x,m) for m in mun_names]\n",
    "    res = pd.DataFrame({\"ratio\" : ratio,\n",
    "                \"name\": mun_names})\n",
    "    return res.sort_values(by=\"ratio\",ascending=False).iloc[0,:]\n",
    "    \n",
    "df4 = df3.loc[df3.match_ratio.isnull(),\"NOMBRE\"].map(approx_str_compare)"
   ]
  },
  {
   "cell_type": "markdown",
   "metadata": {},
   "source": [
    "## Step 6: Concatenate results"
   ]
  },
  {
   "cell_type": "code",
   "execution_count": 135,
   "metadata": {},
   "outputs": [
    {
     "name": "stderr",
     "output_type": "stream",
     "text": [
      "C:\\ProgramData\\Anaconda3\\lib\\site-packages\\ipykernel_launcher.py:4: SettingWithCopyWarning: \n",
      "A value is trying to be set on a copy of a slice from a DataFrame.\n",
      "Try using .loc[row_indexer,col_indexer] = value instead\n",
      "\n",
      "See the caveats in the documentation: http://pandas.pydata.org/pandas-docs/stable/indexing.html#indexing-view-versus-copy\n",
      "  after removing the cwd from sys.path.\n",
      "C:\\ProgramData\\Anaconda3\\lib\\site-packages\\ipykernel_launcher.py:5: SettingWithCopyWarning: \n",
      "A value is trying to be set on a copy of a slice from a DataFrame.\n",
      "Try using .loc[row_indexer,col_indexer] = value instead\n",
      "\n",
      "See the caveats in the documentation: http://pandas.pydata.org/pandas-docs/stable/indexing.html#indexing-view-versus-copy\n",
      "  \"\"\"\n"
     ]
    },
    {
     "data": {
      "text/html": [
       "<div>\n",
       "<style>\n",
       "    .dataframe thead tr:only-child th {\n",
       "        text-align: right;\n",
       "    }\n",
       "\n",
       "    .dataframe thead th {\n",
       "        text-align: left;\n",
       "    }\n",
       "\n",
       "    .dataframe tbody tr th {\n",
       "        vertical-align: top;\n",
       "    }\n",
       "</style>\n",
       "<table border=\"1\" class=\"dataframe\">\n",
       "  <thead>\n",
       "    <tr style=\"text-align: right;\">\n",
       "      <th></th>\n",
       "      <th>CPRO</th>\n",
       "      <th>CMUN</th>\n",
       "      <th>DC</th>\n",
       "      <th>NOMBRE</th>\n",
       "      <th>match_ratio</th>\n",
       "    </tr>\n",
       "  </thead>\n",
       "  <tbody>\n",
       "    <tr>\n",
       "      <th>31</th>\n",
       "      <td>1</td>\n",
       "      <td>58</td>\n",
       "      <td>7</td>\n",
       "      <td>Legutiano</td>\n",
       "      <td>88</td>\n",
       "    </tr>\n",
       "    <tr>\n",
       "      <th>63</th>\n",
       "      <td>2</td>\n",
       "      <td>14</td>\n",
       "      <td>3</td>\n",
       "      <td>Ballestero (El)</td>\n",
       "      <td>90</td>\n",
       "    </tr>\n",
       "    <tr>\n",
       "      <th>69</th>\n",
       "      <td>2</td>\n",
       "      <td>19</td>\n",
       "      <td>4</td>\n",
       "      <td>Bonillo (El)</td>\n",
       "      <td>87</td>\n",
       "    </tr>\n",
       "    <tr>\n",
       "      <th>85</th>\n",
       "      <td>2</td>\n",
       "      <td>35</td>\n",
       "      <td>2</td>\n",
       "      <td>Gineta (La)</td>\n",
       "      <td>86</td>\n",
       "    </tr>\n",
       "    <tr>\n",
       "      <th>88</th>\n",
       "      <td>2</td>\n",
       "      <td>38</td>\n",
       "      <td>7</td>\n",
       "      <td>Herrera (La)</td>\n",
       "      <td>87</td>\n",
       "    </tr>\n",
       "  </tbody>\n",
       "</table>\n",
       "</div>"
      ],
      "text/plain": [
       "    CPRO  CMUN  DC           NOMBRE  match_ratio\n",
       "31     1    58   7        Legutiano           88\n",
       "63     2    14   3  Ballestero (El)           90\n",
       "69     2    19   4     Bonillo (El)           87\n",
       "85     2    35   2      Gineta (La)           86\n",
       "88     2    38   7     Herrera (La)           87"
      ]
     },
     "execution_count": 135,
     "metadata": {},
     "output_type": "execute_result"
    }
   ],
   "source": [
    "df4.map(lambda x: x[\"name\"])\n",
    "df4.map(lambda x: x[\"ratio\"])\n",
    "df6 = df3.loc[df3.match_ratio.isnull(),:]\n",
    "df6[\"match_ratio\"] = df4.map(lambda x: x[\"ratio\"])\n",
    "df6[\"NOMBRE\"] = df4.map(lambda x: x[\"name\"])\n",
    "df6.head()"
   ]
  },
  {
   "cell_type": "code",
   "execution_count": 138,
   "metadata": {},
   "outputs": [],
   "source": [
    "df7 = pd.concat([df3,df6])"
   ]
  },
  {
   "cell_type": "markdown",
   "metadata": {},
   "source": [
    "## Exercices\n",
    "\n",
    "1. Improve the pipeline taking into consideration that we haven't checked that all names are unique. What is happening? Can you solve it?\n",
    "\n",
    "2. Work with both NOMBRE and Población variables to improve results.\n",
    "\n",
    "3. Make approximate string matxing procedure more efficient.\n",
    "\n",
    "4. Porvide the final merged dataset."
   ]
  }
 ],
 "metadata": {
  "kernelspec": {
   "display_name": "Python 3",
   "language": "python",
   "name": "python3"
  },
  "language_info": {
   "codemirror_mode": {
    "name": "ipython",
    "version": 3
   },
   "file_extension": ".py",
   "mimetype": "text/x-python",
   "name": "python",
   "nbconvert_exporter": "python",
   "pygments_lexer": "ipython3",
   "version": "3.6.1"
  }
 },
 "nbformat": 4,
 "nbformat_minor": 2
}
