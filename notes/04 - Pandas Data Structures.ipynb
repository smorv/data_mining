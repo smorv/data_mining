{
 "cells": [
  {
   "cell_type": "markdown",
   "metadata": {
    "collapsed": true
   },
   "source": [
    "# Pandas Data Structures"
   ]
  },
  {
   "cell_type": "code",
   "execution_count": 2,
   "metadata": {
    "collapsed": true
   },
   "outputs": [],
   "source": [
    "import numpy as np\n",
    "import pandas as pd"
   ]
  },
  {
   "cell_type": "markdown",
   "metadata": {},
   "source": [
    "Understanding language's data structures is the most important part for a good programming experience. Poor understanding of data structures leads to poor code in terms of efficiency and readability.\n",
    "\n",
    "These notes are devoted to walk through all Pandas structures but also providing further readings for a deeper knowledge. A previous Numpy datastructures knowledge is required.\n",
    "\n",
    "The covered Pandas data structures are:\n",
    "* Series:\n",
    "* DataFrames:"
   ]
  },
  {
   "cell_type": "markdown",
   "metadata": {},
   "source": [
    "## Series\n",
    "\n",
    "Series is an one-dimension structures that can hold any data type (boolean, integer, float or even Python objects)."
   ]
  },
  {
   "cell_type": "markdown",
   "metadata": {},
   "source": [
    "### Series Creation"
   ]
  },
  {
   "cell_type": "markdown",
   "metadata": {},
   "source": [
    "We can create Series from:\n",
    "* Python dictionaries\n",
    "* NumPy ndarrays\n",
    "* a sclar value\n",
    "\n",
    "The passed **index is a list of axis labels**. Thus, this separates into a few cases depending on what data is, this will provide an effective way to access data."
   ]
  },
  {
   "cell_type": "markdown",
   "metadata": {},
   "source": [
    "** From dictionary: **\n",
    "\n",
    "In this case if no index is provided, it is extracted from dictionary keys, while the data is extracted from values."
   ]
  },
  {
   "cell_type": "code",
   "execution_count": 4,
   "metadata": {
    "collapsed": false
   },
   "outputs": [
    {
     "name": "stdout",
     "output_type": "stream",
     "text": [
      "a    5\n",
      "b    5\n",
      "c    5\n",
      "dtype: float64\n"
     ]
    },
    {
     "data": {
      "text/plain": [
       "Index([u'a', u'b', u'c'], dtype='object')"
      ]
     },
     "execution_count": 4,
     "metadata": {},
     "output_type": "execute_result"
    }
   ],
   "source": [
    "d = {'a':5.,'b':5.,'c':5.}\n",
    "i = ['x','y','z']\n",
    "s1 = pd.Series(d)\n",
    "print s1\n",
    "s1.index"
   ]
  },
  {
   "cell_type": "markdown",
   "metadata": {},
   "source": [
    "Otherwise, if index is passed, values with keys in index are pulled out, the rest are assigned to NaN. A NaN value means not assigned, and we will have to deal with these values in the future.\n",
    "\n",
    "**//TODO: talk about NaN**"
   ]
  },
  {
   "cell_type": "code",
   "execution_count": 8,
   "metadata": {
    "collapsed": false
   },
   "outputs": [
    {
     "name": "stdout",
     "output_type": "stream",
     "text": [
      "x   NaN\n",
      "y   NaN\n",
      "a     5\n",
      "b     5\n",
      "dtype: float64\n",
      "float64\n"
     ]
    },
    {
     "data": {
      "text/plain": [
       "Index([u'x', u'y', u'a', u'b'], dtype='object')"
      ]
     },
     "execution_count": 8,
     "metadata": {},
     "output_type": "execute_result"
    }
   ],
   "source": [
    "d = {'a':5,'b':5,'c':5}\n",
    "i = ['x','y','a','b']\n",
    "s1 = pd.Series(d, index = i)\n",
    "print s1\n",
    "print s1.dtype\n",
    "s1.index"
   ]
  },
  {
   "cell_type": "markdown",
   "metadata": {},
   "source": [
    "** From numpy array: **"
   ]
  },
  {
   "cell_type": "code",
   "execution_count": 7,
   "metadata": {
    "collapsed": false
   },
   "outputs": [
    {
     "name": "stdout",
     "output_type": "stream",
     "text": [
      "a     3\n",
      "b    20\n",
      "c     5\n",
      "dtype: int32\n",
      "int32\n"
     ]
    },
    {
     "data": {
      "text/plain": [
       "Index([u'a', u'b', u'c'], dtype='object')"
      ]
     },
     "execution_count": 7,
     "metadata": {},
     "output_type": "execute_result"
    }
   ],
   "source": [
    "s2 = pd.Series(np.array([3,20,5]),index=['a','b','c'])\n",
    "print s2\n",
    "print s2.dtype\n",
    "s2.index"
   ]
  },
  {
   "cell_type": "markdown",
   "metadata": {},
   "source": [
    "** From scalar: **"
   ]
  },
  {
   "cell_type": "code",
   "execution_count": 18,
   "metadata": {
    "collapsed": false
   },
   "outputs": [
    {
     "name": "stdout",
     "output_type": "stream",
     "text": [
      "a    5\n",
      "b    5\n",
      "c    5\n",
      "int32\n"
     ]
    },
    {
     "data": {
      "text/plain": [
       "Index([a, b, c], dtype=object)"
      ]
     },
     "execution_count": 18,
     "metadata": {},
     "output_type": "execute_result"
    }
   ],
   "source": [
    "s3 = pd.Series(5,index=['a','b','c'])\n",
    "print s3\n",
    "print s3.dtype\n",
    "s3.index"
   ]
  },
  {
   "cell_type": "markdown",
   "metadata": {},
   "source": [
    "Series can have the atribute **name**. When dealing with DataFrames, Series names will be automatically assigned with its column name."
   ]
  },
  {
   "cell_type": "code",
   "execution_count": 48,
   "metadata": {
    "collapsed": false
   },
   "outputs": [
    {
     "data": {
      "text/plain": [
       "'Series3'"
      ]
     },
     "execution_count": 48,
     "metadata": {},
     "output_type": "execute_result"
    }
   ],
   "source": [
    "s3 = pd.Series(5,index=['a','b','c'], name = 'Series3')\n",
    "s3.name"
   ]
  },
  {
   "cell_type": "markdown",
   "metadata": {
    "collapsed": true
   },
   "source": [
    "### Series Accessing"
   ]
  },
  {
   "cell_type": "markdown",
   "metadata": {},
   "source": [
    "Series can be accessed through position (numerical index), boolean ¿list? or key (axis of labels). Accessing by position is like working with numpy ndarrays while accessing through keys (axis of labels) is like working with dictionaries.\n",
    "\n",
    "** Position accessing **"
   ]
  },
  {
   "cell_type": "code",
   "execution_count": 24,
   "metadata": {
    "collapsed": false
   },
   "outputs": [
    {
     "data": {
      "text/plain": [
       "a     3\n",
       "b    20\n",
       "c     5"
      ]
     },
     "execution_count": 24,
     "metadata": {},
     "output_type": "execute_result"
    }
   ],
   "source": [
    "s2"
   ]
  },
  {
   "cell_type": "code",
   "execution_count": 25,
   "metadata": {
    "collapsed": false
   },
   "outputs": [
    {
     "data": {
      "text/plain": [
       "20"
      ]
     },
     "execution_count": 25,
     "metadata": {},
     "output_type": "execute_result"
    }
   ],
   "source": [
    "s2[1]"
   ]
  },
  {
   "cell_type": "code",
   "execution_count": 26,
   "metadata": {
    "collapsed": false
   },
   "outputs": [
    {
     "data": {
      "text/plain": [
       "b    20\n",
       "c     5"
      ]
     },
     "execution_count": 26,
     "metadata": {},
     "output_type": "execute_result"
    }
   ],
   "source": [
    "s2[1:]"
   ]
  },
  {
   "cell_type": "markdown",
   "metadata": {},
   "source": [
    "** Boolean list accessing **"
   ]
  },
  {
   "cell_type": "code",
   "execution_count": 27,
   "metadata": {
    "collapsed": false
   },
   "outputs": [
    {
     "data": {
      "text/plain": [
       "a     3\n",
       "b    20"
      ]
     },
     "execution_count": 27,
     "metadata": {},
     "output_type": "execute_result"
    }
   ],
   "source": [
    "s2[[True,True,False]]"
   ]
  },
  {
   "cell_type": "code",
   "execution_count": 28,
   "metadata": {
    "collapsed": false
   },
   "outputs": [
    {
     "data": {
      "text/plain": [
       "b    20\n",
       "c     5"
      ]
     },
     "execution_count": 28,
     "metadata": {},
     "output_type": "execute_result"
    }
   ],
   "source": [
    "s2[s2>4]"
   ]
  },
  {
   "cell_type": "markdown",
   "metadata": {},
   "source": [
    "**Key accessing**"
   ]
  },
  {
   "cell_type": "code",
   "execution_count": 29,
   "metadata": {
    "collapsed": false
   },
   "outputs": [
    {
     "data": {
      "text/plain": [
       "a     3\n",
       "b    20"
      ]
     },
     "execution_count": 29,
     "metadata": {},
     "output_type": "execute_result"
    }
   ],
   "source": [
    "s2[['a','b']]"
   ]
  },
  {
   "cell_type": "code",
   "execution_count": 31,
   "metadata": {
    "collapsed": false
   },
   "outputs": [
    {
     "data": {
      "text/plain": [
       "3"
      ]
     },
     "execution_count": 31,
     "metadata": {},
     "output_type": "execute_result"
    }
   ],
   "source": [
    "s2['a']"
   ]
  },
  {
   "cell_type": "code",
   "execution_count": 30,
   "metadata": {
    "collapsed": false
   },
   "outputs": [
    {
     "data": {
      "text/plain": [
       "True"
      ]
     },
     "execution_count": 30,
     "metadata": {},
     "output_type": "execute_result"
    }
   ],
   "source": [
    "'a' in s2"
   ]
  },
  {
   "cell_type": "markdown",
   "metadata": {},
   "source": [
    "In case of accessing an unexisting key, a KeyError exception is thrown"
   ]
  },
  {
   "cell_type": "code",
   "execution_count": 33,
   "metadata": {
    "collapsed": false
   },
   "outputs": [
    {
     "name": "stdout",
     "output_type": "stream",
     "text": [
      "Error handled\n"
     ]
    }
   ],
   "source": [
    "try:\n",
    "    s2['z']\n",
    "except KeyError:\n",
    "    print \"Error handled\""
   ]
  },
  {
   "cell_type": "markdown",
   "metadata": {},
   "source": [
    "To avoid errors, we can use Serie's get function, where a defaut value is returned in case of error."
   ]
  },
  {
   "cell_type": "code",
   "execution_count": 35,
   "metadata": {
    "collapsed": false
   },
   "outputs": [
    {
     "data": {
      "text/plain": [
       "nan"
      ]
     },
     "execution_count": 35,
     "metadata": {},
     "output_type": "execute_result"
    }
   ],
   "source": [
    "s2.get('x',np.NaN)"
   ]
  },
  {
   "cell_type": "markdown",
   "metadata": {},
   "source": [
    "### Series Operations"
   ]
  },
  {
   "cell_type": "markdown",
   "metadata": {},
   "source": [
    "**Vectorized operations** can be done over pandas Series and also Series are accepted as most of NumPy operations. The result of an operation between unaligned Series will have **the union of the indexes involved**. If a label is not found in one Series or the other, **the result will be marked as missing NaN**."
   ]
  },
  {
   "cell_type": "code",
   "execution_count": 12,
   "metadata": {
    "collapsed": false
   },
   "outputs": [
    {
     "name": "stdout",
     "output_type": "stream",
     "text": [
      "a    26\n",
      "b    43\n",
      "c    28\n",
      "dtype: int32\n"
     ]
    },
    {
     "data": {
      "text/plain": [
       "a    True\n",
       "b    True\n",
       "c    True\n",
       "dtype: bool"
      ]
     },
     "execution_count": 12,
     "metadata": {},
     "output_type": "execute_result"
    }
   ],
   "source": [
    "print s2 + 23\n",
    "# we can apply np functions\n",
    "\n",
    "np.add(s2,23) == s2 + 23"
   ]
  },
  {
   "cell_type": "markdown",
   "metadata": {},
   "source": [
    "Operations are performed index-wise."
   ]
  },
  {
   "cell_type": "code",
   "execution_count": 45,
   "metadata": {
    "collapsed": false
   },
   "outputs": [
    {
     "data": {
      "text/plain": [
       "a     8\n",
       "b    25\n",
       "c   NaN\n",
       "x   NaN\n",
       "y   NaN"
      ]
     },
     "execution_count": 45,
     "metadata": {},
     "output_type": "execute_result"
    }
   ],
   "source": [
    "s2 + s1"
   ]
  },
  {
   "cell_type": "code",
   "execution_count": 46,
   "metadata": {
    "collapsed": false
   },
   "outputs": [
    {
     "data": {
      "text/plain": [
       "a     8\n",
       "b    25"
      ]
     },
     "execution_count": 46,
     "metadata": {},
     "output_type": "execute_result"
    }
   ],
   "source": [
    "(s2 + s1).dropna()"
   ]
  },
  {
   "cell_type": "code",
   "execution_count": 41,
   "metadata": {
    "collapsed": false
   },
   "outputs": [
    {
     "data": {
      "text/plain": [
       "a      27\n",
       "b    8000\n",
       "c     125"
      ]
     },
     "execution_count": 41,
     "metadata": {},
     "output_type": "execute_result"
    }
   ],
   "source": [
    "s2 ** 3"
   ]
  },
  {
   "cell_type": "code",
   "execution_count": 42,
   "metadata": {
    "collapsed": false
   },
   "outputs": [
    {
     "data": {
      "text/plain": [
       "a    2.008554e+01\n",
       "b    4.851652e+08\n",
       "c    1.484132e+02"
      ]
     },
     "execution_count": 42,
     "metadata": {},
     "output_type": "execute_result"
    }
   ],
   "source": [
    "np.exp(s2)"
   ]
  },
  {
   "cell_type": "markdown",
   "metadata": {},
   "source": [
    "### Examples with Series\n",
    "\n",
    "Before loading data from different sources, we can have some examples using series with self-generated data."
   ]
  },
  {
   "cell_type": "code",
   "execution_count": 31,
   "metadata": {
    "collapsed": false,
    "scrolled": true
   },
   "outputs": [],
   "source": [
    "import csv\n",
    "import urllib2\n",
    "\n",
    "url = 'https://raw.githubusercontent.com/jpatokal/openflights/master/data/airports.dat'\n",
    "response = urllib2.urlopen(url)\n",
    "data = list(csv.reader(response))\n",
    "\n",
    "#data is a list of list"
   ]
  },
  {
   "cell_type": "markdown",
   "metadata": {},
   "source": [
    "We can create series from a list of lists directly from data variable."
   ]
  },
  {
   "cell_type": "code",
   "execution_count": 6,
   "metadata": {
    "collapsed": false
   },
   "outputs": [
    {
     "data": {
      "text/plain": [
       "0     [1, Goroka, Goroka, Papua New Guinea, GKA, AYG...\n",
       "1     [2, Madang, Madang, Papua New Guinea, MAG, AYM...\n",
       "2     [3, Mount Hagen, Mount Hagen, Papua New Guinea...\n",
       "3     [4, Nadzab, Nadzab, Papua New Guinea, LAE, AYN...\n",
       "4     [5, Port Moresby Jacksons Intl, Port Moresby, ...\n",
       "5     [6, Wewak Intl, Wewak, Papua New Guinea, WWK, ...\n",
       "6     [7, Narsarsuaq, Narssarssuaq, Greenland, UAK, ...\n",
       "7     [8, Nuuk, Godthaab, Greenland, GOH, BGGH, 64.1...\n",
       "8     [9, Sondre Stromfjord, Sondrestrom, Greenland,...\n",
       "9     [10, Thule Air Base, Thule, Greenland, THU, BG...\n",
       "10    [11, Akureyri, Akureyri, Iceland, AEY, BIAR, 6...\n",
       "11    [12, Egilsstadir, Egilsstadir, Iceland, EGS, B...\n",
       "12    [13, Hornafjordur, Hofn, Iceland, HFN, BIHN, 6...\n",
       "13    [14, Husavik, Husavik, Iceland, HZK, BIHU, 65....\n",
       "14    [15, Isafjordur, Isafjordur, Iceland, IFJ, BII...\n",
       "...\n",
       "8092    [9527, Bus, Siem Reap, Cambodia, , SMRP, 13.36...\n",
       "8093    [9528, Bus, Sihanoukville, Cambodia, , SNKV, 1...\n",
       "8094    [9529, Bus, Kampot, Cambodia, , KMPT, 10.61492...\n",
       "8095    [9530, Bus, Kep, Cambodia, , KEPC, 10.480174, ...\n",
       "8096    [9531, Main Station, Taipei, Taiwan, , TPEI, 2...\n",
       "8097    [9532, Prominent Hill, Prominent Hill, Austral...\n",
       "8098    [9533, Chatsworth Station, Chatsworth, United ...\n",
       "8099    [9534, Algerciras Port, Algerciras, Spain, , \\...\n",
       "8100    [9535, Ganges Water Aerodrome, Ganges, Canada,...\n",
       "8101    [9536, Pender Harbour Water Aerodrome, Pender ...\n",
       "8102    [9537, Mansons Landing Water Aerodrome, Manson...\n",
       "8103    [9538, Port McNeill Airport, Port McNeill, Can...\n",
       "8104    [9539, Sullivan Bay Water Aerodrome, Sullivan ...\n",
       "8105    [9540, Deer Harbor Seaplane, Deer Harbor, Unit...\n",
       "8106    [9541, San Diego Old Town Transit Center, San ...\n",
       "Length: 8107, dtype: object"
      ]
     },
     "execution_count": 6,
     "metadata": {},
     "output_type": "execute_result"
    }
   ],
   "source": [
    "pd.Series(data)"
   ]
  },
  {
   "cell_type": "markdown",
   "metadata": {},
   "source": [
    "This is not a very useful Series object, as acces to list items is not syntatically nice. However, let's try to put the all countries' airports in a Series."
   ]
  },
  {
   "cell_type": "code",
   "execution_count": 7,
   "metadata": {
    "collapsed": false
   },
   "outputs": [
    {
     "data": {
      "text/plain": [
       "0     Papua New Guinea\n",
       "1     Papua New Guinea\n",
       "2     Papua New Guinea\n",
       "3     Papua New Guinea\n",
       "4     Papua New Guinea\n",
       "5     Papua New Guinea\n",
       "6            Greenland\n",
       "7            Greenland\n",
       "8            Greenland\n",
       "9            Greenland\n",
       "10             Iceland\n",
       "11             Iceland\n",
       "12             Iceland\n",
       "13             Iceland\n",
       "14             Iceland\n",
       "...\n",
       "8092         Cambodia\n",
       "8093         Cambodia\n",
       "8094         Cambodia\n",
       "8095         Cambodia\n",
       "8096           Taiwan\n",
       "8097        Australia\n",
       "8098    United States\n",
       "8099            Spain\n",
       "8100           Canada\n",
       "8101           Canada\n",
       "8102           Canada\n",
       "8103           Canada\n",
       "8104           Canada\n",
       "8105    United States\n",
       "8106    United States\n",
       "Length: 8107, dtype: object"
      ]
     },
     "execution_count": 7,
     "metadata": {},
     "output_type": "execute_result"
    }
   ],
   "source": [
    "countries = pd.Series(np.array([airport[3] for airport in data]))\n",
    "# this is a more interesting Series object\n",
    "countries"
   ]
  },
  {
   "cell_type": "code",
   "execution_count": 8,
   "metadata": {
    "collapsed": false
   },
   "outputs": [
    {
     "name": "stdout",
     "output_type": "stream",
     "text": [
      "Int64Index([0, 1, 2, 3, 4, 5, 6, 7, 8, 9, 10, 11, 12, 13, 14, 15, 16, 17, 18, 19, 20, 21, 22, 23, 24, 25, 26, 27, 28, 29, 30, 31, 32, 33, 34, 35, 36, 37, 38, 39, 40, 41, 42, 43, 44, 45, 46, 47, 48, 49, 50, 51, 52, 53, 54, 55, 56, 57, 58, 59, 60, 61, 62, 63, 64, 65, 66, 67, 68, 69, 70, 71, 72, 73, 74, 75, 76, 77, 78, 79, 80, 81, 82, 83, 84, 85, 86, 87, 88, 89, 90, 91, 92, 93, 94, 95, 96, 97, 98, 99, ...], dtype='int64')\n"
     ]
    }
   ],
   "source": [
    "print countries.index"
   ]
  },
  {
   "cell_type": "code",
   "execution_count": 136,
   "metadata": {
    "collapsed": false
   },
   "outputs": [
    {
     "name": "stdout",
     "output_type": "stream",
     "text": [
      "Papua New Guinea\n",
      "0    False\n",
      "1    False\n",
      "2    False\n",
      "3    False\n",
      "4    False\n",
      "dtype: bool\n",
      "1033    Spain\n",
      "1034    Spain\n",
      "1035    Spain\n",
      "1036    Spain\n",
      "1037    Spain\n",
      "dtype: object\n",
      "0    Papua New Guinea\n",
      "1    Papua New Guinea\n",
      "2    Papua New Guinea\n",
      "3    Papua New Guinea\n",
      "4    Papua New Guinea\n",
      "dtype: object\n",
      "8102           Canada\n",
      "8103           Canada\n",
      "8104           Canada\n",
      "8105    United States\n",
      "8106    United States\n",
      "dtype: object\n",
      "['Papua New Guinea' 'Greenland' 'Iceland' 'Canada' 'Algeria' 'Benin'\n",
      " 'Burkina Faso' 'Ghana' \"Cote d'Ivoire\" 'Nigeria' 'Niger' 'Tunisia' 'Togo'\n",
      " 'Belgium' 'Germany' 'United States' 'Estonia' 'Finland' 'United Kingdom'\n",
      " 'Guernsey' 'Jersey' 'Isle of Man' 'Falkland Islands' 'Netherlands'\n",
      " 'Ireland' 'Denmark' 'Faroe Islands' 'Luxembourg' 'Norway' 'Poland'\n",
      " 'Sweden' 'South Africa' 'Botswana' 'Congo (Brazzaville)'\n",
      " 'Congo (Kinshasa)' 'Swaziland' 'Central African Republic'\n",
      " 'Equatorial Guinea' 'Saint Helena' 'Mauritius'\n",
      " 'British Indian Ocean Territory' 'Cameroon' 'Zambia' 'Comoros' 'Mayotte'\n",
      " 'Reunion' 'Madagascar' 'Angola' 'Puerto Rico' 'Gabon'\n",
      " 'Sao Tome and Principe' 'Mozambique' 'Seychelles' 'Chad' 'Zimbabwe'\n",
      " 'Malawi' 'Lesotho' 'Mali' 'Gambia' 'Spain' 'Sierra Leone' 'Guinea-Bissau'\n",
      " 'Liberia' 'Morocco' 'Senegal' 'Mauritania' 'Guinea' 'Cape Verde'\n",
      " 'Ethiopia' 'Maldives' 'Burundi' 'Somalia' 'Egypt' 'Kenya' 'Libya' 'Rwanda'\n",
      " 'Sudan' 'South Sudan' 'Tanzania' 'Uganda' 'Albania' 'Bulgaria' 'Cyprus'\n",
      " 'Croatia' 'Greece' 'France' 'Saint Pierre and Miquelon' 'Hungary' 'Italy'\n",
      " 'Slovenia' 'Czech Republic' 'Israel' 'Malta' 'Austria' 'Portugal'\n",
      " 'Bosnia and Herzegovina' 'Romania' 'Switzerland' 'Turkey' 'Moldova'\n",
      " 'Macedonia' 'Gibraltar' 'Serbia' 'Montenegro' 'Slovakia'\n",
      " 'Turks and Caicos Islands' 'Dominican Republic' 'Guatemala' 'Honduras'\n",
      " 'Jamaica' 'Mexico' 'Nicaragua' 'Panama' 'Costa Rica' 'El Salvador' 'Haiti'\n",
      " 'Cuba' 'Cayman Islands' 'Bahamas' 'Belize' 'Cook Islands' 'Fiji' 'Tonga'\n",
      " 'Kiribati' 'Australia' 'Wallis and Futuna' 'Samoa' 'American Samoa'\n",
      " 'French Polynesia' 'Vanuatu' 'New Caledonia' 'New Zealand' 'Antarctica'\n",
      " 'Afghanistan' 'Bahrain' 'Saudi Arabia' 'Iran' 'Argentina' 'Jordan'\n",
      " 'West Bank' 'Kuwait' 'Lebanon' 'United Arab Emirates' 'Oman' 'Pakistan'\n",
      " 'Iraq' 'Syria' 'Qatar' 'Northern Mariana Islands' 'Guam'\n",
      " 'Marshall Islands' 'Midway Islands' 'Micronesia' 'Palau' 'Taiwan' 'Japan'\n",
      " 'South Korea' 'Philippines' 'Turkmenistan' 'Brazil' 'Chile' 'Ecuador'\n",
      " 'Paraguay' 'Colombia' 'Bolivia' 'Suriname' 'French Guiana' 'Peru'\n",
      " 'Uruguay' 'Venezuela' 'Guyana' 'Antigua and Barbuda' 'Barbados' 'Dominica'\n",
      " 'Martinique' 'Guadeloupe' 'Grenada' 'Virgin Islands'\n",
      " 'Saint Kitts and Nevis' 'Saint Lucia' 'Aruba' 'Netherlands Antilles'\n",
      " 'Anguilla' 'Trinidad and Tobago' 'British Virgin Islands'\n",
      " 'Saint Vincent and the Grenadines' 'Kazakhstan' 'Kyrgyzstan' 'Azerbaijan'\n",
      " 'Russia' 'Ukraine' 'Belarus' 'Tajikistan' 'Uzbekistan' 'India' 'Sri Lanka'\n",
      " 'Cambodia' 'Bangladesh' 'Hong Kong' 'Laos' 'Macau' 'Nepal' 'Bhutan'\n",
      " 'Thailand' 'Indonesia' 'Vietnam' 'Burma' 'Malaysia' 'Brunei' 'East Timor'\n",
      " 'Singapore' 'Christmas Island' 'Norfolk Island' 'China' 'Korea' 'Mongolia'\n",
      " 'Latvia' 'Lithuania' 'Armenia' 'Eritrea' 'Palestine' 'Yemen' 'Georgia'\n",
      " 'Bermuda' 'Solomon Islands' 'Nauru' 'Tuvalu' 'Namibia' 'Djibouti'\n",
      " 'Montserrat' 'Monaco' 'Johnston Atoll' 'Niue' 'Western Sahara'\n",
      " 'Cocos (Keeling) Islands' 'South Georgia and the Islands' 'Myanmar'\n",
      " 'Svalbard' 'North Korea' 'Wake Island']\n"
     ]
    }
   ],
   "source": [
    "## Access by number\n",
    "print countries[0]\n",
    "## we can evaluate a function over all elements to get a boolean series\n",
    "print (countries == \"Spain\").head()\n",
    "print (countries[countries == \"Spain\"]).head()\n",
    "print (countries[countries != \"Spain\"]).head()\n",
    "print (countries[countries != \"Spain\"]).tail()\n",
    "# we can have the list of countries that have (at least\n",
    "print countries.unique()"
   ]
  },
  {
   "cell_type": "code",
   "execution_count": 16,
   "metadata": {
    "collapsed": false
   },
   "outputs": [
    {
     "data": {
      "text/plain": [
       "'United States'"
      ]
     },
     "execution_count": 16,
     "metadata": {},
     "output_type": "execute_result"
    }
   ],
   "source": [
    "# we can also access by key\n",
    "countries[8106]"
   ]
  },
  {
   "cell_type": "markdown",
   "metadata": {},
   "source": [
    "We can see that there's an error between index and the number provided as index in the csv. Let's try to see what happened with the knowledge we have with Series."
   ]
  },
  {
   "cell_type": "code",
   "execution_count": 39,
   "metadata": {
    "collapsed": false
   },
   "outputs": [
    {
     "name": "stdout",
     "output_type": "stream",
     "text": [
      "117    119\n",
      "118    120\n",
      "119    121\n",
      "120    122\n",
      "121    123\n",
      "122    124\n",
      "123    125\n",
      "124    126\n",
      "125    127\n",
      "126    128\n",
      "127    129\n",
      "128    130\n",
      "129    131\n",
      "130    132\n",
      "131    133\n",
      "...\n",
      "8092    9527\n",
      "8093    9528\n",
      "8094    9529\n",
      "8095    9530\n",
      "8096    9531\n",
      "8097    9532\n",
      "8098    9533\n",
      "8099    9534\n",
      "8100    9535\n",
      "8101    9536\n",
      "8102    9537\n",
      "8103    9538\n",
      "8104    9539\n",
      "8105    9540\n",
      "8106    9541\n",
      "Length: 7990, dtype: object\n"
     ]
    }
   ],
   "source": [
    "csv_index = pd.Series(np.array([airport[0] for airport in data]))\n",
    "print csv_index[csv_index.astype(int) != csv_index.index + 1]"
   ]
  },
  {
   "cell_type": "code",
   "execution_count": 133,
   "metadata": {
    "collapsed": false
   },
   "outputs": [
    {
     "name": "stdout",
     "output_type": "stream",
     "text": [
      "117     119\n",
      "221     224\n",
      "318    6891\n",
      "319     322\n",
      "470     474\n",
      "523     528\n",
      "593     599\n",
      "600     607\n",
      "613     621\n",
      "653     662\n",
      "dtype: int32\n",
      "the assumption is: False\n",
      "318    -6570\n",
      "814    -5983\n",
      "931    -5867\n",
      "1095   -5696\n",
      "1104   -5766\n",
      "1121   -5747\n",
      "1166   -5700\n",
      "1205   -5659\n",
      "1453   -5409\n",
      "1470   -5391\n",
      "1507   -5351\n",
      "1617   -5239\n",
      "1676   -5178\n",
      "1687   -5164\n",
      "1695   -5153\n",
      "...\n",
      "4971     -91\n",
      "5288      -2\n",
      "5311   -2398\n",
      "5360   -1641\n",
      "5365      -2\n",
      "5372      -8\n",
      "5385    -418\n",
      "5521    -233\n",
      "6087    -410\n",
      "6206    -788\n",
      "6283    -460\n",
      "6354     -80\n",
      "6438    -556\n",
      "6990      -3\n",
      "7365    -166\n",
      "Length: 123, dtype: int32\n"
     ]
    }
   ],
   "source": [
    "# we get the list of all missing values\n",
    "shifted_index = csv_index[csv_index.index-1]\n",
    "shifted_index = shifted_index.fillna(0)\n",
    "shifted_index.index = csv_index.index\n",
    "# we get the list of non consecutive values\n",
    "non_consecutive = csv_index[csv_index.astype(int) != shifted_index.astype(int) + 1].astype(int)\n",
    "print non_consecutive.head(10)\n",
    "# check if our assumption is true (1 at most consecutive values are missing)\n",
    "print \"the assumption is:\", len(non_consecutive) + len(csv_index) == csv_index[len(csv_index)-1]\n",
    "# let's see what happens\n",
    "difference = (shifted_index.astype(int) + 1).add(-csv_index.astype(int))\n",
    "print difference[difference < -1]"
   ]
  },
  {
   "cell_type": "markdown",
   "metadata": {},
   "source": [
    "## DataFrame\n",
    "\n",
    "A DataFrame is a 2-dimensional **labeled** data structure with columns of diferent types. It can be seen as a spreadsheet, where columns are Series or a Python dictionary where Series can be accessed through labels."
   ]
  },
  {
   "cell_type": "markdown",
   "metadata": {},
   "source": [
    "### DataFrame Creation"
   ]
  },
  {
   "cell_type": "markdown",
   "metadata": {},
   "source": [
    "We can create DataFrames from:\n",
    "* Dict of 1D ndarrays, lists, dicts, or Series\n",
    "* 2-D numpy.ndarray\n",
    "* Structured or record ndarray\n",
    "* A Series\n",
    "* Another DataFrame\n",
    "\n",
    "** From dict of Series or dict **\n",
    "\n",
    "The result **index** will be the **union** of the indexes of the various Series. If there are any nested dicts, these will be first converted to Series. If no columns are passed, the columns will be the sorted list of dict keys.\n",
    "\n"
   ]
  },
  {
   "cell_type": "code",
   "execution_count": 58,
   "metadata": {
    "collapsed": false
   },
   "outputs": [
    {
     "data": {
      "text/html": [
       "<div style=\"max-height:1000px;max-width:1500px;overflow:auto;\">\n",
       "<table border=\"1\" class=\"dataframe\">\n",
       "  <thead>\n",
       "    <tr style=\"text-align: right;\">\n",
       "      <th></th>\n",
       "      <th>one</th>\n",
       "      <th>three</th>\n",
       "      <th>two</th>\n",
       "    </tr>\n",
       "  </thead>\n",
       "  <tbody>\n",
       "    <tr>\n",
       "      <td><strong>a</strong></td>\n",
       "      <td>  1</td>\n",
       "      <td>  1</td>\n",
       "      <td> 1</td>\n",
       "    </tr>\n",
       "    <tr>\n",
       "      <td><strong>b</strong></td>\n",
       "      <td>  2</td>\n",
       "      <td>NaN</td>\n",
       "      <td> 2</td>\n",
       "    </tr>\n",
       "    <tr>\n",
       "      <td><strong>c</strong></td>\n",
       "      <td>  3</td>\n",
       "      <td>NaN</td>\n",
       "      <td> 3</td>\n",
       "    </tr>\n",
       "    <tr>\n",
       "      <td><strong>z</strong></td>\n",
       "      <td>NaN</td>\n",
       "      <td>NaN</td>\n",
       "      <td> 4</td>\n",
       "    </tr>\n",
       "  </tbody>\n",
       "</table>\n",
       "</div>"
      ],
      "text/plain": [
       "   one  three  two\n",
       "a    1      1    1\n",
       "b    2    NaN    2\n",
       "c    3    NaN    3\n",
       "z  NaN    NaN    4"
      ]
     },
     "execution_count": 58,
     "metadata": {},
     "output_type": "execute_result"
    }
   ],
   "source": [
    "d = {'one': pd.Series([1,2,3],index=['a','b','c']),'two': pd.Series([1,2,3,4],index=['a','b','c','z']),'three':{'a':1}}\n",
    "df = pd.DataFrame(d)\n",
    "df"
   ]
  },
  {
   "cell_type": "code",
   "execution_count": 56,
   "metadata": {
    "collapsed": false
   },
   "outputs": [
    {
     "data": {
      "text/html": [
       "<div style=\"max-height:1000px;max-width:1500px;overflow:auto;\">\n",
       "<table border=\"1\" class=\"dataframe\">\n",
       "  <thead>\n",
       "    <tr style=\"text-align: right;\">\n",
       "      <th></th>\n",
       "      <th>one</th>\n",
       "      <th>three</th>\n",
       "      <th>two</th>\n",
       "    </tr>\n",
       "  </thead>\n",
       "  <tbody>\n",
       "    <tr>\n",
       "      <td><strong>d</strong></td>\n",
       "      <td>NaN</td>\n",
       "      <td>NaN</td>\n",
       "      <td>NaN</td>\n",
       "    </tr>\n",
       "    <tr>\n",
       "      <td><strong>b</strong></td>\n",
       "      <td>  2</td>\n",
       "      <td>NaN</td>\n",
       "      <td>  2</td>\n",
       "    </tr>\n",
       "    <tr>\n",
       "      <td><strong>a</strong></td>\n",
       "      <td>  1</td>\n",
       "      <td>  1</td>\n",
       "      <td>  1</td>\n",
       "    </tr>\n",
       "  </tbody>\n",
       "</table>\n",
       "</div>"
      ],
      "text/plain": [
       "   one  three  two\n",
       "d  NaN    NaN  NaN\n",
       "b    2    NaN    2\n",
       "a    1      1    1"
      ]
     },
     "execution_count": 56,
     "metadata": {},
     "output_type": "execute_result"
    }
   ],
   "source": [
    "pd.DataFrame(d, index=['d', 'b', 'a'])"
   ]
  },
  {
   "cell_type": "code",
   "execution_count": 57,
   "metadata": {
    "collapsed": false
   },
   "outputs": [
    {
     "data": {
      "text/html": [
       "<div style=\"max-height:1000px;max-width:1500px;overflow:auto;\">\n",
       "<table border=\"1\" class=\"dataframe\">\n",
       "  <thead>\n",
       "    <tr style=\"text-align: right;\">\n",
       "      <th></th>\n",
       "      <th>two</th>\n",
       "      <th>three</th>\n",
       "      <th>four</th>\n",
       "    </tr>\n",
       "  </thead>\n",
       "  <tbody>\n",
       "    <tr>\n",
       "      <td><strong>d</strong></td>\n",
       "      <td>NaN</td>\n",
       "      <td>NaN</td>\n",
       "      <td> NaN</td>\n",
       "    </tr>\n",
       "    <tr>\n",
       "      <td><strong>b</strong></td>\n",
       "      <td>  2</td>\n",
       "      <td>NaN</td>\n",
       "      <td> NaN</td>\n",
       "    </tr>\n",
       "    <tr>\n",
       "      <td><strong>a</strong></td>\n",
       "      <td>  1</td>\n",
       "      <td>  1</td>\n",
       "      <td> NaN</td>\n",
       "    </tr>\n",
       "  </tbody>\n",
       "</table>\n",
       "</div>"
      ],
      "text/plain": [
       "   two  three four\n",
       "d  NaN    NaN  NaN\n",
       "b    2    NaN  NaN\n",
       "a    1      1  NaN"
      ]
     },
     "execution_count": 57,
     "metadata": {},
     "output_type": "execute_result"
    }
   ],
   "source": [
    "pd.DataFrame(d, index=['d', 'b', 'a'], columns=['two', 'three','four'])"
   ]
  },
  {
   "cell_type": "markdown",
   "metadata": {},
   "source": [
    "The row and column labels can be accessed respectively by accessing the index and columns attributes:"
   ]
  },
  {
   "cell_type": "code",
   "execution_count": 59,
   "metadata": {
    "collapsed": false
   },
   "outputs": [
    {
     "data": {
      "text/plain": [
       "Index([a, b, c, z], dtype=object)"
      ]
     },
     "execution_count": 59,
     "metadata": {},
     "output_type": "execute_result"
    }
   ],
   "source": [
    "df.index"
   ]
  },
  {
   "cell_type": "code",
   "execution_count": 60,
   "metadata": {
    "collapsed": false
   },
   "outputs": [
    {
     "data": {
      "text/plain": [
       "Index([one, three, two], dtype=object)"
      ]
     },
     "execution_count": 60,
     "metadata": {},
     "output_type": "execute_result"
    }
   ],
   "source": [
    "df.columns"
   ]
  },
  {
   "cell_type": "markdown",
   "metadata": {
    "collapsed": false
   },
   "source": [
    "** From dict of ndarrays / lists **\n",
    "\n",
    "The ndarrays must all be the same length. If an index is passed, it must clearly also be the same length as the arrays. If no index is passed, the result will be <code>range(n)</code>, where n is the array length."
   ]
  },
  {
   "cell_type": "code",
   "execution_count": 14,
   "metadata": {
    "collapsed": false
   },
   "outputs": [
    {
     "data": {
      "text/html": [
       "<div style=\"max-height:1000px;max-width:1500px;overflow:auto;\">\n",
       "<table border=\"1\" class=\"dataframe\">\n",
       "  <thead>\n",
       "    <tr style=\"text-align: right;\">\n",
       "      <th></th>\n",
       "      <th>one</th>\n",
       "      <th>two</th>\n",
       "    </tr>\n",
       "  </thead>\n",
       "  <tbody>\n",
       "    <tr>\n",
       "      <th>0</th>\n",
       "      <td> 1</td>\n",
       "      <td> 4</td>\n",
       "    </tr>\n",
       "    <tr>\n",
       "      <th>1</th>\n",
       "      <td> 2</td>\n",
       "      <td> 3</td>\n",
       "    </tr>\n",
       "    <tr>\n",
       "      <th>2</th>\n",
       "      <td> 3</td>\n",
       "      <td> 2</td>\n",
       "    </tr>\n",
       "    <tr>\n",
       "      <th>3</th>\n",
       "      <td> 4</td>\n",
       "      <td> 1</td>\n",
       "    </tr>\n",
       "  </tbody>\n",
       "</table>\n",
       "</div>"
      ],
      "text/plain": [
       "   one  two\n",
       "0    1    4\n",
       "1    2    3\n",
       "2    3    2\n",
       "3    4    1"
      ]
     },
     "execution_count": 14,
     "metadata": {},
     "output_type": "execute_result"
    }
   ],
   "source": [
    "d = {'one' : [1., 2., 3., 4.], 'two' : [4., 3., 2., 1.]}\n",
    "pd.DataFrame(d)"
   ]
  },
  {
   "cell_type": "code",
   "execution_count": 16,
   "metadata": {
    "collapsed": false
   },
   "outputs": [
    {
     "data": {
      "text/html": [
       "<div style=\"max-height:1000px;max-width:1500px;overflow:auto;\">\n",
       "<table border=\"1\" class=\"dataframe\">\n",
       "  <thead>\n",
       "    <tr style=\"text-align: right;\">\n",
       "      <th></th>\n",
       "      <th>one</th>\n",
       "      <th>two</th>\n",
       "    </tr>\n",
       "  </thead>\n",
       "  <tbody>\n",
       "    <tr>\n",
       "      <th>a</th>\n",
       "      <td> 1</td>\n",
       "      <td> 4</td>\n",
       "    </tr>\n",
       "    <tr>\n",
       "      <th>b</th>\n",
       "      <td> 2</td>\n",
       "      <td> 3</td>\n",
       "    </tr>\n",
       "    <tr>\n",
       "      <th>c</th>\n",
       "      <td> 3</td>\n",
       "      <td> 2</td>\n",
       "    </tr>\n",
       "    <tr>\n",
       "      <th>d</th>\n",
       "      <td> 4</td>\n",
       "      <td> 1</td>\n",
       "    </tr>\n",
       "  </tbody>\n",
       "</table>\n",
       "</div>"
      ],
      "text/plain": [
       "   one  two\n",
       "a    1    4\n",
       "b    2    3\n",
       "c    3    2\n",
       "d    4    1"
      ]
     },
     "execution_count": 16,
     "metadata": {},
     "output_type": "execute_result"
    }
   ],
   "source": [
    "pd.DataFrame(d, index = ['a','b','c','d'])"
   ]
  },
  {
   "cell_type": "markdown",
   "metadata": {},
   "source": [
    "**From structured or record array**\n",
    "\n",
    "This case is handled identically to a dict of arrays.\n",
    "** TODO: explain better dtype in numpy **"
   ]
  },
  {
   "cell_type": "code",
   "execution_count": 21,
   "metadata": {
    "collapsed": false
   },
   "outputs": [
    {
     "name": "stdout",
     "output_type": "stream",
     "text": [
      "[(0, 0.0, '') (0, 0.0, '')]\n",
      "[(1, 2.0, 'Hello') (2, 3.0, 'World')]\n"
     ]
    },
    {
     "data": {
      "text/html": [
       "<div style=\"max-height:1000px;max-width:1500px;overflow:auto;\">\n",
       "<table border=\"1\" class=\"dataframe\">\n",
       "  <thead>\n",
       "    <tr style=\"text-align: right;\">\n",
       "      <th></th>\n",
       "      <th>A</th>\n",
       "      <th>B</th>\n",
       "      <th>C</th>\n",
       "    </tr>\n",
       "  </thead>\n",
       "  <tbody>\n",
       "    <tr>\n",
       "      <th>0</th>\n",
       "      <td> 1</td>\n",
       "      <td> 2</td>\n",
       "      <td> Hello</td>\n",
       "    </tr>\n",
       "    <tr>\n",
       "      <th>1</th>\n",
       "      <td> 2</td>\n",
       "      <td> 3</td>\n",
       "      <td> World</td>\n",
       "    </tr>\n",
       "  </tbody>\n",
       "</table>\n",
       "</div>"
      ],
      "text/plain": [
       "   A  B      C\n",
       "0  1  2  Hello\n",
       "1  2  3  World"
      ]
     },
     "execution_count": 21,
     "metadata": {},
     "output_type": "execute_result"
    }
   ],
   "source": [
    "data = np.zeros((2,), dtype=[('A', 'i4'),('B', 'f4'),('C', 'a10')])\n",
    "print data\n",
    "data[:] = [(1,2.,'Hello'), (2,3.,\"World\")]\n",
    "print data\n",
    "pd.DataFrame(data)"
   ]
  },
  {
   "cell_type": "code",
   "execution_count": 22,
   "metadata": {
    "collapsed": false
   },
   "outputs": [
    {
     "data": {
      "text/html": [
       "<div style=\"max-height:1000px;max-width:1500px;overflow:auto;\">\n",
       "<table border=\"1\" class=\"dataframe\">\n",
       "  <thead>\n",
       "    <tr style=\"text-align: right;\">\n",
       "      <th></th>\n",
       "      <th>A</th>\n",
       "      <th>B</th>\n",
       "      <th>C</th>\n",
       "    </tr>\n",
       "  </thead>\n",
       "  <tbody>\n",
       "    <tr>\n",
       "      <th>first</th>\n",
       "      <td> 1</td>\n",
       "      <td> 2</td>\n",
       "      <td> Hello</td>\n",
       "    </tr>\n",
       "    <tr>\n",
       "      <th>second</th>\n",
       "      <td> 2</td>\n",
       "      <td> 3</td>\n",
       "      <td> World</td>\n",
       "    </tr>\n",
       "  </tbody>\n",
       "</table>\n",
       "</div>"
      ],
      "text/plain": [
       "        A  B      C\n",
       "first   1  2  Hello\n",
       "second  2  3  World"
      ]
     },
     "execution_count": 22,
     "metadata": {},
     "output_type": "execute_result"
    }
   ],
   "source": [
    "pd.DataFrame(data, index=['first', 'second'])"
   ]
  },
  {
   "cell_type": "code",
   "execution_count": 23,
   "metadata": {
    "collapsed": false
   },
   "outputs": [
    {
     "data": {
      "text/html": [
       "<div style=\"max-height:1000px;max-width:1500px;overflow:auto;\">\n",
       "<table border=\"1\" class=\"dataframe\">\n",
       "  <thead>\n",
       "    <tr style=\"text-align: right;\">\n",
       "      <th></th>\n",
       "      <th>C</th>\n",
       "      <th>A</th>\n",
       "      <th>B</th>\n",
       "    </tr>\n",
       "  </thead>\n",
       "  <tbody>\n",
       "    <tr>\n",
       "      <th>0</th>\n",
       "      <td> Hello</td>\n",
       "      <td> 1</td>\n",
       "      <td> 2</td>\n",
       "    </tr>\n",
       "    <tr>\n",
       "      <th>1</th>\n",
       "      <td> World</td>\n",
       "      <td> 2</td>\n",
       "      <td> 3</td>\n",
       "    </tr>\n",
       "  </tbody>\n",
       "</table>\n",
       "</div>"
      ],
      "text/plain": [
       "       C  A  B\n",
       "0  Hello  1  2\n",
       "1  World  2  3"
      ]
     },
     "execution_count": 23,
     "metadata": {},
     "output_type": "execute_result"
    }
   ],
   "source": [
    "pd.DataFrame(data, columns=['C', 'A', 'B'])"
   ]
  },
  {
   "cell_type": "markdown",
   "metadata": {},
   "source": [
    "** From a list of dicts **"
   ]
  },
  {
   "cell_type": "code",
   "execution_count": 26,
   "metadata": {
    "collapsed": false
   },
   "outputs": [
    {
     "data": {
      "text/html": [
       "<div style=\"max-height:1000px;max-width:1500px;overflow:auto;\">\n",
       "<table border=\"1\" class=\"dataframe\">\n",
       "  <thead>\n",
       "    <tr style=\"text-align: right;\">\n",
       "      <th></th>\n",
       "      <th>a</th>\n",
       "      <th>b</th>\n",
       "      <th>c</th>\n",
       "    </tr>\n",
       "  </thead>\n",
       "  <tbody>\n",
       "    <tr>\n",
       "      <th>0</th>\n",
       "      <td> 1</td>\n",
       "      <td>  2</td>\n",
       "      <td>NaN</td>\n",
       "    </tr>\n",
       "    <tr>\n",
       "      <th>1</th>\n",
       "      <td> 5</td>\n",
       "      <td> 10</td>\n",
       "      <td> 20</td>\n",
       "    </tr>\n",
       "  </tbody>\n",
       "</table>\n",
       "</div>"
      ],
      "text/plain": [
       "   a   b   c\n",
       "0  1   2 NaN\n",
       "1  5  10  20"
      ]
     },
     "execution_count": 26,
     "metadata": {},
     "output_type": "execute_result"
    }
   ],
   "source": [
    "data2 = [{'a': 1, 'b': 2}, {'a': 5, 'b': 10, 'c': 20}]\n",
    "pd.DataFrame(data2)"
   ]
  },
  {
   "cell_type": "code",
   "execution_count": 27,
   "metadata": {
    "collapsed": false
   },
   "outputs": [
    {
     "data": {
      "text/html": [
       "<div style=\"max-height:1000px;max-width:1500px;overflow:auto;\">\n",
       "<table border=\"1\" class=\"dataframe\">\n",
       "  <thead>\n",
       "    <tr style=\"text-align: right;\">\n",
       "      <th></th>\n",
       "      <th>a</th>\n",
       "      <th>b</th>\n",
       "      <th>c</th>\n",
       "    </tr>\n",
       "  </thead>\n",
       "  <tbody>\n",
       "    <tr>\n",
       "      <th>first</th>\n",
       "      <td> 1</td>\n",
       "      <td>  2</td>\n",
       "      <td>NaN</td>\n",
       "    </tr>\n",
       "    <tr>\n",
       "      <th>second</th>\n",
       "      <td> 5</td>\n",
       "      <td> 10</td>\n",
       "      <td> 20</td>\n",
       "    </tr>\n",
       "  </tbody>\n",
       "</table>\n",
       "</div>"
      ],
      "text/plain": [
       "        a   b   c\n",
       "first   1   2 NaN\n",
       "second  5  10  20"
      ]
     },
     "execution_count": 27,
     "metadata": {},
     "output_type": "execute_result"
    }
   ],
   "source": [
    "pd.DataFrame(data2, index=['first', 'second'])"
   ]
  },
  {
   "cell_type": "code",
   "execution_count": 29,
   "metadata": {
    "collapsed": false
   },
   "outputs": [
    {
     "data": {
      "text/html": [
       "<div style=\"max-height:1000px;max-width:1500px;overflow:auto;\">\n",
       "<table border=\"1\" class=\"dataframe\">\n",
       "  <thead>\n",
       "    <tr style=\"text-align: right;\">\n",
       "      <th></th>\n",
       "      <th>a</th>\n",
       "      <th>b</th>\n",
       "    </tr>\n",
       "  </thead>\n",
       "  <tbody>\n",
       "    <tr>\n",
       "      <th>0</th>\n",
       "      <td> 1</td>\n",
       "      <td>  2</td>\n",
       "    </tr>\n",
       "    <tr>\n",
       "      <th>1</th>\n",
       "      <td> 5</td>\n",
       "      <td> 10</td>\n",
       "    </tr>\n",
       "  </tbody>\n",
       "</table>\n",
       "</div>"
      ],
      "text/plain": [
       "   a   b\n",
       "0  1   2\n",
       "1  5  10"
      ]
     },
     "execution_count": 29,
     "metadata": {},
     "output_type": "execute_result"
    }
   ],
   "source": [
    "pd.DataFrame(data2, columns=['a', 'b'])"
   ]
  },
  {
   "cell_type": "markdown",
   "metadata": {},
   "source": [
    "**From a dict of tuples**\n",
    "\n",
    "You can automatically create a multi-indexed frame by passing a tuples dictionary\n",
    "\n",
    "\n",
    "\n"
   ]
  },
  {
   "cell_type": "code",
   "execution_count": 30,
   "metadata": {
    "collapsed": false
   },
   "outputs": [
    {
     "data": {
      "text/html": [
       "<div style=\"max-height:1000px;max-width:1500px;overflow:auto;\">\n",
       "<table border=\"1\" class=\"dataframe\">\n",
       "  <thead>\n",
       "    <tr>\n",
       "      <th></th>\n",
       "      <th></th>\n",
       "      <th colspan=\"3\" halign=\"left\">a</th>\n",
       "      <th colspan=\"2\" halign=\"left\">b</th>\n",
       "    </tr>\n",
       "    <tr>\n",
       "      <th></th>\n",
       "      <th></th>\n",
       "      <th>a</th>\n",
       "      <th>b</th>\n",
       "      <th>c</th>\n",
       "      <th>a</th>\n",
       "      <th>b</th>\n",
       "    </tr>\n",
       "  </thead>\n",
       "  <tbody>\n",
       "    <tr>\n",
       "      <th rowspan=\"3\" valign=\"top\">A</th>\n",
       "      <th>B</th>\n",
       "      <td>  4</td>\n",
       "      <td>  1</td>\n",
       "      <td>  5</td>\n",
       "      <td>  8</td>\n",
       "      <td> 10</td>\n",
       "    </tr>\n",
       "    <tr>\n",
       "      <th>C</th>\n",
       "      <td>  3</td>\n",
       "      <td>  2</td>\n",
       "      <td>  6</td>\n",
       "      <td>  7</td>\n",
       "      <td>NaN</td>\n",
       "    </tr>\n",
       "    <tr>\n",
       "      <th>D</th>\n",
       "      <td>NaN</td>\n",
       "      <td>NaN</td>\n",
       "      <td>NaN</td>\n",
       "      <td>NaN</td>\n",
       "      <td>  9</td>\n",
       "    </tr>\n",
       "  </tbody>\n",
       "</table>\n",
       "</div>"
      ],
      "text/plain": [
       "      a           b    \n",
       "      a   b   c   a   b\n",
       "A B   4   1   5   8  10\n",
       "  C   3   2   6   7 NaN\n",
       "  D NaN NaN NaN NaN   9"
      ]
     },
     "execution_count": 30,
     "metadata": {},
     "output_type": "execute_result"
    }
   ],
   "source": [
    "pd.DataFrame({('a', 'b'): {('A', 'B'): 1, ('A', 'C'): 2},\n",
    "   ....:               ('a', 'a'): {('A', 'C'): 3, ('A', 'B'): 4},\n",
    "   ....:               ('a', 'c'): {('A', 'B'): 5, ('A', 'C'): 6},\n",
    "   ....:               ('b', 'a'): {('A', 'C'): 7, ('A', 'B'): 8},\n",
    "   ....:               ('b', 'b'): {('A', 'D'): 9, ('A', 'B'): 10}})"
   ]
  },
  {
   "cell_type": "markdown",
   "metadata": {},
   "source": [
    "[Alternate constructors](http://pandas.pydata.org/pandas-docs/stable/dsintro.html#alternate-constructors)"
   ]
  },
  {
   "cell_type": "markdown",
   "metadata": {},
   "source": [
    "### Column selection, addition, deletion\n",
    "\n",
    "We will go through these examples using a real dataset. Remember from Series examples that we loaded a csv. We did it using <code> csv </code> library, however, Pandas provide the necessary tools to read a csv file and output a DataFrame. Let's see an example using [OpenFlight](http://openflights.org/data.html) data. The data is structured as follows:\n",
    "\n",
    "* **Airport ID**\tUnique OpenFlights identifier for this airport.\n",
    "* **Name**\tName of airport. May or may not contain the City name.\n",
    "* **City**\tMain city served by airport. May be spelled differently from Name.\n",
    "* **Country**\tCountry or territory where airport is located.\n",
    "* **IATA/FAA**\t3-letter FAA code, for airports located in Country \"United States of America\". 3-letter IATA code, for all other airports. Blank if not assigned.\n",
    "* **ICAO**\t4-letter ICAO code. Blank if not assigned.\n",
    "* **Latitude**\tDecimal degrees, usually to six significant digits. Negative is South, positive is North.\n",
    "* **Longitude**\tDecimal degrees, usually to six significant digits. Negative is West, positive is East.\n",
    "* **Altitude**\tIn feet.\n",
    "* **Timezone**\tHours offset from UTC. Fractional hours are expressed as decimals, eg. India is 5.5.\n",
    "* **DST**\tDaylight savings time. One of E (Europe), A (US/Canada), S (South America), O (Australia), Z (New Zealand), N (None) or U (Unknown). See also: Help: Time\n",
    "* **Tz database time zone**\tTimezone in \"tz\" (Olson) format, eg. \"America/Los_Angeles\"."
   ]
  },
  {
   "cell_type": "code",
   "execution_count": 3,
   "metadata": {
    "collapsed": false
   },
   "outputs": [
    {
     "data": {
      "text/html": [
       "<div>\n",
       "<table border=\"1\" class=\"dataframe\">\n",
       "  <thead>\n",
       "    <tr style=\"text-align: right;\">\n",
       "      <th></th>\n",
       "      <th>Airport ID</th>\n",
       "      <th>Name</th>\n",
       "      <th>City</th>\n",
       "      <th>Country</th>\n",
       "      <th>IATA/FAA</th>\n",
       "      <th>ICAO</th>\n",
       "      <th>Latitude</th>\n",
       "      <th>Longitude</th>\n",
       "      <th>Altitude</th>\n",
       "      <th>Timezone</th>\n",
       "      <th>DST</th>\n",
       "      <th>Tz database time zone</th>\n",
       "    </tr>\n",
       "  </thead>\n",
       "  <tbody>\n",
       "    <tr>\n",
       "      <th>0</th>\n",
       "      <td>1</td>\n",
       "      <td>Goroka</td>\n",
       "      <td>Goroka</td>\n",
       "      <td>Papua New Guinea</td>\n",
       "      <td>GKA</td>\n",
       "      <td>AYGA</td>\n",
       "      <td>-6.081689</td>\n",
       "      <td>145.391881</td>\n",
       "      <td>5282</td>\n",
       "      <td>10.0</td>\n",
       "      <td>U</td>\n",
       "      <td>Pacific/Port_Moresby</td>\n",
       "    </tr>\n",
       "    <tr>\n",
       "      <th>1</th>\n",
       "      <td>2</td>\n",
       "      <td>Madang</td>\n",
       "      <td>Madang</td>\n",
       "      <td>Papua New Guinea</td>\n",
       "      <td>MAG</td>\n",
       "      <td>AYMD</td>\n",
       "      <td>-5.207083</td>\n",
       "      <td>145.788700</td>\n",
       "      <td>20</td>\n",
       "      <td>10.0</td>\n",
       "      <td>U</td>\n",
       "      <td>Pacific/Port_Moresby</td>\n",
       "    </tr>\n",
       "    <tr>\n",
       "      <th>2</th>\n",
       "      <td>3</td>\n",
       "      <td>Mount Hagen</td>\n",
       "      <td>Mount Hagen</td>\n",
       "      <td>Papua New Guinea</td>\n",
       "      <td>HGU</td>\n",
       "      <td>AYMH</td>\n",
       "      <td>-5.826789</td>\n",
       "      <td>144.295861</td>\n",
       "      <td>5388</td>\n",
       "      <td>10.0</td>\n",
       "      <td>U</td>\n",
       "      <td>Pacific/Port_Moresby</td>\n",
       "    </tr>\n",
       "    <tr>\n",
       "      <th>3</th>\n",
       "      <td>4</td>\n",
       "      <td>Nadzab</td>\n",
       "      <td>Nadzab</td>\n",
       "      <td>Papua New Guinea</td>\n",
       "      <td>LAE</td>\n",
       "      <td>AYNZ</td>\n",
       "      <td>-6.569828</td>\n",
       "      <td>146.726242</td>\n",
       "      <td>239</td>\n",
       "      <td>10.0</td>\n",
       "      <td>U</td>\n",
       "      <td>Pacific/Port_Moresby</td>\n",
       "    </tr>\n",
       "    <tr>\n",
       "      <th>4</th>\n",
       "      <td>5</td>\n",
       "      <td>Port Moresby Jacksons Intl</td>\n",
       "      <td>Port Moresby</td>\n",
       "      <td>Papua New Guinea</td>\n",
       "      <td>POM</td>\n",
       "      <td>AYPY</td>\n",
       "      <td>-9.443383</td>\n",
       "      <td>147.220050</td>\n",
       "      <td>146</td>\n",
       "      <td>10.0</td>\n",
       "      <td>U</td>\n",
       "      <td>Pacific/Port_Moresby</td>\n",
       "    </tr>\n",
       "  </tbody>\n",
       "</table>\n",
       "</div>"
      ],
      "text/plain": [
       "   Airport ID                        Name          City           Country  \\\n",
       "0           1                      Goroka        Goroka  Papua New Guinea   \n",
       "1           2                      Madang        Madang  Papua New Guinea   \n",
       "2           3                 Mount Hagen   Mount Hagen  Papua New Guinea   \n",
       "3           4                      Nadzab        Nadzab  Papua New Guinea   \n",
       "4           5  Port Moresby Jacksons Intl  Port Moresby  Papua New Guinea   \n",
       "\n",
       "  IATA/FAA  ICAO  Latitude   Longitude  Altitude  Timezone DST  \\\n",
       "0      GKA  AYGA -6.081689  145.391881      5282      10.0   U   \n",
       "1      MAG  AYMD -5.207083  145.788700        20      10.0   U   \n",
       "2      HGU  AYMH -5.826789  144.295861      5388      10.0   U   \n",
       "3      LAE  AYNZ -6.569828  146.726242       239      10.0   U   \n",
       "4      POM  AYPY -9.443383  147.220050       146      10.0   U   \n",
       "\n",
       "  Tz database time zone  \n",
       "0  Pacific/Port_Moresby  \n",
       "1  Pacific/Port_Moresby  \n",
       "2  Pacific/Port_Moresby  \n",
       "3  Pacific/Port_Moresby  \n",
       "4  Pacific/Port_Moresby  "
      ]
     },
     "execution_count": 3,
     "metadata": {},
     "output_type": "execute_result"
    }
   ],
   "source": [
    "import pandas as pd\n",
    "import urllib2\n",
    "\n",
    "url = 'https://raw.githubusercontent.com/jpatokal/openflights/master/data/airports.dat'\n",
    "response = urllib2.urlopen(url)\n",
    "head = [\"Airport ID\", \"Name\", \"City\", \"Country\", \"IATA/FAA\", \"ICAO\", \"Latitude\", \"Longitude\", \n",
    "        \"Altitude\", \"Timezone\", \"DST\", \"Tz database time zone\"]\n",
    "data_frame = pd.read_csv(response,names=head)\n",
    "data_frame.head()"
   ]
  },
  {
   "cell_type": "code",
   "execution_count": 4,
   "metadata": {
    "collapsed": false
   },
   "outputs": [
    {
     "data": {
      "text/plain": [
       "0                        Goroka\n",
       "1                        Madang\n",
       "2                   Mount Hagen\n",
       "3                        Nadzab\n",
       "4    Port Moresby Jacksons Intl\n",
       "Name: Name, dtype: object"
      ]
     },
     "execution_count": 4,
     "metadata": {},
     "output_type": "execute_result"
    }
   ],
   "source": [
    "data_frame[\"Name\"].head()"
   ]
  },
  {
   "cell_type": "code",
   "execution_count": 5,
   "metadata": {
    "collapsed": false
   },
   "outputs": [
    {
     "data": {
      "text/plain": [
       "0                        GorokaAYGA\n",
       "1                        MadangAYMD\n",
       "2                   Mount HagenAYMH\n",
       "3                        NadzabAYNZ\n",
       "4    Port Moresby Jacksons IntlAYPY\n",
       "dtype: object"
      ]
     },
     "execution_count": 5,
     "metadata": {},
     "output_type": "execute_result"
    }
   ],
   "source": [
    "(data_frame[\"Name\"] + data_frame[\"ICAO\"]).head()"
   ]
  },
  {
   "cell_type": "code",
   "execution_count": 5,
   "metadata": {
    "collapsed": false
   },
   "outputs": [
    {
     "data": {
      "text/html": [
       "<div>\n",
       "<table border=\"1\" class=\"dataframe\">\n",
       "  <thead>\n",
       "    <tr style=\"text-align: right;\">\n",
       "      <th></th>\n",
       "      <th>Airport ID</th>\n",
       "      <th>Name</th>\n",
       "      <th>City</th>\n",
       "      <th>Country</th>\n",
       "      <th>IATA/FAA</th>\n",
       "      <th>ICAO</th>\n",
       "      <th>Latitude</th>\n",
       "      <th>Longitude</th>\n",
       "      <th>Altitude</th>\n",
       "      <th>Timezone</th>\n",
       "      <th>DST</th>\n",
       "      <th>Tz database time zone</th>\n",
       "      <th>Altitude (m)</th>\n",
       "      <th>Seaside</th>\n",
       "    </tr>\n",
       "  </thead>\n",
       "  <tbody>\n",
       "    <tr>\n",
       "      <th>1</th>\n",
       "      <td>2</td>\n",
       "      <td>Madang</td>\n",
       "      <td>Madang</td>\n",
       "      <td>Papua New Guinea</td>\n",
       "      <td>MAG</td>\n",
       "      <td>AYMD</td>\n",
       "      <td>-5.207083</td>\n",
       "      <td>145.788700</td>\n",
       "      <td>20</td>\n",
       "      <td>10.0</td>\n",
       "      <td>U</td>\n",
       "      <td>Pacific/Port_Moresby</td>\n",
       "      <td>6.0960</td>\n",
       "      <td>True</td>\n",
       "    </tr>\n",
       "    <tr>\n",
       "      <th>5</th>\n",
       "      <td>6</td>\n",
       "      <td>Wewak Intl</td>\n",
       "      <td>Wewak</td>\n",
       "      <td>Papua New Guinea</td>\n",
       "      <td>WWK</td>\n",
       "      <td>AYWK</td>\n",
       "      <td>-3.583828</td>\n",
       "      <td>143.669186</td>\n",
       "      <td>19</td>\n",
       "      <td>10.0</td>\n",
       "      <td>U</td>\n",
       "      <td>Pacific/Port_Moresby</td>\n",
       "      <td>5.7912</td>\n",
       "      <td>True</td>\n",
       "    </tr>\n",
       "    <tr>\n",
       "      <th>10</th>\n",
       "      <td>11</td>\n",
       "      <td>Akureyri</td>\n",
       "      <td>Akureyri</td>\n",
       "      <td>Iceland</td>\n",
       "      <td>AEY</td>\n",
       "      <td>BIAR</td>\n",
       "      <td>65.659994</td>\n",
       "      <td>-18.072703</td>\n",
       "      <td>6</td>\n",
       "      <td>0.0</td>\n",
       "      <td>N</td>\n",
       "      <td>Atlantic/Reykjavik</td>\n",
       "      <td>1.8288</td>\n",
       "      <td>True</td>\n",
       "    </tr>\n",
       "    <tr>\n",
       "      <th>12</th>\n",
       "      <td>13</td>\n",
       "      <td>Hornafjordur</td>\n",
       "      <td>Hofn</td>\n",
       "      <td>Iceland</td>\n",
       "      <td>HFN</td>\n",
       "      <td>BIHN</td>\n",
       "      <td>64.295556</td>\n",
       "      <td>-15.227222</td>\n",
       "      <td>24</td>\n",
       "      <td>0.0</td>\n",
       "      <td>N</td>\n",
       "      <td>Atlantic/Reykjavik</td>\n",
       "      <td>7.3152</td>\n",
       "      <td>True</td>\n",
       "    </tr>\n",
       "    <tr>\n",
       "      <th>13</th>\n",
       "      <td>14</td>\n",
       "      <td>Husavik</td>\n",
       "      <td>Husavik</td>\n",
       "      <td>Iceland</td>\n",
       "      <td>HZK</td>\n",
       "      <td>BIHU</td>\n",
       "      <td>65.952328</td>\n",
       "      <td>-17.425978</td>\n",
       "      <td>48</td>\n",
       "      <td>0.0</td>\n",
       "      <td>N</td>\n",
       "      <td>Atlantic/Reykjavik</td>\n",
       "      <td>14.6304</td>\n",
       "      <td>True</td>\n",
       "    </tr>\n",
       "  </tbody>\n",
       "</table>\n",
       "</div>"
      ],
      "text/plain": [
       "    Airport ID          Name      City           Country IATA/FAA  ICAO  \\\n",
       "1            2        Madang    Madang  Papua New Guinea      MAG  AYMD   \n",
       "5            6    Wewak Intl     Wewak  Papua New Guinea      WWK  AYWK   \n",
       "10          11      Akureyri  Akureyri           Iceland      AEY  BIAR   \n",
       "12          13  Hornafjordur      Hofn           Iceland      HFN  BIHN   \n",
       "13          14       Husavik   Husavik           Iceland      HZK  BIHU   \n",
       "\n",
       "     Latitude   Longitude  Altitude  Timezone DST Tz database time zone  \\\n",
       "1   -5.207083  145.788700        20      10.0   U  Pacific/Port_Moresby   \n",
       "5   -3.583828  143.669186        19      10.0   U  Pacific/Port_Moresby   \n",
       "10  65.659994  -18.072703         6       0.0   N    Atlantic/Reykjavik   \n",
       "12  64.295556  -15.227222        24       0.0   N    Atlantic/Reykjavik   \n",
       "13  65.952328  -17.425978        48       0.0   N    Atlantic/Reykjavik   \n",
       "\n",
       "    Altitude (m) Seaside  \n",
       "1         6.0960    True  \n",
       "5         5.7912    True  \n",
       "10        1.8288    True  \n",
       "12        7.3152    True  \n",
       "13       14.6304    True  "
      ]
     },
     "execution_count": 5,
     "metadata": {},
     "output_type": "execute_result"
    }
   ],
   "source": [
    "data_frame[\"Altitude (m)\"] = (data_frame[\"Altitude\"] * 0.3048)\n",
    "data_frame[\"Seaside\"] = data_frame[\"Altitude (m)\"] < 20\n",
    "data_frame[data_frame[\"Seaside\"]].head()"
   ]
  },
  {
   "cell_type": "code",
   "execution_count": 6,
   "metadata": {
    "collapsed": false
   },
   "outputs": [
    {
     "name": "stdout",
     "output_type": "stream",
     "text": [
      "0    False\n",
      "1     True\n",
      "2    False\n",
      "3    False\n",
      "4    False\n",
      "Name: Seaside, dtype: bool\n"
     ]
    },
    {
     "data": {
      "text/html": [
       "<div>\n",
       "<table border=\"1\" class=\"dataframe\">\n",
       "  <thead>\n",
       "    <tr style=\"text-align: right;\">\n",
       "      <th></th>\n",
       "      <th>Airport ID</th>\n",
       "      <th>Name</th>\n",
       "      <th>City</th>\n",
       "      <th>Country</th>\n",
       "      <th>IATA/FAA</th>\n",
       "      <th>ICAO</th>\n",
       "      <th>Latitude</th>\n",
       "      <th>Longitude</th>\n",
       "      <th>Timezone</th>\n",
       "      <th>DST</th>\n",
       "      <th>Tz database time zone</th>\n",
       "      <th>Altitude (m)</th>\n",
       "    </tr>\n",
       "  </thead>\n",
       "  <tbody>\n",
       "    <tr>\n",
       "      <th>0</th>\n",
       "      <td>1</td>\n",
       "      <td>Goroka</td>\n",
       "      <td>Goroka</td>\n",
       "      <td>Papua New Guinea</td>\n",
       "      <td>GKA</td>\n",
       "      <td>AYGA</td>\n",
       "      <td>-6.081689</td>\n",
       "      <td>145.391881</td>\n",
       "      <td>10.0</td>\n",
       "      <td>U</td>\n",
       "      <td>Pacific/Port_Moresby</td>\n",
       "      <td>1609.9536</td>\n",
       "    </tr>\n",
       "    <tr>\n",
       "      <th>1</th>\n",
       "      <td>2</td>\n",
       "      <td>Madang</td>\n",
       "      <td>Madang</td>\n",
       "      <td>Papua New Guinea</td>\n",
       "      <td>MAG</td>\n",
       "      <td>AYMD</td>\n",
       "      <td>-5.207083</td>\n",
       "      <td>145.788700</td>\n",
       "      <td>10.0</td>\n",
       "      <td>U</td>\n",
       "      <td>Pacific/Port_Moresby</td>\n",
       "      <td>6.0960</td>\n",
       "    </tr>\n",
       "    <tr>\n",
       "      <th>2</th>\n",
       "      <td>3</td>\n",
       "      <td>Mount Hagen</td>\n",
       "      <td>Mount Hagen</td>\n",
       "      <td>Papua New Guinea</td>\n",
       "      <td>HGU</td>\n",
       "      <td>AYMH</td>\n",
       "      <td>-5.826789</td>\n",
       "      <td>144.295861</td>\n",
       "      <td>10.0</td>\n",
       "      <td>U</td>\n",
       "      <td>Pacific/Port_Moresby</td>\n",
       "      <td>1642.2624</td>\n",
       "    </tr>\n",
       "    <tr>\n",
       "      <th>3</th>\n",
       "      <td>4</td>\n",
       "      <td>Nadzab</td>\n",
       "      <td>Nadzab</td>\n",
       "      <td>Papua New Guinea</td>\n",
       "      <td>LAE</td>\n",
       "      <td>AYNZ</td>\n",
       "      <td>-6.569828</td>\n",
       "      <td>146.726242</td>\n",
       "      <td>10.0</td>\n",
       "      <td>U</td>\n",
       "      <td>Pacific/Port_Moresby</td>\n",
       "      <td>72.8472</td>\n",
       "    </tr>\n",
       "    <tr>\n",
       "      <th>4</th>\n",
       "      <td>5</td>\n",
       "      <td>Port Moresby Jacksons Intl</td>\n",
       "      <td>Port Moresby</td>\n",
       "      <td>Papua New Guinea</td>\n",
       "      <td>POM</td>\n",
       "      <td>AYPY</td>\n",
       "      <td>-9.443383</td>\n",
       "      <td>147.220050</td>\n",
       "      <td>10.0</td>\n",
       "      <td>U</td>\n",
       "      <td>Pacific/Port_Moresby</td>\n",
       "      <td>44.5008</td>\n",
       "    </tr>\n",
       "  </tbody>\n",
       "</table>\n",
       "</div>"
      ],
      "text/plain": [
       "   Airport ID                        Name          City           Country  \\\n",
       "0           1                      Goroka        Goroka  Papua New Guinea   \n",
       "1           2                      Madang        Madang  Papua New Guinea   \n",
       "2           3                 Mount Hagen   Mount Hagen  Papua New Guinea   \n",
       "3           4                      Nadzab        Nadzab  Papua New Guinea   \n",
       "4           5  Port Moresby Jacksons Intl  Port Moresby  Papua New Guinea   \n",
       "\n",
       "  IATA/FAA  ICAO  Latitude   Longitude  Timezone DST Tz database time zone  \\\n",
       "0      GKA  AYGA -6.081689  145.391881      10.0   U  Pacific/Port_Moresby   \n",
       "1      MAG  AYMD -5.207083  145.788700      10.0   U  Pacific/Port_Moresby   \n",
       "2      HGU  AYMH -5.826789  144.295861      10.0   U  Pacific/Port_Moresby   \n",
       "3      LAE  AYNZ -6.569828  146.726242      10.0   U  Pacific/Port_Moresby   \n",
       "4      POM  AYPY -9.443383  147.220050      10.0   U  Pacific/Port_Moresby   \n",
       "\n",
       "   Altitude (m)  \n",
       "0     1609.9536  \n",
       "1        6.0960  \n",
       "2     1642.2624  \n",
       "3       72.8472  \n",
       "4       44.5008  "
      ]
     },
     "execution_count": 6,
     "metadata": {},
     "output_type": "execute_result"
    }
   ],
   "source": [
    "# Columns can be deleted or popped like with a dict:\n",
    "del data_frame[\"Altitude\"]\n",
    "seaside = data_frame.pop('Seaside')\n",
    "print seaside.head()\n",
    "data_frame.head()"
   ]
  },
  {
   "cell_type": "code",
   "execution_count": 7,
   "metadata": {
    "collapsed": true
   },
   "outputs": [],
   "source": [
    "# When inserting a scalar value, it will naturally be propagated to fill the column:\n",
    "data_frame[\"Infrastructure\"] = \"Airport\" "
   ]
  },
  {
   "cell_type": "markdown",
   "metadata": {},
   "source": [
    "** Assigning New Columns in Method Chains **\n",
    "\n",
    "Inspired by dplyr’s <code> mutate </code> verb, DataFrame has an assign() method that allows you to easily create new columns that are potentially derived from existing columns."
   ]
  },
  {
   "cell_type": "code",
   "execution_count": 8,
   "metadata": {
    "collapsed": false
   },
   "outputs": [
    {
     "data": {
      "text/html": [
       "<div>\n",
       "<table border=\"1\" class=\"dataframe\">\n",
       "  <thead>\n",
       "    <tr style=\"text-align: right;\">\n",
       "      <th></th>\n",
       "      <th>Airport ID</th>\n",
       "      <th>Name</th>\n",
       "      <th>City</th>\n",
       "      <th>Country</th>\n",
       "      <th>IATA/FAA</th>\n",
       "      <th>ICAO</th>\n",
       "      <th>Latitude</th>\n",
       "      <th>Longitude</th>\n",
       "      <th>Timezone</th>\n",
       "      <th>DST</th>\n",
       "      <th>Tz database time zone</th>\n",
       "      <th>Altitude (m)</th>\n",
       "      <th>Infrastructure</th>\n",
       "      <th>hemisphere_north</th>\n",
       "    </tr>\n",
       "  </thead>\n",
       "  <tbody>\n",
       "    <tr>\n",
       "      <th>0</th>\n",
       "      <td>1</td>\n",
       "      <td>Goroka</td>\n",
       "      <td>Goroka</td>\n",
       "      <td>Papua New Guinea</td>\n",
       "      <td>GKA</td>\n",
       "      <td>AYGA</td>\n",
       "      <td>-6.081689</td>\n",
       "      <td>145.391881</td>\n",
       "      <td>10.0</td>\n",
       "      <td>U</td>\n",
       "      <td>Pacific/Port_Moresby</td>\n",
       "      <td>1609.9536</td>\n",
       "      <td>Airport</td>\n",
       "      <td>False</td>\n",
       "    </tr>\n",
       "    <tr>\n",
       "      <th>1</th>\n",
       "      <td>2</td>\n",
       "      <td>Madang</td>\n",
       "      <td>Madang</td>\n",
       "      <td>Papua New Guinea</td>\n",
       "      <td>MAG</td>\n",
       "      <td>AYMD</td>\n",
       "      <td>-5.207083</td>\n",
       "      <td>145.788700</td>\n",
       "      <td>10.0</td>\n",
       "      <td>U</td>\n",
       "      <td>Pacific/Port_Moresby</td>\n",
       "      <td>6.0960</td>\n",
       "      <td>Airport</td>\n",
       "      <td>False</td>\n",
       "    </tr>\n",
       "    <tr>\n",
       "      <th>2</th>\n",
       "      <td>3</td>\n",
       "      <td>Mount Hagen</td>\n",
       "      <td>Mount Hagen</td>\n",
       "      <td>Papua New Guinea</td>\n",
       "      <td>HGU</td>\n",
       "      <td>AYMH</td>\n",
       "      <td>-5.826789</td>\n",
       "      <td>144.295861</td>\n",
       "      <td>10.0</td>\n",
       "      <td>U</td>\n",
       "      <td>Pacific/Port_Moresby</td>\n",
       "      <td>1642.2624</td>\n",
       "      <td>Airport</td>\n",
       "      <td>False</td>\n",
       "    </tr>\n",
       "    <tr>\n",
       "      <th>3</th>\n",
       "      <td>4</td>\n",
       "      <td>Nadzab</td>\n",
       "      <td>Nadzab</td>\n",
       "      <td>Papua New Guinea</td>\n",
       "      <td>LAE</td>\n",
       "      <td>AYNZ</td>\n",
       "      <td>-6.569828</td>\n",
       "      <td>146.726242</td>\n",
       "      <td>10.0</td>\n",
       "      <td>U</td>\n",
       "      <td>Pacific/Port_Moresby</td>\n",
       "      <td>72.8472</td>\n",
       "      <td>Airport</td>\n",
       "      <td>False</td>\n",
       "    </tr>\n",
       "    <tr>\n",
       "      <th>4</th>\n",
       "      <td>5</td>\n",
       "      <td>Port Moresby Jacksons Intl</td>\n",
       "      <td>Port Moresby</td>\n",
       "      <td>Papua New Guinea</td>\n",
       "      <td>POM</td>\n",
       "      <td>AYPY</td>\n",
       "      <td>-9.443383</td>\n",
       "      <td>147.220050</td>\n",
       "      <td>10.0</td>\n",
       "      <td>U</td>\n",
       "      <td>Pacific/Port_Moresby</td>\n",
       "      <td>44.5008</td>\n",
       "      <td>Airport</td>\n",
       "      <td>False</td>\n",
       "    </tr>\n",
       "    <tr>\n",
       "      <th>5</th>\n",
       "      <td>6</td>\n",
       "      <td>Wewak Intl</td>\n",
       "      <td>Wewak</td>\n",
       "      <td>Papua New Guinea</td>\n",
       "      <td>WWK</td>\n",
       "      <td>AYWK</td>\n",
       "      <td>-3.583828</td>\n",
       "      <td>143.669186</td>\n",
       "      <td>10.0</td>\n",
       "      <td>U</td>\n",
       "      <td>Pacific/Port_Moresby</td>\n",
       "      <td>5.7912</td>\n",
       "      <td>Airport</td>\n",
       "      <td>False</td>\n",
       "    </tr>\n",
       "    <tr>\n",
       "      <th>6</th>\n",
       "      <td>7</td>\n",
       "      <td>Narsarsuaq</td>\n",
       "      <td>Narssarssuaq</td>\n",
       "      <td>Greenland</td>\n",
       "      <td>UAK</td>\n",
       "      <td>BGBW</td>\n",
       "      <td>61.160517</td>\n",
       "      <td>-45.425978</td>\n",
       "      <td>-3.0</td>\n",
       "      <td>E</td>\n",
       "      <td>America/Godthab</td>\n",
       "      <td>34.1376</td>\n",
       "      <td>Airport</td>\n",
       "      <td>True</td>\n",
       "    </tr>\n",
       "    <tr>\n",
       "      <th>7</th>\n",
       "      <td>8</td>\n",
       "      <td>Nuuk</td>\n",
       "      <td>Godthaab</td>\n",
       "      <td>Greenland</td>\n",
       "      <td>GOH</td>\n",
       "      <td>BGGH</td>\n",
       "      <td>64.190922</td>\n",
       "      <td>-51.678064</td>\n",
       "      <td>-3.0</td>\n",
       "      <td>E</td>\n",
       "      <td>America/Godthab</td>\n",
       "      <td>86.2584</td>\n",
       "      <td>Airport</td>\n",
       "      <td>True</td>\n",
       "    </tr>\n",
       "    <tr>\n",
       "      <th>8</th>\n",
       "      <td>9</td>\n",
       "      <td>Sondre Stromfjord</td>\n",
       "      <td>Sondrestrom</td>\n",
       "      <td>Greenland</td>\n",
       "      <td>SFJ</td>\n",
       "      <td>BGSF</td>\n",
       "      <td>67.016969</td>\n",
       "      <td>-50.689325</td>\n",
       "      <td>-3.0</td>\n",
       "      <td>E</td>\n",
       "      <td>America/Godthab</td>\n",
       "      <td>50.2920</td>\n",
       "      <td>Airport</td>\n",
       "      <td>True</td>\n",
       "    </tr>\n",
       "    <tr>\n",
       "      <th>9</th>\n",
       "      <td>10</td>\n",
       "      <td>Thule Air Base</td>\n",
       "      <td>Thule</td>\n",
       "      <td>Greenland</td>\n",
       "      <td>THU</td>\n",
       "      <td>BGTL</td>\n",
       "      <td>76.531203</td>\n",
       "      <td>-68.703161</td>\n",
       "      <td>-4.0</td>\n",
       "      <td>E</td>\n",
       "      <td>America/Thule</td>\n",
       "      <td>76.5048</td>\n",
       "      <td>Airport</td>\n",
       "      <td>True</td>\n",
       "    </tr>\n",
       "  </tbody>\n",
       "</table>\n",
       "</div>"
      ],
      "text/plain": [
       "   Airport ID                        Name          City           Country  \\\n",
       "0           1                      Goroka        Goroka  Papua New Guinea   \n",
       "1           2                      Madang        Madang  Papua New Guinea   \n",
       "2           3                 Mount Hagen   Mount Hagen  Papua New Guinea   \n",
       "3           4                      Nadzab        Nadzab  Papua New Guinea   \n",
       "4           5  Port Moresby Jacksons Intl  Port Moresby  Papua New Guinea   \n",
       "5           6                  Wewak Intl         Wewak  Papua New Guinea   \n",
       "6           7                  Narsarsuaq  Narssarssuaq         Greenland   \n",
       "7           8                        Nuuk      Godthaab         Greenland   \n",
       "8           9           Sondre Stromfjord   Sondrestrom         Greenland   \n",
       "9          10              Thule Air Base         Thule         Greenland   \n",
       "\n",
       "  IATA/FAA  ICAO   Latitude   Longitude  Timezone DST Tz database time zone  \\\n",
       "0      GKA  AYGA  -6.081689  145.391881      10.0   U  Pacific/Port_Moresby   \n",
       "1      MAG  AYMD  -5.207083  145.788700      10.0   U  Pacific/Port_Moresby   \n",
       "2      HGU  AYMH  -5.826789  144.295861      10.0   U  Pacific/Port_Moresby   \n",
       "3      LAE  AYNZ  -6.569828  146.726242      10.0   U  Pacific/Port_Moresby   \n",
       "4      POM  AYPY  -9.443383  147.220050      10.0   U  Pacific/Port_Moresby   \n",
       "5      WWK  AYWK  -3.583828  143.669186      10.0   U  Pacific/Port_Moresby   \n",
       "6      UAK  BGBW  61.160517  -45.425978      -3.0   E       America/Godthab   \n",
       "7      GOH  BGGH  64.190922  -51.678064      -3.0   E       America/Godthab   \n",
       "8      SFJ  BGSF  67.016969  -50.689325      -3.0   E       America/Godthab   \n",
       "9      THU  BGTL  76.531203  -68.703161      -4.0   E         America/Thule   \n",
       "\n",
       "   Altitude (m) Infrastructure hemisphere_north  \n",
       "0     1609.9536        Airport            False  \n",
       "1        6.0960        Airport            False  \n",
       "2     1642.2624        Airport            False  \n",
       "3       72.8472        Airport            False  \n",
       "4       44.5008        Airport            False  \n",
       "5        5.7912        Airport            False  \n",
       "6       34.1376        Airport             True  \n",
       "7       86.2584        Airport             True  \n",
       "8       50.2920        Airport             True  \n",
       "9       76.5048        Airport             True  "
      ]
     },
     "execution_count": 8,
     "metadata": {},
     "output_type": "execute_result"
    }
   ],
   "source": [
    "(data_frame.assign(hemisphere_north = lambda x: x['Latitude'].astype(float) > 0)).head(10)"
   ]
  },
  {
   "cell_type": "code",
   "execution_count": 9,
   "metadata": {
    "collapsed": false
   },
   "outputs": [
    {
     "data": {
      "text/plain": [
       "<matplotlib.axes._subplots.AxesSubplot at 0x9d55da0>"
      ]
     },
     "execution_count": 9,
     "metadata": {},
     "output_type": "execute_result"
    },
    {
     "data": {
      "image/png": "[encoded data removed]",
      "text/plain": [
       "<matplotlib.figure.Figure at 0x9d70a90>"
      ]
     },
     "metadata": {},
     "output_type": "display_data"
    }
   ],
   "source": [
    "%matplotlib inline\n",
    "(data_frame.assign(hemisphere_north = lambda x: x['Latitude'].astype(float) > 0)).plot(kind='bar', x='hemisphere_north')"
   ]
  },
  {
   "cell_type": "markdown",
   "metadata": {},
   "source": [
    "## Exercices\n",
    "\n",
    "!!!! TO BE DONE !!!!"
   ]
  }
 ],
 "metadata": {
  "anaconda-cloud": {},
  "kernelspec": {
   "display_name": "Python [Root]",
   "language": "python",
   "name": "Python [Root]"
  },
  "language_info": {
   "codemirror_mode": {
    "name": "ipython",
    "version": 2
   },
   "file_extension": ".py",
   "mimetype": "text/x-python",
   "name": "python",
   "nbconvert_exporter": "python",
   "pygments_lexer": "ipython2",
   "version": "2.7.12"
  }
 },
 "nbformat": 4,
 "nbformat_minor": 0
}
