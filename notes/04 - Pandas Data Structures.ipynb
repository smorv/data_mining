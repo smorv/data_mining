{
 "cells": [
  {
   "cell_type": "markdown",
   "metadata": {
    "collapsed": true,
    "nbpresent": {
     "id": "460d8967-e03b-4220-9d1c-2df3242fb783"
    }
   },
   "source": [
    "# Pandas Data Structures"
   ]
  },
  {
   "cell_type": "code",
   "execution_count": 2,
   "metadata": {
    "collapsed": true,
    "nbpresent": {
     "id": "93c4bbfc-5a8b-4818-8742-ba9a83f82c16"
    }
   },
   "outputs": [],
   "source": [
    "import numpy as np\n",
    "import pandas as pd"
   ]
  },
  {
   "cell_type": "markdown",
   "metadata": {
    "nbpresent": {
     "id": "9cd5db80-3ea7-4812-a69e-1caee37a3bc4"
    }
   },
   "source": [
    "Understanding language's data structures is the most important part for a good programming experience. Poor understanding of data structures leads to poor code in terms of efficiency and readability.\n",
    "\n",
    "These notes are devoted to walk through all Pandas structures but also providing further readings for a deeper knowledge. A previous Numpy datastructures knowledge is required.\n",
    "\n",
    "The covered Pandas data structures are:\n",
    "* Series:\n",
    "* DataFrames:"
   ]
  },
  {
   "cell_type": "markdown",
   "metadata": {
    "nbpresent": {
     "id": "ae53f425-b430-45a4-96e7-707b3165ab6b"
    }
   },
   "source": [
    "## Series\n",
    "\n",
    "Series is an one-dimension structures that can hold any data type (boolean, integer, float or even Python objects)."
   ]
  },
  {
   "cell_type": "markdown",
   "metadata": {
    "nbpresent": {
     "id": "f97dacea-46ab-4b8d-af8b-7242e1128ea8"
    }
   },
   "source": [
    "### Series Creation"
   ]
  },
  {
   "cell_type": "markdown",
   "metadata": {
    "nbpresent": {
     "id": "98fa0ab9-3feb-4a2f-9667-ad6c4a97c1bc"
    }
   },
   "source": [
    "We can create Series from:\n",
    "* Python dictionaries\n",
    "* Python List\n",
    "* NumPy ndarrays\n",
    "* a sclar value\n",
    "\n",
    "As optional parameter, qe can provide an index. The passed **index is a list of axis labels**. Indexes, this will provide an effective way to access data (slicing).\n",
    "\n",
    "Each Series has a dtype that corresponds to the variable type of Series."
   ]
  },
  {
   "cell_type": "markdown",
   "metadata": {
    "nbpresent": {
     "id": "a229ac0d-fde3-4912-a36c-722816ce7f5e"
    }
   },
   "source": [
    "** From dictionary: **\n",
    "\n",
    "In this case if no index is provided, it is extracted from dictionary keys, while the data is extracted from values."
   ]
  },
  {
   "cell_type": "code",
   "execution_count": 4,
   "metadata": {
    "collapsed": false,
    "nbpresent": {
     "id": "085101b3-9840-4b69-8a68-933f4cba671d"
    }
   },
   "outputs": [
    {
     "name": "stdout",
     "output_type": "stream",
     "text": [
      "a    5\n",
      "b    5\n",
      "c    5\n",
      "dtype: float64\n"
     ]
    },
    {
     "data": {
      "text/plain": [
       "Index([u'a', u'b', u'c'], dtype='object')"
      ]
     },
     "execution_count": 4,
     "metadata": {},
     "output_type": "execute_result"
    }
   ],
   "source": [
    "d = {'a':5.,'b':5.,'c':5.}\n",
    "i = ['x','y','z']\n",
    "s1 = pd.Series(d)\n",
    "print s1\n",
    "s1.index"
   ]
  },
  {
   "cell_type": "markdown",
   "metadata": {
    "nbpresent": {
     "id": "0d2dceb4-cb9f-462b-b5f1-b179b573105c"
    }
   },
   "source": [
    "Otherwise, if index is passed, values with keys in index are pulled out, the rest are assigned to NaN. A NaN value means not assigned, and we will have to deal with these values in the future.\n",
    "\n",
    "** What is NaN?? **\n",
    "(* from [Pandas docs](http://pandas.pydata.org/pandas-docs/stable/missing_data.html)*)\n",
    "Some might quibble over our usage of missing. By “missing” we simply mean null or “not present for whatever reason”. Many data sets simply arrive with missing data, either because it exists and was not collected or it never existed. For example, in a collection of financial time series, some of the time series might start on different dates. Thus, values prior to the start date would generally be marked as missing."
   ]
  },
  {
   "cell_type": "code",
   "execution_count": 8,
   "metadata": {
    "collapsed": false,
    "nbpresent": {
     "id": "05eb0fe1-ad20-4fef-913d-e9ffa13e6040"
    }
   },
   "outputs": [
    {
     "name": "stdout",
     "output_type": "stream",
     "text": [
      "x   NaN\n",
      "y   NaN\n",
      "a     5\n",
      "b     5\n",
      "dtype: float64\n",
      "float64\n"
     ]
    },
    {
     "data": {
      "text/plain": [
       "Index([u'x', u'y', u'a', u'b'], dtype='object')"
      ]
     },
     "execution_count": 8,
     "metadata": {},
     "output_type": "execute_result"
    }
   ],
   "source": [
    "d = {'a':5,'b':5,'c':5}\n",
    "i = ['x','y','a','b']\n",
    "s1 = pd.Series(d, index = i)\n",
    "print s1\n",
    "print s1.dtype\n",
    "s1.index"
   ]
  },
  {
   "cell_type": "markdown",
   "metadata": {
    "nbpresent": {
     "id": "51fc4011-00ec-4c89-9952-46d9416ee240"
    }
   },
   "source": [
    "**From list:**"
   ]
  },
  {
   "cell_type": "markdown",
   "metadata": {
    "nbpresent": {
     "id": "ce6b38da-a8ae-43f0-94c1-32d78ce8cd07"
    }
   },
   "source": [
    "We can create series from lists. In this case we can provide an index if desired. However, index must have the same length as constructor list."
   ]
  },
  {
   "cell_type": "code",
   "execution_count": 15,
   "metadata": {
    "collapsed": false,
    "nbpresent": {
     "id": "c2048b1d-09e3-4596-b339-ee39ee5e1ab1"
    }
   },
   "outputs": [
    {
     "name": "stdout",
     "output_type": "stream",
     "text": [
      "0    5\n",
      "1    5\n",
      "2    5\n",
      "dtype: int64\n",
      "x    5\n",
      "y    5\n",
      "z    5\n",
      "dtype: int64\n",
      "int64\n"
     ]
    },
    {
     "data": {
      "text/plain": [
       "Index([u'x', u'y', u'z'], dtype='object')"
      ]
     },
     "execution_count": 15,
     "metadata": {},
     "output_type": "execute_result"
    }
   ],
   "source": [
    "l = [5,5,5]\n",
    "s1 = pd.Series(l)\n",
    "print s1\n",
    "i = ['x','y','z']\n",
    "s1 = pd.Series(l, index = i)\n",
    "print s1\n",
    "#This would raise an error\n",
    "#i = ['x','y','a','b']\n",
    "#s1 = pd.Series(l, index = i)\n",
    "#print s1\n",
    "print s1.dtype\n",
    "s1.index"
   ]
  },
  {
   "cell_type": "markdown",
   "metadata": {
    "nbpresent": {
     "id": "d5b9d35b-fce3-42b7-97ae-e4bd89f524ad"
    }
   },
   "source": [
    "** From numpy array: **"
   ]
  },
  {
   "cell_type": "code",
   "execution_count": 7,
   "metadata": {
    "collapsed": false,
    "nbpresent": {
     "id": "c2d865f5-be7f-4258-8014-fe1b01b8b89c"
    }
   },
   "outputs": [
    {
     "name": "stdout",
     "output_type": "stream",
     "text": [
      "a     3\n",
      "b    20\n",
      "c     5\n",
      "dtype: int32\n",
      "int32\n"
     ]
    },
    {
     "data": {
      "text/plain": [
       "Index([u'a', u'b', u'c'], dtype='object')"
      ]
     },
     "execution_count": 7,
     "metadata": {},
     "output_type": "execute_result"
    }
   ],
   "source": [
    "s2 = pd.Series(np.array([3,20,5]),index=['a','b','c'])\n",
    "print s2\n",
    "print s2.dtype\n",
    "s2.index"
   ]
  },
  {
   "cell_type": "markdown",
   "metadata": {
    "nbpresent": {
     "id": "90edde86-4314-49c9-90a6-2408bccd1b1c"
    }
   },
   "source": [
    "** From scalar: **"
   ]
  },
  {
   "cell_type": "code",
   "execution_count": 18,
   "metadata": {
    "collapsed": false,
    "nbpresent": {
     "id": "ccd589a2-9878-4eec-9993-84cfa97a6285"
    }
   },
   "outputs": [
    {
     "name": "stdout",
     "output_type": "stream",
     "text": [
      "a    5\n",
      "b    5\n",
      "c    5\n",
      "int32\n"
     ]
    },
    {
     "data": {
      "text/plain": [
       "Index([a, b, c], dtype=object)"
      ]
     },
     "execution_count": 18,
     "metadata": {},
     "output_type": "execute_result"
    }
   ],
   "source": [
    "s3 = pd.Series(5,index=['a','b','c'])\n",
    "print s3\n",
    "print s3.dtype\n",
    "s3.index"
   ]
  },
  {
   "cell_type": "markdown",
   "metadata": {
    "nbpresent": {
     "id": "600309f8-9d06-4879-babd-837cebc81e73"
    }
   },
   "source": [
    "Series can have the atribute **name**. When dealing with DataFrames, Series names will be automatically assigned with its column name."
   ]
  },
  {
   "cell_type": "code",
   "execution_count": 48,
   "metadata": {
    "collapsed": false,
    "nbpresent": {
     "id": "36e51e4d-7af1-4bb8-8124-db5bd9e624e4"
    }
   },
   "outputs": [
    {
     "data": {
      "text/plain": [
       "'Series3'"
      ]
     },
     "execution_count": 48,
     "metadata": {},
     "output_type": "execute_result"
    }
   ],
   "source": [
    "s3 = pd.Series(5,index=['a','b','c'], name = 'Series3')\n",
    "s3.name"
   ]
  },
  {
   "cell_type": "markdown",
   "metadata": {
    "collapsed": true,
    "nbpresent": {
     "id": "315b80fa-b8eb-481b-8604-ccdf4eae22a0"
    }
   },
   "source": [
    "### Series Accessing"
   ]
  },
  {
   "cell_type": "markdown",
   "metadata": {
    "nbpresent": {
     "id": "1eb153cb-d228-430b-b977-8500e4b9fc14"
    }
   },
   "source": [
    "Series can be accessed through position (numerical index), boolean ¿list? or key (axis of labels). Accessing by position is like working with numpy ndarrays while accessing through keys (axis of labels) is like working with dictionaries.\n",
    "\n",
    "** Position accessing **"
   ]
  },
  {
   "cell_type": "code",
   "execution_count": 24,
   "metadata": {
    "collapsed": false,
    "nbpresent": {
     "id": "1c8e673b-78a0-4b90-84e3-a984a31b931e"
    }
   },
   "outputs": [
    {
     "data": {
      "text/plain": [
       "a     3\n",
       "b    20\n",
       "c     5"
      ]
     },
     "execution_count": 24,
     "metadata": {},
     "output_type": "execute_result"
    }
   ],
   "source": [
    "s2"
   ]
  },
  {
   "cell_type": "code",
   "execution_count": 25,
   "metadata": {
    "collapsed": false,
    "nbpresent": {
     "id": "c043c4b0-02e0-4f39-b242-6bdeca1be2ba"
    }
   },
   "outputs": [
    {
     "data": {
      "text/plain": [
       "20"
      ]
     },
     "execution_count": 25,
     "metadata": {},
     "output_type": "execute_result"
    }
   ],
   "source": [
    "s2[1]"
   ]
  },
  {
   "cell_type": "code",
   "execution_count": 26,
   "metadata": {
    "collapsed": false,
    "nbpresent": {
     "id": "d2b20d93-da12-4928-b0dd-4214a33497f9"
    }
   },
   "outputs": [
    {
     "data": {
      "text/plain": [
       "b    20\n",
       "c     5"
      ]
     },
     "execution_count": 26,
     "metadata": {},
     "output_type": "execute_result"
    }
   ],
   "source": [
    "s2[1:]"
   ]
  },
  {
   "cell_type": "markdown",
   "metadata": {
    "nbpresent": {
     "id": "420dfa09-a1a6-454a-a840-bdfc04711b85"
    }
   },
   "source": [
    "** Boolean list accessing **"
   ]
  },
  {
   "cell_type": "code",
   "execution_count": 27,
   "metadata": {
    "collapsed": false,
    "nbpresent": {
     "id": "68a5e109-f83c-45bd-8aff-da067c190463"
    }
   },
   "outputs": [
    {
     "data": {
      "text/plain": [
       "a     3\n",
       "b    20"
      ]
     },
     "execution_count": 27,
     "metadata": {},
     "output_type": "execute_result"
    }
   ],
   "source": [
    "s2[[True,True,False]]"
   ]
  },
  {
   "cell_type": "code",
   "execution_count": 28,
   "metadata": {
    "collapsed": false,
    "nbpresent": {
     "id": "92fb3c51-2e79-408f-88e2-1d5cb3747cb3"
    }
   },
   "outputs": [
    {
     "data": {
      "text/plain": [
       "b    20\n",
       "c     5"
      ]
     },
     "execution_count": 28,
     "metadata": {},
     "output_type": "execute_result"
    }
   ],
   "source": [
    "s2[s2>4]"
   ]
  },
  {
   "cell_type": "markdown",
   "metadata": {
    "nbpresent": {
     "id": "1f77d63e-b497-4e96-ac9c-5dbec371ddda"
    }
   },
   "source": [
    "**Key accessing**"
   ]
  },
  {
   "cell_type": "code",
   "execution_count": 29,
   "metadata": {
    "collapsed": false,
    "nbpresent": {
     "id": "492be9ec-9520-44d5-bbfe-34de68194ecc"
    }
   },
   "outputs": [
    {
     "data": {
      "text/plain": [
       "a     3\n",
       "b    20"
      ]
     },
     "execution_count": 29,
     "metadata": {},
     "output_type": "execute_result"
    }
   ],
   "source": [
    "s2[['a','b']]"
   ]
  },
  {
   "cell_type": "code",
   "execution_count": 31,
   "metadata": {
    "collapsed": false,
    "nbpresent": {
     "id": "6717a91d-1594-4399-adf3-b06f9bacd848"
    }
   },
   "outputs": [
    {
     "data": {
      "text/plain": [
       "3"
      ]
     },
     "execution_count": 31,
     "metadata": {},
     "output_type": "execute_result"
    }
   ],
   "source": [
    "s2['a']"
   ]
  },
  {
   "cell_type": "code",
   "execution_count": 30,
   "metadata": {
    "collapsed": false,
    "nbpresent": {
     "id": "7f4368f7-a3ff-4d05-8e12-ba49b2c1cfde"
    }
   },
   "outputs": [
    {
     "data": {
      "text/plain": [
       "True"
      ]
     },
     "execution_count": 30,
     "metadata": {},
     "output_type": "execute_result"
    }
   ],
   "source": [
    "'a' in s2"
   ]
  },
  {
   "cell_type": "markdown",
   "metadata": {
    "nbpresent": {
     "id": "19ce7b5f-8eeb-42cb-8b2b-416a60ace56b"
    }
   },
   "source": [
    "In case of accessing an unexisting key, a KeyError exception is thrown"
   ]
  },
  {
   "cell_type": "code",
   "execution_count": 33,
   "metadata": {
    "collapsed": false,
    "nbpresent": {
     "id": "6d1a1e8c-03b1-4867-ae88-ea6662d3cdf6"
    }
   },
   "outputs": [
    {
     "name": "stdout",
     "output_type": "stream",
     "text": [
      "Error handled\n"
     ]
    }
   ],
   "source": [
    "try:\n",
    "    s2['z']\n",
    "except KeyError:\n",
    "    print \"Error handled\""
   ]
  },
  {
   "cell_type": "markdown",
   "metadata": {
    "nbpresent": {
     "id": "ce9d988a-c3ef-4ef0-9016-efb9c613d46f"
    }
   },
   "source": [
    "To avoid errors, we can use Serie's get function, where a defaut value is returned in case of error."
   ]
  },
  {
   "cell_type": "code",
   "execution_count": 35,
   "metadata": {
    "collapsed": false,
    "nbpresent": {
     "id": "f8379142-73a8-4b37-9bfc-1767aa82ce22"
    }
   },
   "outputs": [
    {
     "data": {
      "text/plain": [
       "nan"
      ]
     },
     "execution_count": 35,
     "metadata": {},
     "output_type": "execute_result"
    }
   ],
   "source": [
    "s2.get('x',np.NaN)"
   ]
  },
  {
   "cell_type": "markdown",
   "metadata": {
    "nbpresent": {
     "id": "3d90bd7c-c9ba-4e7f-b0b2-8b6641f3230b"
    }
   },
   "source": [
    "### Series Operations"
   ]
  },
  {
   "cell_type": "markdown",
   "metadata": {
    "nbpresent": {
     "id": "054c0226-e49d-46f4-8c3b-b11354e77002"
    }
   },
   "source": [
    "**Vectorized operations** can be done over pandas Series and also Series are accepted as most of NumPy operations. The result of an operation between unaligned Series will have **the union of the indexes involved**. If a label is not found in one Series or the other, **the result will be marked as missing NaN**."
   ]
  },
  {
   "cell_type": "code",
   "execution_count": 12,
   "metadata": {
    "collapsed": false,
    "nbpresent": {
     "id": "89d6f43a-c13d-4fa4-bf0c-22c24724762c"
    }
   },
   "outputs": [
    {
     "name": "stdout",
     "output_type": "stream",
     "text": [
      "a    26\n",
      "b    43\n",
      "c    28\n",
      "dtype: int32\n"
     ]
    },
    {
     "data": {
      "text/plain": [
       "a    True\n",
       "b    True\n",
       "c    True\n",
       "dtype: bool"
      ]
     },
     "execution_count": 12,
     "metadata": {},
     "output_type": "execute_result"
    }
   ],
   "source": [
    "print s2 + 23\n",
    "# we can apply np functions\n",
    "\n",
    "np.add(s2,23) == s2 + 23"
   ]
  },
  {
   "cell_type": "markdown",
   "metadata": {
    "nbpresent": {
     "id": "827a51a0-3318-4c76-9533-0f748366cf22"
    }
   },
   "source": [
    "Operations are performed index-wise."
   ]
  },
  {
   "cell_type": "code",
   "execution_count": 45,
   "metadata": {
    "collapsed": false,
    "nbpresent": {
     "id": "7b9d9c9e-36fa-4dcc-8435-b2d2c6b81b1e"
    }
   },
   "outputs": [
    {
     "data": {
      "text/plain": [
       "a     8\n",
       "b    25\n",
       "c   NaN\n",
       "x   NaN\n",
       "y   NaN"
      ]
     },
     "execution_count": 45,
     "metadata": {},
     "output_type": "execute_result"
    }
   ],
   "source": [
    "s2 + s1"
   ]
  },
  {
   "cell_type": "code",
   "execution_count": 46,
   "metadata": {
    "collapsed": false,
    "nbpresent": {
     "id": "91fa47ac-2ef9-4ce1-9c9f-27a863686a5d"
    }
   },
   "outputs": [
    {
     "data": {
      "text/plain": [
       "a     8\n",
       "b    25"
      ]
     },
     "execution_count": 46,
     "metadata": {},
     "output_type": "execute_result"
    }
   ],
   "source": [
    "(s2 + s1).dropna()"
   ]
  },
  {
   "cell_type": "code",
   "execution_count": 41,
   "metadata": {
    "collapsed": false,
    "nbpresent": {
     "id": "180e9ec5-44cd-48df-81d9-f1a09794036c"
    }
   },
   "outputs": [
    {
     "data": {
      "text/plain": [
       "a      27\n",
       "b    8000\n",
       "c     125"
      ]
     },
     "execution_count": 41,
     "metadata": {},
     "output_type": "execute_result"
    }
   ],
   "source": [
    "s2 ** 3"
   ]
  },
  {
   "cell_type": "code",
   "execution_count": 42,
   "metadata": {
    "collapsed": false,
    "nbpresent": {
     "id": "6d0faa7f-adf7-4fd6-9e43-509cd0173dca"
    }
   },
   "outputs": [
    {
     "data": {
      "text/plain": [
       "a    2.008554e+01\n",
       "b    4.851652e+08\n",
       "c    1.484132e+02"
      ]
     },
     "execution_count": 42,
     "metadata": {},
     "output_type": "execute_result"
    }
   ],
   "source": [
    "np.exp(s2)"
   ]
  },
  {
   "cell_type": "markdown",
   "metadata": {},
   "source": [
    "## Series dtypes\n",
    "\n",
    "Dtype can be forced at Series cretion, if None, the dtype is inferred. "
   ]
  },
  {
   "cell_type": "code",
   "execution_count": 16,
   "metadata": {
    "collapsed": false
   },
   "outputs": [
    {
     "data": {
      "text/plain": [
       "0    1\n",
       "1    2\n",
       "2    3\n",
       "3    4\n",
       "4    5\n",
       "dtype: int32"
      ]
     },
     "execution_count": 16,
     "metadata": {},
     "output_type": "execute_result"
    }
   ],
   "source": [
    "pd.Series([1,2,3,4,5],dtype=int)"
   ]
  },
  {
   "cell_type": "markdown",
   "metadata": {},
   "source": [
    "For numerical variables, most common dtypes will be int and float.\n",
    "\n",
    "For categorical variables strings are common types. However, when working with labels, more advanced categorical data management can be used (http://pandas.pydata.org/pandas-docs/stable/categorical.html) http://pandas.pydata.org/pandas-docs/stable/categorical.html]\n",
    "\n",
    "** Why strings are dtype object?** (*from (http://stackoverflow.com/questions/21018654/strings-in-a-dataframe-but-dtype-is-object)[http://stackoverflow.com/questions/21018654/strings-in-a-dataframe-but-dtype-is-object]*)\n",
    "\n",
    "The dtype object comes from NumPy, it describes the type of element in a ndarray. Every element in a ndarray must has the same size in byte. For int64 and float64, they are 8 bytes. But for strings, the length of the string is not fixed. So instead of save the bytes of strings in the ndarray directly, Pandas use object ndarray, which save pointers to objects, because of this the dtype of this kind ndarray is object."
   ]
  },
  {
   "cell_type": "code",
   "execution_count": 17,
   "metadata": {
    "collapsed": false
   },
   "outputs": [
    {
     "data": {
      "text/plain": [
       "0    a\n",
       "1    b\n",
       "2    c\n",
       "dtype: object"
      ]
     },
     "execution_count": 17,
     "metadata": {},
     "output_type": "execute_result"
    }
   ],
   "source": [
    "pd.Series([\"a\",\"b\",\"c\"],dtype=str)"
   ]
  },
  {
   "cell_type": "markdown",
   "metadata": {},
   "source": [
    "** Dates are categorical or numeric? **\n",
    "\n",
    "Days of the month, months, days of the week, etc... are considered categorical.\n",
    "\n",
    "Specific dates, such as the day payments are received, birthdates, etc... are numeric."
   ]
  },
  {
   "cell_type": "code",
   "execution_count": 22,
   "metadata": {
    "collapsed": false
   },
   "outputs": [
    {
     "data": {
      "text/plain": [
       "0       Monday\n",
       "1      Tuesday\n",
       "2    Wednesday\n",
       "3     Thursday\n",
       "4       Friday\n",
       "5     Saturday\n",
       "6       Sunday\n",
       "dtype: object"
      ]
     },
     "execution_count": 22,
     "metadata": {},
     "output_type": "execute_result"
    }
   ],
   "source": [
    "pd.Series(['Monday', 'Tuesday', 'Wednesday', 'Thursday', 'Friday', 'Saturday', 'Sunday'])"
   ]
  },
  {
   "cell_type": "code",
   "execution_count": 27,
   "metadata": {
    "collapsed": false
   },
   "outputs": [
    {
     "name": "stdout",
     "output_type": "stream",
     "text": [
      "0   2016-10-01 10:00:01.549\n",
      "1   2016-09-30 10:00:01.549\n",
      "2   2016-09-29 10:00:01.549\n",
      "3   2016-09-28 10:00:01.549\n",
      "4   2016-09-27 10:00:01.549\n",
      "5   2016-09-26 10:00:01.549\n",
      "6   2016-09-25 10:00:01.549\n",
      "dtype: datetime64[ns]\n"
     ]
    },
    {
     "data": {
      "text/plain": [
       "True"
      ]
     },
     "execution_count": 27,
     "metadata": {},
     "output_type": "execute_result"
    }
   ],
   "source": [
    "import datetime\n",
    "\n",
    "base = datetime.datetime.today()\n",
    "date_list = [base - datetime.timedelta(days=x) for x in range(0, 7)]\n",
    "date_s = pd.Series(date_list)\n",
    "print date_s\n",
    "date_s[1] > date_s[2]\n"
   ]
  },
  {
   "cell_type": "markdown",
   "metadata": {},
   "source": [
    "** Missing Data **\n",
    "\n",
    "You can insert missing values by simply assigning to containers. The actual missing value used will be chosen based on the dtype.\n",
    "\n",
    "For example, numeric containers will always use NaN regardless of the missing value type chosen:"
   ]
  },
  {
   "cell_type": "code",
   "execution_count": 32,
   "metadata": {
    "collapsed": false
   },
   "outputs": [
    {
     "name": "stdout",
     "output_type": "stream",
     "text": [
      "0    None\n",
      "1     NaN\n",
      "2       c\n",
      "dtype: object\n",
      "0    NaN\n",
      "1    NaN\n",
      "2    3.0\n",
      "dtype: float64\n"
     ]
    }
   ],
   "source": [
    "import numpy as np\n",
    "\n",
    "s = pd.Series([\"a\", \"b\", \"c\"])\n",
    "s.loc[0] = None\n",
    "s.loc[1] = np.nan\n",
    "\n",
    "print s\n",
    "\n",
    "s = pd.Series([1, 2, 3])\n",
    "s.loc[0] = None\n",
    "s.loc[1] = np.nan\n",
    "\n",
    "print s"
   ]
  },
  {
   "cell_type": "markdown",
   "metadata": {},
   "source": [
    "Missing values propagate naturally through arithmetic operations between pandas objects."
   ]
  },
  {
   "cell_type": "code",
   "execution_count": 33,
   "metadata": {
    "collapsed": false
   },
   "outputs": [
    {
     "data": {
      "text/plain": [
       "0    2.0\n",
       "1    NaN\n",
       "2    6.0\n",
       "dtype: float64"
      ]
     },
     "execution_count": 33,
     "metadata": {},
     "output_type": "execute_result"
    }
   ],
   "source": [
    "s1 = pd.Series([1,2,3])\n",
    "s2 = pd.Series([1,np.nan,3])\n",
    "\n",
    "s1 + s2"
   ]
  },
  {
   "cell_type": "markdown",
   "metadata": {},
   "source": [
    "The descriptive statistics and computational methods discussed in the data structure overview (and listed here and here) are all written to account for missing data. For example:\n",
    "\n",
    "* When summing data, NA (missing) values will be treated as zero\n",
    "* If the data are all NA, the result will be NA\n",
    "* Methods like cumsum and cumprod ignore NA values, but preserve them in the resulting arrays\n"
   ]
  },
  {
   "cell_type": "markdown",
   "metadata": {},
   "source": [
    "** Cleaning/filling missing data: **\n",
    "    \n",
    "pandas objects are equipped with various data manipulation methods for dealing with missing data.\n",
    "\n",
    "* The fillna function can “fill in” NA values with non-null data \n",
    "* With dropna () you can simply exclude labels from a data set which refer to missing data\n",
    "* With isnull() you can return a boolean array to select not assigned values"
   ]
  },
  {
   "cell_type": "code",
   "execution_count": 40,
   "metadata": {
    "collapsed": false
   },
   "outputs": [
    {
     "name": "stdout",
     "output_type": "stream",
     "text": [
      "0    1.0\n",
      "1    0.0\n",
      "2    3.0\n",
      "dtype: float64\n",
      "0    1.0\n",
      "2    3.0\n",
      "dtype: float64\n",
      "0    False\n",
      "1     True\n",
      "2    False\n",
      "dtype: bool\n"
     ]
    }
   ],
   "source": [
    "s2 = pd.Series([1,np.nan,3])\n",
    "print s2.fillna(0)\n",
    "print s2.dropna()\n",
    "print s2.isnull()"
   ]
  },
  {
   "cell_type": "markdown",
   "metadata": {},
   "source": [
    "## Exercices:\n",
    " \n",
    "** Exercice 1: ** Load iqsize.csv using csv library as a dictionary of Series.\n",
    "\n",
    "** Exercice 2: ** Check Serties dtype. Are they correct? Why? What is the problem of having numerical variables as categorical?\n",
    "\n",
    "** Exercice 3: ** For sex variable, select those that are males (including synonims). \n",
    "\n",
    "** Exercice 4: ** Count how many women and how many men there are. How many missing elements there are?"
   ]
  },
  {
   "cell_type": "markdown",
   "metadata": {
    "nbpresent": {
     "id": "3548594b-4995-4a6d-9ec1-c13a1f516d23"
    }
   },
   "source": [
    "### Examples with Series\n",
    "\n",
    "Before loading data from different sources, we can have some examples using series with self-generated data."
   ]
  },
  {
   "cell_type": "code",
   "execution_count": 31,
   "metadata": {
    "collapsed": false,
    "nbpresent": {
     "id": "fe3e5df6-4c87-4406-9e8c-2ba1ba0fee0c"
    },
    "scrolled": true
   },
   "outputs": [],
   "source": [
    "import csv\n",
    "import urllib2\n",
    "\n",
    "url = 'https://raw.githubusercontent.com/jpatokal/openflights/master/data/airports.dat'\n",
    "response = urllib2.urlopen(url)\n",
    "data = list(csv.reader(response))\n",
    "\n",
    "#data is a list of list"
   ]
  },
  {
   "cell_type": "markdown",
   "metadata": {
    "nbpresent": {
     "id": "f9c4f5d2-dfb2-4cde-b87b-aa5ee8721a47"
    }
   },
   "source": [
    "We can create series from a list of lists directly from data variable."
   ]
  },
  {
   "cell_type": "code",
   "execution_count": 6,
   "metadata": {
    "collapsed": false,
    "nbpresent": {
     "id": "3da91f71-d048-421b-ad16-171231c0a398"
    }
   },
   "outputs": [
    {
     "data": {
      "text/plain": [
       "0     [1, Goroka, Goroka, Papua New Guinea, GKA, AYG...\n",
       "1     [2, Madang, Madang, Papua New Guinea, MAG, AYM...\n",
       "2     [3, Mount Hagen, Mount Hagen, Papua New Guinea...\n",
       "3     [4, Nadzab, Nadzab, Papua New Guinea, LAE, AYN...\n",
       "4     [5, Port Moresby Jacksons Intl, Port Moresby, ...\n",
       "5     [6, Wewak Intl, Wewak, Papua New Guinea, WWK, ...\n",
       "6     [7, Narsarsuaq, Narssarssuaq, Greenland, UAK, ...\n",
       "7     [8, Nuuk, Godthaab, Greenland, GOH, BGGH, 64.1...\n",
       "8     [9, Sondre Stromfjord, Sondrestrom, Greenland,...\n",
       "9     [10, Thule Air Base, Thule, Greenland, THU, BG...\n",
       "10    [11, Akureyri, Akureyri, Iceland, AEY, BIAR, 6...\n",
       "11    [12, Egilsstadir, Egilsstadir, Iceland, EGS, B...\n",
       "12    [13, Hornafjordur, Hofn, Iceland, HFN, BIHN, 6...\n",
       "13    [14, Husavik, Husavik, Iceland, HZK, BIHU, 65....\n",
       "14    [15, Isafjordur, Isafjordur, Iceland, IFJ, BII...\n",
       "...\n",
       "8092    [9527, Bus, Siem Reap, Cambodia, , SMRP, 13.36...\n",
       "8093    [9528, Bus, Sihanoukville, Cambodia, , SNKV, 1...\n",
       "8094    [9529, Bus, Kampot, Cambodia, , KMPT, 10.61492...\n",
       "8095    [9530, Bus, Kep, Cambodia, , KEPC, 10.480174, ...\n",
       "8096    [9531, Main Station, Taipei, Taiwan, , TPEI, 2...\n",
       "8097    [9532, Prominent Hill, Prominent Hill, Austral...\n",
       "8098    [9533, Chatsworth Station, Chatsworth, United ...\n",
       "8099    [9534, Algerciras Port, Algerciras, Spain, , \\...\n",
       "8100    [9535, Ganges Water Aerodrome, Ganges, Canada,...\n",
       "8101    [9536, Pender Harbour Water Aerodrome, Pender ...\n",
       "8102    [9537, Mansons Landing Water Aerodrome, Manson...\n",
       "8103    [9538, Port McNeill Airport, Port McNeill, Can...\n",
       "8104    [9539, Sullivan Bay Water Aerodrome, Sullivan ...\n",
       "8105    [9540, Deer Harbor Seaplane, Deer Harbor, Unit...\n",
       "8106    [9541, San Diego Old Town Transit Center, San ...\n",
       "Length: 8107, dtype: object"
      ]
     },
     "execution_count": 6,
     "metadata": {},
     "output_type": "execute_result"
    }
   ],
   "source": [
    "pd.Series(data)"
   ]
  },
  {
   "cell_type": "markdown",
   "metadata": {
    "nbpresent": {
     "id": "b9d874cf-5fc8-4898-9ff9-c50b7ab0995d"
    }
   },
   "source": [
    "This is not a very useful Series object, as acces to list items is not syntatically nice. However, let's try to put the all countries' airports in a Series."
   ]
  },
  {
   "cell_type": "code",
   "execution_count": 7,
   "metadata": {
    "collapsed": false,
    "nbpresent": {
     "id": "884cac48-25de-4feb-a174-687a6ff8593c"
    }
   },
   "outputs": [
    {
     "data": {
      "text/plain": [
       "0     Papua New Guinea\n",
       "1     Papua New Guinea\n",
       "2     Papua New Guinea\n",
       "3     Papua New Guinea\n",
       "4     Papua New Guinea\n",
       "5     Papua New Guinea\n",
       "6            Greenland\n",
       "7            Greenland\n",
       "8            Greenland\n",
       "9            Greenland\n",
       "10             Iceland\n",
       "11             Iceland\n",
       "12             Iceland\n",
       "13             Iceland\n",
       "14             Iceland\n",
       "...\n",
       "8092         Cambodia\n",
       "8093         Cambodia\n",
       "8094         Cambodia\n",
       "8095         Cambodia\n",
       "8096           Taiwan\n",
       "8097        Australia\n",
       "8098    United States\n",
       "8099            Spain\n",
       "8100           Canada\n",
       "8101           Canada\n",
       "8102           Canada\n",
       "8103           Canada\n",
       "8104           Canada\n",
       "8105    United States\n",
       "8106    United States\n",
       "Length: 8107, dtype: object"
      ]
     },
     "execution_count": 7,
     "metadata": {},
     "output_type": "execute_result"
    }
   ],
   "source": [
    "countries = pd.Series(np.array([airport[3] for airport in data]))\n",
    "# this is a more interesting Series object\n",
    "countries"
   ]
  },
  {
   "cell_type": "code",
   "execution_count": 8,
   "metadata": {
    "collapsed": false,
    "nbpresent": {
     "id": "e0536967-e923-4503-8062-52054c00a067"
    }
   },
   "outputs": [
    {
     "name": "stdout",
     "output_type": "stream",
     "text": [
      "Int64Index([0, 1, 2, 3, 4, 5, 6, 7, 8, 9, 10, 11, 12, 13, 14, 15, 16, 17, 18, 19, 20, 21, 22, 23, 24, 25, 26, 27, 28, 29, 30, 31, 32, 33, 34, 35, 36, 37, 38, 39, 40, 41, 42, 43, 44, 45, 46, 47, 48, 49, 50, 51, 52, 53, 54, 55, 56, 57, 58, 59, 60, 61, 62, 63, 64, 65, 66, 67, 68, 69, 70, 71, 72, 73, 74, 75, 76, 77, 78, 79, 80, 81, 82, 83, 84, 85, 86, 87, 88, 89, 90, 91, 92, 93, 94, 95, 96, 97, 98, 99, ...], dtype='int64')\n"
     ]
    }
   ],
   "source": [
    "print countries.index"
   ]
  },
  {
   "cell_type": "code",
   "execution_count": 136,
   "metadata": {
    "collapsed": false,
    "nbpresent": {
     "id": "6e0fca55-163b-4c20-9902-e79dd7b86d5b"
    }
   },
   "outputs": [
    {
     "name": "stdout",
     "output_type": "stream",
     "text": [
      "Papua New Guinea\n",
      "0    False\n",
      "1    False\n",
      "2    False\n",
      "3    False\n",
      "4    False\n",
      "dtype: bool\n",
      "1033    Spain\n",
      "1034    Spain\n",
      "1035    Spain\n",
      "1036    Spain\n",
      "1037    Spain\n",
      "dtype: object\n",
      "0    Papua New Guinea\n",
      "1    Papua New Guinea\n",
      "2    Papua New Guinea\n",
      "3    Papua New Guinea\n",
      "4    Papua New Guinea\n",
      "dtype: object\n",
      "8102           Canada\n",
      "8103           Canada\n",
      "8104           Canada\n",
      "8105    United States\n",
      "8106    United States\n",
      "dtype: object\n",
      "['Papua New Guinea' 'Greenland' 'Iceland' 'Canada' 'Algeria' 'Benin'\n",
      " 'Burkina Faso' 'Ghana' \"Cote d'Ivoire\" 'Nigeria' 'Niger' 'Tunisia' 'Togo'\n",
      " 'Belgium' 'Germany' 'United States' 'Estonia' 'Finland' 'United Kingdom'\n",
      " 'Guernsey' 'Jersey' 'Isle of Man' 'Falkland Islands' 'Netherlands'\n",
      " 'Ireland' 'Denmark' 'Faroe Islands' 'Luxembourg' 'Norway' 'Poland'\n",
      " 'Sweden' 'South Africa' 'Botswana' 'Congo (Brazzaville)'\n",
      " 'Congo (Kinshasa)' 'Swaziland' 'Central African Republic'\n",
      " 'Equatorial Guinea' 'Saint Helena' 'Mauritius'\n",
      " 'British Indian Ocean Territory' 'Cameroon' 'Zambia' 'Comoros' 'Mayotte'\n",
      " 'Reunion' 'Madagascar' 'Angola' 'Puerto Rico' 'Gabon'\n",
      " 'Sao Tome and Principe' 'Mozambique' 'Seychelles' 'Chad' 'Zimbabwe'\n",
      " 'Malawi' 'Lesotho' 'Mali' 'Gambia' 'Spain' 'Sierra Leone' 'Guinea-Bissau'\n",
      " 'Liberia' 'Morocco' 'Senegal' 'Mauritania' 'Guinea' 'Cape Verde'\n",
      " 'Ethiopia' 'Maldives' 'Burundi' 'Somalia' 'Egypt' 'Kenya' 'Libya' 'Rwanda'\n",
      " 'Sudan' 'South Sudan' 'Tanzania' 'Uganda' 'Albania' 'Bulgaria' 'Cyprus'\n",
      " 'Croatia' 'Greece' 'France' 'Saint Pierre and Miquelon' 'Hungary' 'Italy'\n",
      " 'Slovenia' 'Czech Republic' 'Israel' 'Malta' 'Austria' 'Portugal'\n",
      " 'Bosnia and Herzegovina' 'Romania' 'Switzerland' 'Turkey' 'Moldova'\n",
      " 'Macedonia' 'Gibraltar' 'Serbia' 'Montenegro' 'Slovakia'\n",
      " 'Turks and Caicos Islands' 'Dominican Republic' 'Guatemala' 'Honduras'\n",
      " 'Jamaica' 'Mexico' 'Nicaragua' 'Panama' 'Costa Rica' 'El Salvador' 'Haiti'\n",
      " 'Cuba' 'Cayman Islands' 'Bahamas' 'Belize' 'Cook Islands' 'Fiji' 'Tonga'\n",
      " 'Kiribati' 'Australia' 'Wallis and Futuna' 'Samoa' 'American Samoa'\n",
      " 'French Polynesia' 'Vanuatu' 'New Caledonia' 'New Zealand' 'Antarctica'\n",
      " 'Afghanistan' 'Bahrain' 'Saudi Arabia' 'Iran' 'Argentina' 'Jordan'\n",
      " 'West Bank' 'Kuwait' 'Lebanon' 'United Arab Emirates' 'Oman' 'Pakistan'\n",
      " 'Iraq' 'Syria' 'Qatar' 'Northern Mariana Islands' 'Guam'\n",
      " 'Marshall Islands' 'Midway Islands' 'Micronesia' 'Palau' 'Taiwan' 'Japan'\n",
      " 'South Korea' 'Philippines' 'Turkmenistan' 'Brazil' 'Chile' 'Ecuador'\n",
      " 'Paraguay' 'Colombia' 'Bolivia' 'Suriname' 'French Guiana' 'Peru'\n",
      " 'Uruguay' 'Venezuela' 'Guyana' 'Antigua and Barbuda' 'Barbados' 'Dominica'\n",
      " 'Martinique' 'Guadeloupe' 'Grenada' 'Virgin Islands'\n",
      " 'Saint Kitts and Nevis' 'Saint Lucia' 'Aruba' 'Netherlands Antilles'\n",
      " 'Anguilla' 'Trinidad and Tobago' 'British Virgin Islands'\n",
      " 'Saint Vincent and the Grenadines' 'Kazakhstan' 'Kyrgyzstan' 'Azerbaijan'\n",
      " 'Russia' 'Ukraine' 'Belarus' 'Tajikistan' 'Uzbekistan' 'India' 'Sri Lanka'\n",
      " 'Cambodia' 'Bangladesh' 'Hong Kong' 'Laos' 'Macau' 'Nepal' 'Bhutan'\n",
      " 'Thailand' 'Indonesia' 'Vietnam' 'Burma' 'Malaysia' 'Brunei' 'East Timor'\n",
      " 'Singapore' 'Christmas Island' 'Norfolk Island' 'China' 'Korea' 'Mongolia'\n",
      " 'Latvia' 'Lithuania' 'Armenia' 'Eritrea' 'Palestine' 'Yemen' 'Georgia'\n",
      " 'Bermuda' 'Solomon Islands' 'Nauru' 'Tuvalu' 'Namibia' 'Djibouti'\n",
      " 'Montserrat' 'Monaco' 'Johnston Atoll' 'Niue' 'Western Sahara'\n",
      " 'Cocos (Keeling) Islands' 'South Georgia and the Islands' 'Myanmar'\n",
      " 'Svalbard' 'North Korea' 'Wake Island']\n"
     ]
    }
   ],
   "source": [
    "## Access by number\n",
    "print countries[0]\n",
    "## we can evaluate a function over all elements to get a boolean series\n",
    "print (countries == \"Spain\").head()\n",
    "print (countries[countries == \"Spain\"]).head()\n",
    "print (countries[countries != \"Spain\"]).head()\n",
    "print (countries[countries != \"Spain\"]).tail()\n",
    "# we can have the list of countries that have (at least\n",
    "print countries.unique()"
   ]
  },
  {
   "cell_type": "code",
   "execution_count": 16,
   "metadata": {
    "collapsed": false,
    "nbpresent": {
     "id": "87e730c2-a246-4e83-9496-7db7e842a8d7"
    }
   },
   "outputs": [
    {
     "data": {
      "text/plain": [
       "'United States'"
      ]
     },
     "execution_count": 16,
     "metadata": {},
     "output_type": "execute_result"
    }
   ],
   "source": [
    "# we can also access by key\n",
    "countries[8106]"
   ]
  },
  {
   "cell_type": "markdown",
   "metadata": {
    "nbpresent": {
     "id": "36d96c20-0526-40a6-b381-1164436e0963"
    }
   },
   "source": [
    "We can see that there's an error between index and the number provided as index in the csv. Let's try to see what happened with the knowledge we have with Series."
   ]
  },
  {
   "cell_type": "code",
   "execution_count": 39,
   "metadata": {
    "collapsed": false,
    "nbpresent": {
     "id": "5a51257f-1c22-4f37-bc81-58495a2ae106"
    }
   },
   "outputs": [
    {
     "name": "stdout",
     "output_type": "stream",
     "text": [
      "117    119\n",
      "118    120\n",
      "119    121\n",
      "120    122\n",
      "121    123\n",
      "122    124\n",
      "123    125\n",
      "124    126\n",
      "125    127\n",
      "126    128\n",
      "127    129\n",
      "128    130\n",
      "129    131\n",
      "130    132\n",
      "131    133\n",
      "...\n",
      "8092    9527\n",
      "8093    9528\n",
      "8094    9529\n",
      "8095    9530\n",
      "8096    9531\n",
      "8097    9532\n",
      "8098    9533\n",
      "8099    9534\n",
      "8100    9535\n",
      "8101    9536\n",
      "8102    9537\n",
      "8103    9538\n",
      "8104    9539\n",
      "8105    9540\n",
      "8106    9541\n",
      "Length: 7990, dtype: object\n"
     ]
    }
   ],
   "source": [
    "csv_index = pd.Series(np.array([airport[0] for airport in data]))\n",
    "print csv_index[csv_index.astype(int) != csv_index.index + 1]"
   ]
  },
  {
   "cell_type": "code",
   "execution_count": 133,
   "metadata": {
    "collapsed": false,
    "nbpresent": {
     "id": "385d5592-6342-4a8c-b043-166a864eb751"
    }
   },
   "outputs": [
    {
     "name": "stdout",
     "output_type": "stream",
     "text": [
      "117     119\n",
      "221     224\n",
      "318    6891\n",
      "319     322\n",
      "470     474\n",
      "523     528\n",
      "593     599\n",
      "600     607\n",
      "613     621\n",
      "653     662\n",
      "dtype: int32\n",
      "the assumption is: False\n",
      "318    -6570\n",
      "814    -5983\n",
      "931    -5867\n",
      "1095   -5696\n",
      "1104   -5766\n",
      "1121   -5747\n",
      "1166   -5700\n",
      "1205   -5659\n",
      "1453   -5409\n",
      "1470   -5391\n",
      "1507   -5351\n",
      "1617   -5239\n",
      "1676   -5178\n",
      "1687   -5164\n",
      "1695   -5153\n",
      "...\n",
      "4971     -91\n",
      "5288      -2\n",
      "5311   -2398\n",
      "5360   -1641\n",
      "5365      -2\n",
      "5372      -8\n",
      "5385    -418\n",
      "5521    -233\n",
      "6087    -410\n",
      "6206    -788\n",
      "6283    -460\n",
      "6354     -80\n",
      "6438    -556\n",
      "6990      -3\n",
      "7365    -166\n",
      "Length: 123, dtype: int32\n"
     ]
    }
   ],
   "source": [
    "# we get the list of all missing values\n",
    "shifted_index = csv_index[csv_index.index-1]\n",
    "shifted_index = shifted_index.fillna(0)\n",
    "shifted_index.index = csv_index.index\n",
    "# we get the list of non consecutive values\n",
    "non_consecutive = csv_index[csv_index.astype(int) != shifted_index.astype(int) + 1].astype(int)\n",
    "print non_consecutive.head(10)\n",
    "# check if our assumption is true (1 at most consecutive values are missing)\n",
    "print \"the assumption is:\", len(non_consecutive) + len(csv_index) == csv_index[len(csv_index)-1]\n",
    "# let's see what happens\n",
    "difference = (shifted_index.astype(int) + 1).add(-csv_index.astype(int))\n",
    "print difference[difference < -1]"
   ]
  },
  {
   "cell_type": "markdown",
   "metadata": {
    "nbpresent": {
     "id": "29c50b82-871b-4212-bc5f-30f2f243386a"
    }
   },
   "source": [
    "## DataFrame\n",
    "\n",
    "A DataFrame is a 2-dimensional **labeled** data structure with columns of diferent types. It can be seen as a spreadsheet, where columns are Series or a Python dictionary where Series can be accessed through labels."
   ]
  },
  {
   "cell_type": "markdown",
   "metadata": {
    "nbpresent": {
     "id": "961ddc3d-44b1-4a94-8627-43896c8588ea"
    }
   },
   "source": [
    "### DataFrame Creation"
   ]
  },
  {
   "cell_type": "markdown",
   "metadata": {
    "nbpresent": {
     "id": "b249e00c-af32-4e86-8928-1f3ebe10ba31"
    }
   },
   "source": [
    "We can create DataFrames from:\n",
    "* Dict of 1D ndarrays, lists, dicts, or Series\n",
    "* 2-D numpy.ndarray\n",
    "* Structured or record ndarray\n",
    "* A Series\n",
    "* Another DataFrame\n",
    "\n",
    "** From dict of Series or dict **\n",
    "\n",
    "The result **index** will be the **union** of the indexes of the various Series. If there are any nested dicts, these will be first converted to Series. If no columns are passed, the columns will be the sorted list of dict keys.\n",
    "\n"
   ]
  },
  {
   "cell_type": "code",
   "execution_count": 58,
   "metadata": {
    "collapsed": false,
    "nbpresent": {
     "id": "1aae5ddc-e526-4065-b81f-4177f6d57c04"
    }
   },
   "outputs": [
    {
     "data": {
      "text/html": [
       "<div style=\"max-height:1000px;max-width:1500px;overflow:auto;\">\n",
       "<table border=\"1\" class=\"dataframe\">\n",
       "  <thead>\n",
       "    <tr style=\"text-align: right;\">\n",
       "      <th></th>\n",
       "      <th>one</th>\n",
       "      <th>three</th>\n",
       "      <th>two</th>\n",
       "    </tr>\n",
       "  </thead>\n",
       "  <tbody>\n",
       "    <tr>\n",
       "      <td><strong>a</strong></td>\n",
       "      <td>  1</td>\n",
       "      <td>  1</td>\n",
       "      <td> 1</td>\n",
       "    </tr>\n",
       "    <tr>\n",
       "      <td><strong>b</strong></td>\n",
       "      <td>  2</td>\n",
       "      <td>NaN</td>\n",
       "      <td> 2</td>\n",
       "    </tr>\n",
       "    <tr>\n",
       "      <td><strong>c</strong></td>\n",
       "      <td>  3</td>\n",
       "      <td>NaN</td>\n",
       "      <td> 3</td>\n",
       "    </tr>\n",
       "    <tr>\n",
       "      <td><strong>z</strong></td>\n",
       "      <td>NaN</td>\n",
       "      <td>NaN</td>\n",
       "      <td> 4</td>\n",
       "    </tr>\n",
       "  </tbody>\n",
       "</table>\n",
       "</div>"
      ],
      "text/plain": [
       "   one  three  two\n",
       "a    1      1    1\n",
       "b    2    NaN    2\n",
       "c    3    NaN    3\n",
       "z  NaN    NaN    4"
      ]
     },
     "execution_count": 58,
     "metadata": {},
     "output_type": "execute_result"
    }
   ],
   "source": [
    "    d = {'one': pd.Series([1,2,3],index=['a','b','c']),'two': pd.Series([1,2,3,4],index=['a','b','c','z']),'three':{'a':1}}\n",
    "    df = pd.DataFrame(d)\n",
    "    df"
   ]
  },
  {
   "cell_type": "code",
   "execution_count": 56,
   "metadata": {
    "collapsed": false,
    "nbpresent": {
     "id": "d9fb9ef4-fcd3-4800-a9d4-315dc219b613"
    }
   },
   "outputs": [
    {
     "data": {
      "text/html": [
       "<div style=\"max-height:1000px;max-width:1500px;overflow:auto;\">\n",
       "<table border=\"1\" class=\"dataframe\">\n",
       "  <thead>\n",
       "    <tr style=\"text-align: right;\">\n",
       "      <th></th>\n",
       "      <th>one</th>\n",
       "      <th>three</th>\n",
       "      <th>two</th>\n",
       "    </tr>\n",
       "  </thead>\n",
       "  <tbody>\n",
       "    <tr>\n",
       "      <td><strong>d</strong></td>\n",
       "      <td>NaN</td>\n",
       "      <td>NaN</td>\n",
       "      <td>NaN</td>\n",
       "    </tr>\n",
       "    <tr>\n",
       "      <td><strong>b</strong></td>\n",
       "      <td>  2</td>\n",
       "      <td>NaN</td>\n",
       "      <td>  2</td>\n",
       "    </tr>\n",
       "    <tr>\n",
       "      <td><strong>a</strong></td>\n",
       "      <td>  1</td>\n",
       "      <td>  1</td>\n",
       "      <td>  1</td>\n",
       "    </tr>\n",
       "  </tbody>\n",
       "</table>\n",
       "</div>"
      ],
      "text/plain": [
       "   one  three  two\n",
       "d  NaN    NaN  NaN\n",
       "b    2    NaN    2\n",
       "a    1      1    1"
      ]
     },
     "execution_count": 56,
     "metadata": {},
     "output_type": "execute_result"
    }
   ],
   "source": [
    "pd.DataFrame(d, index=['d', 'b', 'a'])"
   ]
  },
  {
   "cell_type": "code",
   "execution_count": 57,
   "metadata": {
    "collapsed": false,
    "nbpresent": {
     "id": "a660dec2-1c39-4b1b-89bc-7c1a569e4dbd"
    }
   },
   "outputs": [
    {
     "data": {
      "text/html": [
       "<div style=\"max-height:1000px;max-width:1500px;overflow:auto;\">\n",
       "<table border=\"1\" class=\"dataframe\">\n",
       "  <thead>\n",
       "    <tr style=\"text-align: right;\">\n",
       "      <th></th>\n",
       "      <th>two</th>\n",
       "      <th>three</th>\n",
       "      <th>four</th>\n",
       "    </tr>\n",
       "  </thead>\n",
       "  <tbody>\n",
       "    <tr>\n",
       "      <td><strong>d</strong></td>\n",
       "      <td>NaN</td>\n",
       "      <td>NaN</td>\n",
       "      <td> NaN</td>\n",
       "    </tr>\n",
       "    <tr>\n",
       "      <td><strong>b</strong></td>\n",
       "      <td>  2</td>\n",
       "      <td>NaN</td>\n",
       "      <td> NaN</td>\n",
       "    </tr>\n",
       "    <tr>\n",
       "      <td><strong>a</strong></td>\n",
       "      <td>  1</td>\n",
       "      <td>  1</td>\n",
       "      <td> NaN</td>\n",
       "    </tr>\n",
       "  </tbody>\n",
       "</table>\n",
       "</div>"
      ],
      "text/plain": [
       "   two  three four\n",
       "d  NaN    NaN  NaN\n",
       "b    2    NaN  NaN\n",
       "a    1      1  NaN"
      ]
     },
     "execution_count": 57,
     "metadata": {},
     "output_type": "execute_result"
    }
   ],
   "source": [
    "pd.DataFrame(d, index=['d', 'b', 'a'], columns=['two', 'three','four'])"
   ]
  },
  {
   "cell_type": "markdown",
   "metadata": {
    "nbpresent": {
     "id": "e6e49cb0-fae8-4ef7-8a32-80878b2237c2"
    }
   },
   "source": [
    "The row and column labels can be accessed respectively by accessing the index and columns attributes:"
   ]
  },
  {
   "cell_type": "code",
   "execution_count": 59,
   "metadata": {
    "collapsed": false,
    "nbpresent": {
     "id": "c8d39764-d5ec-4b96-aaf3-2468ac086ecc"
    }
   },
   "outputs": [
    {
     "data": {
      "text/plain": [
       "Index([a, b, c, z], dtype=object)"
      ]
     },
     "execution_count": 59,
     "metadata": {},
     "output_type": "execute_result"
    }
   ],
   "source": [
    "df.index"
   ]
  },
  {
   "cell_type": "code",
   "execution_count": 60,
   "metadata": {
    "collapsed": false,
    "nbpresent": {
     "id": "79579b3c-ce92-4dde-ae57-3951d03aeff7"
    }
   },
   "outputs": [
    {
     "data": {
      "text/plain": [
       "Index([one, three, two], dtype=object)"
      ]
     },
     "execution_count": 60,
     "metadata": {},
     "output_type": "execute_result"
    }
   ],
   "source": [
    "df.columns"
   ]
  },
  {
   "cell_type": "markdown",
   "metadata": {
    "collapsed": false,
    "nbpresent": {
     "id": "114f5947-57e1-4653-ba88-ffb1a8f58d2a"
    }
   },
   "source": [
    "** From dict of ndarrays / lists **\n",
    "\n",
    "The ndarrays must all be the same length. If an index is passed, it must clearly also be the same length as the arrays. If no index is passed, the result will be <code>range(n)</code>, where n is the array length."
   ]
  },
  {
   "cell_type": "code",
   "execution_count": 14,
   "metadata": {
    "collapsed": false,
    "nbpresent": {
     "id": "988795c7-daac-4445-8c56-922fb7b6a679"
    }
   },
   "outputs": [
    {
     "data": {
      "text/html": [
       "<div style=\"max-height:1000px;max-width:1500px;overflow:auto;\">\n",
       "<table border=\"1\" class=\"dataframe\">\n",
       "  <thead>\n",
       "    <tr style=\"text-align: right;\">\n",
       "      <th></th>\n",
       "      <th>one</th>\n",
       "      <th>two</th>\n",
       "    </tr>\n",
       "  </thead>\n",
       "  <tbody>\n",
       "    <tr>\n",
       "      <th>0</th>\n",
       "      <td> 1</td>\n",
       "      <td> 4</td>\n",
       "    </tr>\n",
       "    <tr>\n",
       "      <th>1</th>\n",
       "      <td> 2</td>\n",
       "      <td> 3</td>\n",
       "    </tr>\n",
       "    <tr>\n",
       "      <th>2</th>\n",
       "      <td> 3</td>\n",
       "      <td> 2</td>\n",
       "    </tr>\n",
       "    <tr>\n",
       "      <th>3</th>\n",
       "      <td> 4</td>\n",
       "      <td> 1</td>\n",
       "    </tr>\n",
       "  </tbody>\n",
       "</table>\n",
       "</div>"
      ],
      "text/plain": [
       "   one  two\n",
       "0    1    4\n",
       "1    2    3\n",
       "2    3    2\n",
       "3    4    1"
      ]
     },
     "execution_count": 14,
     "metadata": {},
     "output_type": "execute_result"
    }
   ],
   "source": [
    "d = {'one' : [1., 2., 3., 4.], 'two' : [4., 3., 2., 1.]}\n",
    "pd.DataFrame(d)"
   ]
  },
  {
   "cell_type": "code",
   "execution_count": 16,
   "metadata": {
    "collapsed": false,
    "nbpresent": {
     "id": "4bd4cb3a-5c7b-4f14-aa70-b00b4955f66b"
    }
   },
   "outputs": [
    {
     "data": {
      "text/html": [
       "<div style=\"max-height:1000px;max-width:1500px;overflow:auto;\">\n",
       "<table border=\"1\" class=\"dataframe\">\n",
       "  <thead>\n",
       "    <tr style=\"text-align: right;\">\n",
       "      <th></th>\n",
       "      <th>one</th>\n",
       "      <th>two</th>\n",
       "    </tr>\n",
       "  </thead>\n",
       "  <tbody>\n",
       "    <tr>\n",
       "      <th>a</th>\n",
       "      <td> 1</td>\n",
       "      <td> 4</td>\n",
       "    </tr>\n",
       "    <tr>\n",
       "      <th>b</th>\n",
       "      <td> 2</td>\n",
       "      <td> 3</td>\n",
       "    </tr>\n",
       "    <tr>\n",
       "      <th>c</th>\n",
       "      <td> 3</td>\n",
       "      <td> 2</td>\n",
       "    </tr>\n",
       "    <tr>\n",
       "      <th>d</th>\n",
       "      <td> 4</td>\n",
       "      <td> 1</td>\n",
       "    </tr>\n",
       "  </tbody>\n",
       "</table>\n",
       "</div>"
      ],
      "text/plain": [
       "   one  two\n",
       "a    1    4\n",
       "b    2    3\n",
       "c    3    2\n",
       "d    4    1"
      ]
     },
     "execution_count": 16,
     "metadata": {},
     "output_type": "execute_result"
    }
   ],
   "source": [
    "pd.DataFrame(d, index = ['a','b','c','d'])"
   ]
  },
  {
   "cell_type": "markdown",
   "metadata": {
    "nbpresent": {
     "id": "3055a60b-069f-4d48-adf5-e0d9b4a234f5"
    }
   },
   "source": [
    "**From structured or record array**\n",
    "\n",
    "This case is handled identically to a dict of arrays."
   ]
  },
  {
   "cell_type": "code",
   "execution_count": 42,
   "metadata": {
    "collapsed": false,
    "nbpresent": {
     "id": "bf30951f-995e-4b18-8f0a-bf55609041c4"
    }
   },
   "outputs": [
    {
     "name": "stdout",
     "output_type": "stream",
     "text": [
      "[(0, 0.0, '') (0, 0.0, '')]\n",
      "[(1, 2.0, 'Hello') (2, 3.0, 'World')]\n",
      "   A    B      C\n",
      "0  1  2.0  Hello\n",
      "1  2  3.0  World\n"
     ]
    },
    {
     "data": {
      "text/plain": [
       "A      int32\n",
       "B    float32\n",
       "C     object\n",
       "dtype: object"
      ]
     },
     "execution_count": 42,
     "metadata": {},
     "output_type": "execute_result"
    }
   ],
   "source": [
    "data = np.zeros((2,), dtype=[('A', 'i4'),('B', 'f4'),('C', 'a10')])\n",
    "print data\n",
    "data[:] = [(1,2.,'Hello'), (2,3.,\"World\")]\n",
    "print data\n",
    "df = pd.DataFrame(data)\n",
    "print df\n",
    "df.dtypes"
   ]
  },
  {
   "cell_type": "code",
   "execution_count": 22,
   "metadata": {
    "collapsed": false,
    "nbpresent": {
     "id": "939da919-ffa0-4712-a909-81f9364db52c"
    }
   },
   "outputs": [
    {
     "data": {
      "text/html": [
       "<div style=\"max-height:1000px;max-width:1500px;overflow:auto;\">\n",
       "<table border=\"1\" class=\"dataframe\">\n",
       "  <thead>\n",
       "    <tr style=\"text-align: right;\">\n",
       "      <th></th>\n",
       "      <th>A</th>\n",
       "      <th>B</th>\n",
       "      <th>C</th>\n",
       "    </tr>\n",
       "  </thead>\n",
       "  <tbody>\n",
       "    <tr>\n",
       "      <th>first</th>\n",
       "      <td> 1</td>\n",
       "      <td> 2</td>\n",
       "      <td> Hello</td>\n",
       "    </tr>\n",
       "    <tr>\n",
       "      <th>second</th>\n",
       "      <td> 2</td>\n",
       "      <td> 3</td>\n",
       "      <td> World</td>\n",
       "    </tr>\n",
       "  </tbody>\n",
       "</table>\n",
       "</div>"
      ],
      "text/plain": [
       "        A  B      C\n",
       "first   1  2  Hello\n",
       "second  2  3  World"
      ]
     },
     "execution_count": 22,
     "metadata": {},
     "output_type": "execute_result"
    }
   ],
   "source": [
    "pd.DataFrame(data, index=['first', 'second'])"
   ]
  },
  {
   "cell_type": "code",
   "execution_count": 23,
   "metadata": {
    "collapsed": false,
    "nbpresent": {
     "id": "546dfaeb-86eb-4018-bc53-c7ef2728936b"
    }
   },
   "outputs": [
    {
     "data": {
      "text/html": [
       "<div style=\"max-height:1000px;max-width:1500px;overflow:auto;\">\n",
       "<table border=\"1\" class=\"dataframe\">\n",
       "  <thead>\n",
       "    <tr style=\"text-align: right;\">\n",
       "      <th></th>\n",
       "      <th>C</th>\n",
       "      <th>A</th>\n",
       "      <th>B</th>\n",
       "    </tr>\n",
       "  </thead>\n",
       "  <tbody>\n",
       "    <tr>\n",
       "      <th>0</th>\n",
       "      <td> Hello</td>\n",
       "      <td> 1</td>\n",
       "      <td> 2</td>\n",
       "    </tr>\n",
       "    <tr>\n",
       "      <th>1</th>\n",
       "      <td> World</td>\n",
       "      <td> 2</td>\n",
       "      <td> 3</td>\n",
       "    </tr>\n",
       "  </tbody>\n",
       "</table>\n",
       "</div>"
      ],
      "text/plain": [
       "       C  A  B\n",
       "0  Hello  1  2\n",
       "1  World  2  3"
      ]
     },
     "execution_count": 23,
     "metadata": {},
     "output_type": "execute_result"
    }
   ],
   "source": [
    "pd.DataFrame(data, columns=['C', 'A', 'B'])"
   ]
  },
  {
   "cell_type": "markdown",
   "metadata": {
    "nbpresent": {
     "id": "64745e83-b13f-4300-b7c9-5c18cd5c7357"
    }
   },
   "source": [
    "** From a list of dicts **"
   ]
  },
  {
   "cell_type": "code",
   "execution_count": 26,
   "metadata": {
    "collapsed": false,
    "nbpresent": {
     "id": "589f9200-7fb5-4587-ab20-7be44d624e4e"
    }
   },
   "outputs": [
    {
     "data": {
      "text/html": [
       "<div style=\"max-height:1000px;max-width:1500px;overflow:auto;\">\n",
       "<table border=\"1\" class=\"dataframe\">\n",
       "  <thead>\n",
       "    <tr style=\"text-align: right;\">\n",
       "      <th></th>\n",
       "      <th>a</th>\n",
       "      <th>b</th>\n",
       "      <th>c</th>\n",
       "    </tr>\n",
       "  </thead>\n",
       "  <tbody>\n",
       "    <tr>\n",
       "      <th>0</th>\n",
       "      <td> 1</td>\n",
       "      <td>  2</td>\n",
       "      <td>NaN</td>\n",
       "    </tr>\n",
       "    <tr>\n",
       "      <th>1</th>\n",
       "      <td> 5</td>\n",
       "      <td> 10</td>\n",
       "      <td> 20</td>\n",
       "    </tr>\n",
       "  </tbody>\n",
       "</table>\n",
       "</div>"
      ],
      "text/plain": [
       "   a   b   c\n",
       "0  1   2 NaN\n",
       "1  5  10  20"
      ]
     },
     "execution_count": 26,
     "metadata": {},
     "output_type": "execute_result"
    }
   ],
   "source": [
    "data2 = [{'a': 1, 'b': 2}, {'a': 5, 'b': 10, 'c': 20}]\n",
    "pd.DataFrame(data2)"
   ]
  },
  {
   "cell_type": "code",
   "execution_count": 27,
   "metadata": {
    "collapsed": false,
    "nbpresent": {
     "id": "95d10725-9a88-406e-9dd7-aa6e4c0634ab"
    }
   },
   "outputs": [
    {
     "data": {
      "text/html": [
       "<div style=\"max-height:1000px;max-width:1500px;overflow:auto;\">\n",
       "<table border=\"1\" class=\"dataframe\">\n",
       "  <thead>\n",
       "    <tr style=\"text-align: right;\">\n",
       "      <th></th>\n",
       "      <th>a</th>\n",
       "      <th>b</th>\n",
       "      <th>c</th>\n",
       "    </tr>\n",
       "  </thead>\n",
       "  <tbody>\n",
       "    <tr>\n",
       "      <th>first</th>\n",
       "      <td> 1</td>\n",
       "      <td>  2</td>\n",
       "      <td>NaN</td>\n",
       "    </tr>\n",
       "    <tr>\n",
       "      <th>second</th>\n",
       "      <td> 5</td>\n",
       "      <td> 10</td>\n",
       "      <td> 20</td>\n",
       "    </tr>\n",
       "  </tbody>\n",
       "</table>\n",
       "</div>"
      ],
      "text/plain": [
       "        a   b   c\n",
       "first   1   2 NaN\n",
       "second  5  10  20"
      ]
     },
     "execution_count": 27,
     "metadata": {},
     "output_type": "execute_result"
    }
   ],
   "source": [
    "pd.DataFrame(data2, index=['first', 'second'])"
   ]
  },
  {
   "cell_type": "code",
   "execution_count": 29,
   "metadata": {
    "collapsed": false,
    "nbpresent": {
     "id": "cffd08d4-c45f-4727-b277-fdaef38197d6"
    }
   },
   "outputs": [
    {
     "data": {
      "text/html": [
       "<div style=\"max-height:1000px;max-width:1500px;overflow:auto;\">\n",
       "<table border=\"1\" class=\"dataframe\">\n",
       "  <thead>\n",
       "    <tr style=\"text-align: right;\">\n",
       "      <th></th>\n",
       "      <th>a</th>\n",
       "      <th>b</th>\n",
       "    </tr>\n",
       "  </thead>\n",
       "  <tbody>\n",
       "    <tr>\n",
       "      <th>0</th>\n",
       "      <td> 1</td>\n",
       "      <td>  2</td>\n",
       "    </tr>\n",
       "    <tr>\n",
       "      <th>1</th>\n",
       "      <td> 5</td>\n",
       "      <td> 10</td>\n",
       "    </tr>\n",
       "  </tbody>\n",
       "</table>\n",
       "</div>"
      ],
      "text/plain": [
       "   a   b\n",
       "0  1   2\n",
       "1  5  10"
      ]
     },
     "execution_count": 29,
     "metadata": {},
     "output_type": "execute_result"
    }
   ],
   "source": [
    "pd.DataFrame(data2, columns=['a', 'b'])"
   ]
  },
  {
   "cell_type": "markdown",
   "metadata": {
    "nbpresent": {
     "id": "7bc9087e-ee3e-4d0f-8099-462299599b64"
    }
   },
   "source": [
    "**From a dict of tuples**\n",
    "\n",
    "You can automatically create a multi-indexed frame by passing a tuples dictionary"
   ]
  },
  {
   "cell_type": "code",
   "execution_count": 30,
   "metadata": {
    "collapsed": false,
    "nbpresent": {
     "id": "9a2a346c-d87d-4e11-b9a3-108c0c867413"
    }
   },
   "outputs": [
    {
     "data": {
      "text/html": [
       "<div style=\"max-height:1000px;max-width:1500px;overflow:auto;\">\n",
       "<table border=\"1\" class=\"dataframe\">\n",
       "  <thead>\n",
       "    <tr>\n",
       "      <th></th>\n",
       "      <th></th>\n",
       "      <th colspan=\"3\" halign=\"left\">a</th>\n",
       "      <th colspan=\"2\" halign=\"left\">b</th>\n",
       "    </tr>\n",
       "    <tr>\n",
       "      <th></th>\n",
       "      <th></th>\n",
       "      <th>a</th>\n",
       "      <th>b</th>\n",
       "      <th>c</th>\n",
       "      <th>a</th>\n",
       "      <th>b</th>\n",
       "    </tr>\n",
       "  </thead>\n",
       "  <tbody>\n",
       "    <tr>\n",
       "      <th rowspan=\"3\" valign=\"top\">A</th>\n",
       "      <th>B</th>\n",
       "      <td>  4</td>\n",
       "      <td>  1</td>\n",
       "      <td>  5</td>\n",
       "      <td>  8</td>\n",
       "      <td> 10</td>\n",
       "    </tr>\n",
       "    <tr>\n",
       "      <th>C</th>\n",
       "      <td>  3</td>\n",
       "      <td>  2</td>\n",
       "      <td>  6</td>\n",
       "      <td>  7</td>\n",
       "      <td>NaN</td>\n",
       "    </tr>\n",
       "    <tr>\n",
       "      <th>D</th>\n",
       "      <td>NaN</td>\n",
       "      <td>NaN</td>\n",
       "      <td>NaN</td>\n",
       "      <td>NaN</td>\n",
       "      <td>  9</td>\n",
       "    </tr>\n",
       "  </tbody>\n",
       "</table>\n",
       "</div>"
      ],
      "text/plain": [
       "      a           b    \n",
       "      a   b   c   a   b\n",
       "A B   4   1   5   8  10\n",
       "  C   3   2   6   7 NaN\n",
       "  D NaN NaN NaN NaN   9"
      ]
     },
     "execution_count": 30,
     "metadata": {},
     "output_type": "execute_result"
    }
   ],
   "source": [
    "pd.DataFrame({('a', 'b'): {('A', 'B'): 1, ('A', 'C'): 2},\n",
    "   ....:               ('a', 'a'): {('A', 'C'): 3, ('A', 'B'): 4},\n",
    "   ....:               ('a', 'c'): {('A', 'B'): 5, ('A', 'C'): 6},\n",
    "   ....:               ('b', 'a'): {('A', 'C'): 7, ('A', 'B'): 8},\n",
    "   ....:               ('b', 'b'): {('A', 'D'): 9, ('A', 'B'): 10}})"
   ]
  },
  {
   "cell_type": "markdown",
   "metadata": {
    "nbpresent": {
     "id": "ddbc9cb7-f2cd-4c1b-98dd-453d86d8c02e"
    }
   },
   "source": [
    "[Alternate constructors](http://pandas.pydata.org/pandas-docs/stable/dsintro.html#alternate-constructors)"
   ]
  },
  {
   "cell_type": "markdown",
   "metadata": {},
   "source": [
    "### Column selection, addition, deletion\n",
    "*(from [Pandas Docs](http://pandas.pydata.org/pandas-docs/stable/dsintro.html#column-selection-addition-deletion))*\n",
    "\n",
    "You can treat a DataFrame semantically like a dict of like-indexed Series objects. Getting, setting, and deleting columns works with the same syntax as the analogous dict operations:"
   ]
  },
  {
   "cell_type": "code",
   "execution_count": 53,
   "metadata": {
    "collapsed": false
   },
   "outputs": [
    {
     "name": "stdout",
     "output_type": "stream",
     "text": [
      "   one  three  two\n",
      "0  1.6    1.2  1.5\n",
      "1  2.2    2.8  2.1\n",
      "2  3.4    3.8  3.9\n",
      "3  3.5    NaN  NaN\n"
     ]
    },
    {
     "data": {
      "text/html": [
       "<div>\n",
       "<table border=\"1\" class=\"dataframe\">\n",
       "  <thead>\n",
       "    <tr style=\"text-align: right;\">\n",
       "      <th></th>\n",
       "      <th>one</th>\n",
       "      <th>three</th>\n",
       "      <th>two</th>\n",
       "      <th>four</th>\n",
       "      <th>flag</th>\n",
       "    </tr>\n",
       "  </thead>\n",
       "  <tbody>\n",
       "    <tr>\n",
       "      <th>0</th>\n",
       "      <td>1.6</td>\n",
       "      <td>1.2</td>\n",
       "      <td>1.5</td>\n",
       "      <td>2.40</td>\n",
       "      <td>False</td>\n",
       "    </tr>\n",
       "    <tr>\n",
       "      <th>1</th>\n",
       "      <td>2.2</td>\n",
       "      <td>2.8</td>\n",
       "      <td>2.1</td>\n",
       "      <td>4.62</td>\n",
       "      <td>True</td>\n",
       "    </tr>\n",
       "    <tr>\n",
       "      <th>2</th>\n",
       "      <td>3.4</td>\n",
       "      <td>3.8</td>\n",
       "      <td>3.9</td>\n",
       "      <td>13.26</td>\n",
       "      <td>True</td>\n",
       "    </tr>\n",
       "    <tr>\n",
       "      <th>3</th>\n",
       "      <td>3.5</td>\n",
       "      <td>NaN</td>\n",
       "      <td>NaN</td>\n",
       "      <td>NaN</td>\n",
       "      <td>True</td>\n",
       "    </tr>\n",
       "  </tbody>\n",
       "</table>\n",
       "</div>"
      ],
      "text/plain": [
       "   one  three  two   four   flag\n",
       "0  1.6    1.2  1.5   2.40  False\n",
       "1  2.2    2.8  2.1   4.62   True\n",
       "2  3.4    3.8  3.9  13.26   True\n",
       "3  3.5    NaN  NaN    NaN   True"
      ]
     },
     "execution_count": 53,
     "metadata": {},
     "output_type": "execute_result"
    }
   ],
   "source": [
    "import pandas as pd\n",
    "df = pd.DataFrame({\"one\":[1.6,2.2,3.4,3.5],\"two\":[1.5,2.1,3.9,np.nan],\"three\":[1.2,2.80,3.80,np.nan]})\n",
    "print df\n",
    "\n",
    "df['four'] = df['one'] * df['two']\n",
    "df['flag'] = df['one'] > 2\n",
    "df"
   ]
  },
  {
   "cell_type": "markdown",
   "metadata": {},
   "source": [
    "Columns can be deleted or popped like with a dict:"
   ]
  },
  {
   "cell_type": "code",
   "execution_count": 54,
   "metadata": {
    "collapsed": false
   },
   "outputs": [
    {
     "data": {
      "text/html": [
       "<div>\n",
       "<table border=\"1\" class=\"dataframe\">\n",
       "  <thead>\n",
       "    <tr style=\"text-align: right;\">\n",
       "      <th></th>\n",
       "      <th>one</th>\n",
       "      <th>four</th>\n",
       "      <th>flag</th>\n",
       "    </tr>\n",
       "  </thead>\n",
       "  <tbody>\n",
       "    <tr>\n",
       "      <th>0</th>\n",
       "      <td>1.6</td>\n",
       "      <td>2.40</td>\n",
       "      <td>False</td>\n",
       "    </tr>\n",
       "    <tr>\n",
       "      <th>1</th>\n",
       "      <td>2.2</td>\n",
       "      <td>4.62</td>\n",
       "      <td>True</td>\n",
       "    </tr>\n",
       "    <tr>\n",
       "      <th>2</th>\n",
       "      <td>3.4</td>\n",
       "      <td>13.26</td>\n",
       "      <td>True</td>\n",
       "    </tr>\n",
       "    <tr>\n",
       "      <th>3</th>\n",
       "      <td>3.5</td>\n",
       "      <td>NaN</td>\n",
       "      <td>True</td>\n",
       "    </tr>\n",
       "  </tbody>\n",
       "</table>\n",
       "</div>"
      ],
      "text/plain": [
       "   one   four   flag\n",
       "0  1.6   2.40  False\n",
       "1  2.2   4.62   True\n",
       "2  3.4  13.26   True\n",
       "3  3.5    NaN   True"
      ]
     },
     "execution_count": 54,
     "metadata": {},
     "output_type": "execute_result"
    }
   ],
   "source": [
    "del df['two']\n",
    "three = df.pop('three')\n",
    "df"
   ]
  },
  {
   "cell_type": "markdown",
   "metadata": {},
   "source": [
    "When inserting a scalar value, it will naturally be propagated to fill the column:"
   ]
  },
  {
   "cell_type": "code",
   "execution_count": 55,
   "metadata": {
    "collapsed": false
   },
   "outputs": [
    {
     "data": {
      "text/html": [
       "<div>\n",
       "<table border=\"1\" class=\"dataframe\">\n",
       "  <thead>\n",
       "    <tr style=\"text-align: right;\">\n",
       "      <th></th>\n",
       "      <th>one</th>\n",
       "      <th>four</th>\n",
       "      <th>flag</th>\n",
       "      <th>foo</th>\n",
       "    </tr>\n",
       "  </thead>\n",
       "  <tbody>\n",
       "    <tr>\n",
       "      <th>0</th>\n",
       "      <td>1.6</td>\n",
       "      <td>2.40</td>\n",
       "      <td>False</td>\n",
       "      <td>bar</td>\n",
       "    </tr>\n",
       "    <tr>\n",
       "      <th>1</th>\n",
       "      <td>2.2</td>\n",
       "      <td>4.62</td>\n",
       "      <td>True</td>\n",
       "      <td>bar</td>\n",
       "    </tr>\n",
       "    <tr>\n",
       "      <th>2</th>\n",
       "      <td>3.4</td>\n",
       "      <td>13.26</td>\n",
       "      <td>True</td>\n",
       "      <td>bar</td>\n",
       "    </tr>\n",
       "    <tr>\n",
       "      <th>3</th>\n",
       "      <td>3.5</td>\n",
       "      <td>NaN</td>\n",
       "      <td>True</td>\n",
       "      <td>bar</td>\n",
       "    </tr>\n",
       "  </tbody>\n",
       "</table>\n",
       "</div>"
      ],
      "text/plain": [
       "   one   four   flag  foo\n",
       "0  1.6   2.40  False  bar\n",
       "1  2.2   4.62   True  bar\n",
       "2  3.4  13.26   True  bar\n",
       "3  3.5    NaN   True  bar"
      ]
     },
     "execution_count": 55,
     "metadata": {},
     "output_type": "execute_result"
    }
   ],
   "source": [
    "df['foo'] = 'bar'\n",
    "df"
   ]
  },
  {
   "cell_type": "markdown",
   "metadata": {},
   "source": [
    "When inserting a Series that does not have the same index as the DataFrame, it will be conformed to the DataFrame’s index:"
   ]
  },
  {
   "cell_type": "code",
   "execution_count": 56,
   "metadata": {
    "collapsed": false
   },
   "outputs": [
    {
     "data": {
      "text/html": [
       "<div>\n",
       "<table border=\"1\" class=\"dataframe\">\n",
       "  <thead>\n",
       "    <tr style=\"text-align: right;\">\n",
       "      <th></th>\n",
       "      <th>one</th>\n",
       "      <th>four</th>\n",
       "      <th>flag</th>\n",
       "      <th>foo</th>\n",
       "      <th>one_trunc</th>\n",
       "    </tr>\n",
       "  </thead>\n",
       "  <tbody>\n",
       "    <tr>\n",
       "      <th>0</th>\n",
       "      <td>1.6</td>\n",
       "      <td>2.40</td>\n",
       "      <td>False</td>\n",
       "      <td>bar</td>\n",
       "      <td>1.6</td>\n",
       "    </tr>\n",
       "    <tr>\n",
       "      <th>1</th>\n",
       "      <td>2.2</td>\n",
       "      <td>4.62</td>\n",
       "      <td>True</td>\n",
       "      <td>bar</td>\n",
       "      <td>2.2</td>\n",
       "    </tr>\n",
       "    <tr>\n",
       "      <th>2</th>\n",
       "      <td>3.4</td>\n",
       "      <td>13.26</td>\n",
       "      <td>True</td>\n",
       "      <td>bar</td>\n",
       "      <td>NaN</td>\n",
       "    </tr>\n",
       "    <tr>\n",
       "      <th>3</th>\n",
       "      <td>3.5</td>\n",
       "      <td>NaN</td>\n",
       "      <td>True</td>\n",
       "      <td>bar</td>\n",
       "      <td>NaN</td>\n",
       "    </tr>\n",
       "  </tbody>\n",
       "</table>\n",
       "</div>"
      ],
      "text/plain": [
       "   one   four   flag  foo  one_trunc\n",
       "0  1.6   2.40  False  bar        1.6\n",
       "1  2.2   4.62   True  bar        2.2\n",
       "2  3.4  13.26   True  bar        NaN\n",
       "3  3.5    NaN   True  bar        NaN"
      ]
     },
     "execution_count": 56,
     "metadata": {},
     "output_type": "execute_result"
    }
   ],
   "source": [
    "df['one_trunc'] = df['one'][:2]\n",
    "df"
   ]
  },
  {
   "cell_type": "markdown",
   "metadata": {},
   "source": [
    "You can insert raw ndarrays but their length must match the length of the DataFrame’s index.\n",
    "\n",
    "By default, columns get inserted at the end. The insert function is available to insert at a particular location in the columns:"
   ]
  },
  {
   "cell_type": "code",
   "execution_count": 59,
   "metadata": {
    "collapsed": false
   },
   "outputs": [
    {
     "data": {
      "text/html": [
       "<div>\n",
       "<table border=\"1\" class=\"dataframe\">\n",
       "  <thead>\n",
       "    <tr style=\"text-align: right;\">\n",
       "      <th></th>\n",
       "      <th>one</th>\n",
       "      <th>rand</th>\n",
       "      <th>four</th>\n",
       "      <th>flag</th>\n",
       "      <th>foo</th>\n",
       "      <th>one_trunc</th>\n",
       "    </tr>\n",
       "  </thead>\n",
       "  <tbody>\n",
       "    <tr>\n",
       "      <th>0</th>\n",
       "      <td>1.6</td>\n",
       "      <td>4</td>\n",
       "      <td>2.40</td>\n",
       "      <td>False</td>\n",
       "      <td>bar</td>\n",
       "      <td>1.6</td>\n",
       "    </tr>\n",
       "    <tr>\n",
       "      <th>1</th>\n",
       "      <td>2.2</td>\n",
       "      <td>4</td>\n",
       "      <td>4.62</td>\n",
       "      <td>True</td>\n",
       "      <td>bar</td>\n",
       "      <td>2.2</td>\n",
       "    </tr>\n",
       "    <tr>\n",
       "      <th>2</th>\n",
       "      <td>3.4</td>\n",
       "      <td>6</td>\n",
       "      <td>13.26</td>\n",
       "      <td>True</td>\n",
       "      <td>bar</td>\n",
       "      <td>NaN</td>\n",
       "    </tr>\n",
       "    <tr>\n",
       "      <th>3</th>\n",
       "      <td>3.5</td>\n",
       "      <td>8</td>\n",
       "      <td>NaN</td>\n",
       "      <td>True</td>\n",
       "      <td>bar</td>\n",
       "      <td>NaN</td>\n",
       "    </tr>\n",
       "  </tbody>\n",
       "</table>\n",
       "</div>"
      ],
      "text/plain": [
       "   one  rand   four   flag  foo  one_trunc\n",
       "0  1.6     4   2.40  False  bar        1.6\n",
       "1  2.2     4   4.62   True  bar        2.2\n",
       "2  3.4     6  13.26   True  bar        NaN\n",
       "3  3.5     8    NaN   True  bar        NaN"
      ]
     },
     "execution_count": 59,
     "metadata": {},
     "output_type": "execute_result"
    }
   ],
   "source": [
    "df.insert(1, 'rand', np.random.randint(1,10,df[\"one\"].size))\n",
    "df"
   ]
  },
  {
   "cell_type": "markdown",
   "metadata": {},
   "source": [
    "## Indexing / Selection\n",
    "\n",
    "The basics of indexing are as follows:\n",
    "\n",
    "\n",
    "Operation \tSyntax \tResult\n",
    "* **df[col]:** Select column *(returns Series)*\t                   \t          \n",
    "* **df.loc[label]:** Select row by label *(returns Series)*\t              \t  \n",
    "* **df.iloc[loc]:** Select row by integer location *(returns Series)* \t   \t      \n",
    "* **df[5:10]:** Slice rows *(returns DataFrame)* \t                       \t          \n",
    "* **df[bool_vec]:** Select rows by boolean vector *(returns DataFrame)*   \t   \t      \n",
    "\n",
    "Row selection, for example, returns a Series whose index is the columns of the DataFrame:"
   ]
  },
  {
   "cell_type": "code",
   "execution_count": 81,
   "metadata": {
    "collapsed": false
   },
   "outputs": [
    {
     "name": "stdout",
     "output_type": "stream",
     "text": [
      "> Select column\n",
      "0    1.6\n",
      "1    2.2\n",
      "2    3.4\n",
      "3    3.5\n",
      "Name: one, dtype: float64\n",
      "> Select row by index label\n",
      "one           2.2\n",
      "rand            4\n",
      "four         4.62\n",
      "flag         True\n",
      "foo           bar\n",
      "one_trunc     2.2\n",
      "Name: 1, dtype: object\n",
      "> Select row by integer location\n",
      "one           2.2\n",
      "rand            4\n",
      "four         4.62\n",
      "flag         True\n",
      "foo           bar\n",
      "one_trunc     2.2\n",
      "Name: 1, dtype: object\n",
      "> Slice rows\n",
      "   one  rand   four  flag  foo  one_trunc\n",
      "2  3.4     6  13.26  True  bar        NaN\n",
      "3  3.5     8    NaN  True  bar        NaN\n",
      "> Select rows by boolean vector\n",
      "   one  rand   four   flag  foo  one_trunc\n",
      "0  1.6     4   2.40  False  bar        1.6\n",
      "1  2.2     4   4.62   True  bar        2.2\n",
      "2  3.4     6  13.26   True  bar        NaN\n"
     ]
    }
   ],
   "source": [
    "print \"> Select column\"\n",
    "print df[\"one\"]\n",
    "print \"> Select row by index label\"\n",
    "print df.loc[1]\n",
    "print \"> Select row by integer location\"\n",
    "print df.iloc[1]\n",
    "print \"> Slice rows\"\n",
    "print df[2:4]\n",
    "print \"> Select rows by boolean vector\"\n",
    "print df[[True,True,True,False]]"
   ]
  },
  {
   "cell_type": "markdown",
   "metadata": {},
   "source": [
    "Both loc and iloc methods can be used to acces cells or groups of cells. In thsi case the result is a DataFrame"
   ]
  },
  {
   "cell_type": "code",
   "execution_count": 99,
   "metadata": {
    "collapsed": false
   },
   "outputs": [
    {
     "name": "stdout",
     "output_type": "stream",
     "text": [
      "> Slice the whole DF\n",
      "   one  rand   four   flag  foo  one_trunc\n",
      "0  1.6     4   2.40  False  bar        1.6\n",
      "1  2.2     4   4.62   True  bar        2.2\n",
      "2  3.4     6  13.26   True  bar        NaN\n",
      "3  3.5     8    NaN   True  bar        NaN\n",
      "> Slice one row\n",
      "one           2.2\n",
      "rand            4\n",
      "four         4.62\n",
      "flag         True\n",
      "foo           bar\n",
      "one_trunc     2.2\n",
      "Name: 1, dtype: object\n",
      "> Slice one column\n",
      "0    1.6\n",
      "1    2.2\n",
      "2    3.4\n",
      "3    3.5\n",
      "Name: one, dtype: float64\n",
      "> Slice two columns\n",
      "   one  rand\n",
      "0  1.6     4\n",
      "1  2.2     4\n",
      "2  3.4     6\n",
      "3  3.5     8\n",
      "> Slice two columns and two rows\n",
      "   one  rand\n",
      "1  2.2     4\n",
      "2  3.4     6\n",
      "> Slice the whole DF\n",
      "   one  rand   four   flag  foo  one_trunc\n",
      "0  1.6     4   2.40  False  bar        1.6\n",
      "1  2.2     4   4.62   True  bar        2.2\n",
      "2  3.4     6  13.26   True  bar        NaN\n",
      "3  3.5     8    NaN   True  bar        NaN\n",
      "> Slice one row\n",
      "one           2.2\n",
      "rand            4\n",
      "four         4.62\n",
      "flag         True\n",
      "foo           bar\n",
      "one_trunc     2.2\n",
      "Name: 1, dtype: object\n",
      "> Slice one column\n",
      "0    4\n",
      "1    4\n",
      "2    6\n",
      "3    8\n",
      "Name: rand, dtype: int32\n",
      "> Slice two columns\n",
      "   rand   four\n",
      "0     4   2.40\n",
      "1     4   4.62\n",
      "2     6  13.26\n",
      "3     8    NaN\n",
      "> Slice two columns and two rows\n",
      "   rand   four\n",
      "1     4   4.62\n",
      "2     6  13.26\n"
     ]
    }
   ],
   "source": [
    "print \"> Slice the whole DF\"\n",
    "print df.loc[:,:]\n",
    "print \"> Slice one row\"\n",
    "print df.loc[1,:]\n",
    "print \"> Slice one column\"\n",
    "print df.loc[:,\"one\"]\n",
    "print \"> Slice two columns\"\n",
    "print df.loc[:,[\"one\",\"rand\"]]\n",
    "print \"> Slice two columns and two rows\"\n",
    "print df.loc[[1,2],[\"one\",\"rand\"]]\n",
    "\n",
    "print \"> Slice the whole DF\"\n",
    "print df.iloc[:,:]\n",
    "print \"> Slice one row\"\n",
    "print df.iloc[1,:]\n",
    "print \"> Slice one column\"\n",
    "print df.iloc[:,1]\n",
    "print \"> Slice two columns\"\n",
    "print df.iloc[:,[1,2]]\n",
    "print \"> Slice two columns and two rows\"\n",
    "print df.iloc[[1,2],[1,2]]"
   ]
  },
  {
   "cell_type": "markdown",
   "metadata": {},
   "source": [
    "\n"
   ]
  },
  {
   "cell_type": "code",
   "execution_count": null,
   "metadata": {
    "collapsed": false
   },
   "outputs": [],
   "source": []
  },
  {
   "cell_type": "markdown",
   "metadata": {
    "nbpresent": {
     "id": "df1a4b94-e692-4ef6-9046-b2f35e334be2"
    }
   },
   "source": [
    "### Column selection, addition, deletion\n",
    "\n",
    "We will go through these examples using a real dataset. Remember from Series examples that we loaded a csv. We did it using <code> csv </code> library, however, Pandas provide the necessary tools to read a csv file and output a DataFrame. Let's see an example using [OpenFlight](http://openflights.org/data.html) data. The data is structured as follows:\n",
    "\n",
    "* **Airport ID**\tUnique OpenFlights identifier for this airport.\n",
    "* **Name**\tName of airport. May or may not contain the City name.\n",
    "* **City**\tMain city served by airport. May be spelled differently from Name.\n",
    "* **Country**\tCountry or territory where airport is located.\n",
    "* **IATA/FAA**\t3-letter FAA code, for airports located in Country \"United States of America\". 3-letter IATA code, for all other airports. Blank if not assigned.\n",
    "* **ICAO**\t4-letter ICAO code. Blank if not assigned.\n",
    "* **Latitude**\tDecimal degrees, usually to six significant digits. Negative is South, positive is North.\n",
    "* **Longitude**\tDecimal degrees, usually to six significant digits. Negative is West, positive is East.\n",
    "* **Altitude**\tIn feet.\n",
    "* **Timezone**\tHours offset from UTC. Fractional hours are expressed as decimals, eg. India is 5.5.\n",
    "* **DST**\tDaylight savings time. One of E (Europe), A (US/Canada), S (South America), O (Australia), Z (New Zealand), N (None) or U (Unknown). See also: Help: Time\n",
    "* **Tz database time zone**\tTimezone in \"tz\" (Olson) format, eg. \"America/Los_Angeles\"."
   ]
  },
  {
   "cell_type": "code",
   "execution_count": 3,
   "metadata": {
    "collapsed": false,
    "nbpresent": {
     "id": "8e01b645-1f98-4484-a1ad-58a75c26e3fe"
    }
   },
   "outputs": [
    {
     "data": {
      "text/html": [
       "<div>\n",
       "<table border=\"1\" class=\"dataframe\">\n",
       "  <thead>\n",
       "    <tr style=\"text-align: right;\">\n",
       "      <th></th>\n",
       "      <th>Airport ID</th>\n",
       "      <th>Name</th>\n",
       "      <th>City</th>\n",
       "      <th>Country</th>\n",
       "      <th>IATA/FAA</th>\n",
       "      <th>ICAO</th>\n",
       "      <th>Latitude</th>\n",
       "      <th>Longitude</th>\n",
       "      <th>Altitude</th>\n",
       "      <th>Timezone</th>\n",
       "      <th>DST</th>\n",
       "      <th>Tz database time zone</th>\n",
       "    </tr>\n",
       "  </thead>\n",
       "  <tbody>\n",
       "    <tr>\n",
       "      <th>0</th>\n",
       "      <td>1</td>\n",
       "      <td>Goroka</td>\n",
       "      <td>Goroka</td>\n",
       "      <td>Papua New Guinea</td>\n",
       "      <td>GKA</td>\n",
       "      <td>AYGA</td>\n",
       "      <td>-6.081689</td>\n",
       "      <td>145.391881</td>\n",
       "      <td>5282</td>\n",
       "      <td>10.0</td>\n",
       "      <td>U</td>\n",
       "      <td>Pacific/Port_Moresby</td>\n",
       "    </tr>\n",
       "    <tr>\n",
       "      <th>1</th>\n",
       "      <td>2</td>\n",
       "      <td>Madang</td>\n",
       "      <td>Madang</td>\n",
       "      <td>Papua New Guinea</td>\n",
       "      <td>MAG</td>\n",
       "      <td>AYMD</td>\n",
       "      <td>-5.207083</td>\n",
       "      <td>145.788700</td>\n",
       "      <td>20</td>\n",
       "      <td>10.0</td>\n",
       "      <td>U</td>\n",
       "      <td>Pacific/Port_Moresby</td>\n",
       "    </tr>\n",
       "    <tr>\n",
       "      <th>2</th>\n",
       "      <td>3</td>\n",
       "      <td>Mount Hagen</td>\n",
       "      <td>Mount Hagen</td>\n",
       "      <td>Papua New Guinea</td>\n",
       "      <td>HGU</td>\n",
       "      <td>AYMH</td>\n",
       "      <td>-5.826789</td>\n",
       "      <td>144.295861</td>\n",
       "      <td>5388</td>\n",
       "      <td>10.0</td>\n",
       "      <td>U</td>\n",
       "      <td>Pacific/Port_Moresby</td>\n",
       "    </tr>\n",
       "    <tr>\n",
       "      <th>3</th>\n",
       "      <td>4</td>\n",
       "      <td>Nadzab</td>\n",
       "      <td>Nadzab</td>\n",
       "      <td>Papua New Guinea</td>\n",
       "      <td>LAE</td>\n",
       "      <td>AYNZ</td>\n",
       "      <td>-6.569828</td>\n",
       "      <td>146.726242</td>\n",
       "      <td>239</td>\n",
       "      <td>10.0</td>\n",
       "      <td>U</td>\n",
       "      <td>Pacific/Port_Moresby</td>\n",
       "    </tr>\n",
       "    <tr>\n",
       "      <th>4</th>\n",
       "      <td>5</td>\n",
       "      <td>Port Moresby Jacksons Intl</td>\n",
       "      <td>Port Moresby</td>\n",
       "      <td>Papua New Guinea</td>\n",
       "      <td>POM</td>\n",
       "      <td>AYPY</td>\n",
       "      <td>-9.443383</td>\n",
       "      <td>147.220050</td>\n",
       "      <td>146</td>\n",
       "      <td>10.0</td>\n",
       "      <td>U</td>\n",
       "      <td>Pacific/Port_Moresby</td>\n",
       "    </tr>\n",
       "  </tbody>\n",
       "</table>\n",
       "</div>"
      ],
      "text/plain": [
       "   Airport ID                        Name          City           Country  \\\n",
       "0           1                      Goroka        Goroka  Papua New Guinea   \n",
       "1           2                      Madang        Madang  Papua New Guinea   \n",
       "2           3                 Mount Hagen   Mount Hagen  Papua New Guinea   \n",
       "3           4                      Nadzab        Nadzab  Papua New Guinea   \n",
       "4           5  Port Moresby Jacksons Intl  Port Moresby  Papua New Guinea   \n",
       "\n",
       "  IATA/FAA  ICAO  Latitude   Longitude  Altitude  Timezone DST  \\\n",
       "0      GKA  AYGA -6.081689  145.391881      5282      10.0   U   \n",
       "1      MAG  AYMD -5.207083  145.788700        20      10.0   U   \n",
       "2      HGU  AYMH -5.826789  144.295861      5388      10.0   U   \n",
       "3      LAE  AYNZ -6.569828  146.726242       239      10.0   U   \n",
       "4      POM  AYPY -9.443383  147.220050       146      10.0   U   \n",
       "\n",
       "  Tz database time zone  \n",
       "0  Pacific/Port_Moresby  \n",
       "1  Pacific/Port_Moresby  \n",
       "2  Pacific/Port_Moresby  \n",
       "3  Pacific/Port_Moresby  \n",
       "4  Pacific/Port_Moresby  "
      ]
     },
     "execution_count": 3,
     "metadata": {},
     "output_type": "execute_result"
    }
   ],
   "source": [
    "import pandas as pd\n",
    "import urllib2\n",
    "\n",
    "url = 'https://raw.githubusercontent.com/jpatokal/openflights/master/data/airports.dat'\n",
    "response = urllib2.urlopen(url)\n",
    "head = [\"Airport ID\", \"Name\", \"City\", \"Country\", \"IATA/FAA\", \"ICAO\", \"Latitude\", \"Longitude\", \n",
    "        \"Altitude\", \"Timezone\", \"DST\", \"Tz database time zone\"]\n",
    "data_frame = pd.read_csv(response,names=head)\n",
    "data_frame.head()"
   ]
  },
  {
   "cell_type": "code",
   "execution_count": 4,
   "metadata": {
    "collapsed": false,
    "nbpresent": {
     "id": "f335cc81-3b6f-416e-93b9-7090a4b0694b"
    }
   },
   "outputs": [
    {
     "data": {
      "text/plain": [
       "0                        Goroka\n",
       "1                        Madang\n",
       "2                   Mount Hagen\n",
       "3                        Nadzab\n",
       "4    Port Moresby Jacksons Intl\n",
       "Name: Name, dtype: object"
      ]
     },
     "execution_count": 4,
     "metadata": {},
     "output_type": "execute_result"
    }
   ],
   "source": [
    "data_frame[\"Name\"].head()"
   ]
  },
  {
   "cell_type": "code",
   "execution_count": 5,
   "metadata": {
    "collapsed": false,
    "nbpresent": {
     "id": "ddfffe5c-4038-4090-942d-08197ba325c1"
    }
   },
   "outputs": [
    {
     "data": {
      "text/plain": [
       "0                        GorokaAYGA\n",
       "1                        MadangAYMD\n",
       "2                   Mount HagenAYMH\n",
       "3                        NadzabAYNZ\n",
       "4    Port Moresby Jacksons IntlAYPY\n",
       "dtype: object"
      ]
     },
     "execution_count": 5,
     "metadata": {},
     "output_type": "execute_result"
    }
   ],
   "source": [
    "(data_frame[\"Name\"] + data_frame[\"ICAO\"]).head()"
   ]
  },
  {
   "cell_type": "code",
   "execution_count": 5,
   "metadata": {
    "collapsed": false,
    "nbpresent": {
     "id": "e3792d37-cf2a-4cc2-8ff8-bdfec9d8a0cc"
    }
   },
   "outputs": [
    {
     "data": {
      "text/html": [
       "<div>\n",
       "<table border=\"1\" class=\"dataframe\">\n",
       "  <thead>\n",
       "    <tr style=\"text-align: right;\">\n",
       "      <th></th>\n",
       "      <th>Airport ID</th>\n",
       "      <th>Name</th>\n",
       "      <th>City</th>\n",
       "      <th>Country</th>\n",
       "      <th>IATA/FAA</th>\n",
       "      <th>ICAO</th>\n",
       "      <th>Latitude</th>\n",
       "      <th>Longitude</th>\n",
       "      <th>Altitude</th>\n",
       "      <th>Timezone</th>\n",
       "      <th>DST</th>\n",
       "      <th>Tz database time zone</th>\n",
       "      <th>Altitude (m)</th>\n",
       "      <th>Seaside</th>\n",
       "    </tr>\n",
       "  </thead>\n",
       "  <tbody>\n",
       "    <tr>\n",
       "      <th>1</th>\n",
       "      <td>2</td>\n",
       "      <td>Madang</td>\n",
       "      <td>Madang</td>\n",
       "      <td>Papua New Guinea</td>\n",
       "      <td>MAG</td>\n",
       "      <td>AYMD</td>\n",
       "      <td>-5.207083</td>\n",
       "      <td>145.788700</td>\n",
       "      <td>20</td>\n",
       "      <td>10.0</td>\n",
       "      <td>U</td>\n",
       "      <td>Pacific/Port_Moresby</td>\n",
       "      <td>6.0960</td>\n",
       "      <td>True</td>\n",
       "    </tr>\n",
       "    <tr>\n",
       "      <th>5</th>\n",
       "      <td>6</td>\n",
       "      <td>Wewak Intl</td>\n",
       "      <td>Wewak</td>\n",
       "      <td>Papua New Guinea</td>\n",
       "      <td>WWK</td>\n",
       "      <td>AYWK</td>\n",
       "      <td>-3.583828</td>\n",
       "      <td>143.669186</td>\n",
       "      <td>19</td>\n",
       "      <td>10.0</td>\n",
       "      <td>U</td>\n",
       "      <td>Pacific/Port_Moresby</td>\n",
       "      <td>5.7912</td>\n",
       "      <td>True</td>\n",
       "    </tr>\n",
       "    <tr>\n",
       "      <th>10</th>\n",
       "      <td>11</td>\n",
       "      <td>Akureyri</td>\n",
       "      <td>Akureyri</td>\n",
       "      <td>Iceland</td>\n",
       "      <td>AEY</td>\n",
       "      <td>BIAR</td>\n",
       "      <td>65.659994</td>\n",
       "      <td>-18.072703</td>\n",
       "      <td>6</td>\n",
       "      <td>0.0</td>\n",
       "      <td>N</td>\n",
       "      <td>Atlantic/Reykjavik</td>\n",
       "      <td>1.8288</td>\n",
       "      <td>True</td>\n",
       "    </tr>\n",
       "    <tr>\n",
       "      <th>12</th>\n",
       "      <td>13</td>\n",
       "      <td>Hornafjordur</td>\n",
       "      <td>Hofn</td>\n",
       "      <td>Iceland</td>\n",
       "      <td>HFN</td>\n",
       "      <td>BIHN</td>\n",
       "      <td>64.295556</td>\n",
       "      <td>-15.227222</td>\n",
       "      <td>24</td>\n",
       "      <td>0.0</td>\n",
       "      <td>N</td>\n",
       "      <td>Atlantic/Reykjavik</td>\n",
       "      <td>7.3152</td>\n",
       "      <td>True</td>\n",
       "    </tr>\n",
       "    <tr>\n",
       "      <th>13</th>\n",
       "      <td>14</td>\n",
       "      <td>Husavik</td>\n",
       "      <td>Husavik</td>\n",
       "      <td>Iceland</td>\n",
       "      <td>HZK</td>\n",
       "      <td>BIHU</td>\n",
       "      <td>65.952328</td>\n",
       "      <td>-17.425978</td>\n",
       "      <td>48</td>\n",
       "      <td>0.0</td>\n",
       "      <td>N</td>\n",
       "      <td>Atlantic/Reykjavik</td>\n",
       "      <td>14.6304</td>\n",
       "      <td>True</td>\n",
       "    </tr>\n",
       "  </tbody>\n",
       "</table>\n",
       "</div>"
      ],
      "text/plain": [
       "    Airport ID          Name      City           Country IATA/FAA  ICAO  \\\n",
       "1            2        Madang    Madang  Papua New Guinea      MAG  AYMD   \n",
       "5            6    Wewak Intl     Wewak  Papua New Guinea      WWK  AYWK   \n",
       "10          11      Akureyri  Akureyri           Iceland      AEY  BIAR   \n",
       "12          13  Hornafjordur      Hofn           Iceland      HFN  BIHN   \n",
       "13          14       Husavik   Husavik           Iceland      HZK  BIHU   \n",
       "\n",
       "     Latitude   Longitude  Altitude  Timezone DST Tz database time zone  \\\n",
       "1   -5.207083  145.788700        20      10.0   U  Pacific/Port_Moresby   \n",
       "5   -3.583828  143.669186        19      10.0   U  Pacific/Port_Moresby   \n",
       "10  65.659994  -18.072703         6       0.0   N    Atlantic/Reykjavik   \n",
       "12  64.295556  -15.227222        24       0.0   N    Atlantic/Reykjavik   \n",
       "13  65.952328  -17.425978        48       0.0   N    Atlantic/Reykjavik   \n",
       "\n",
       "    Altitude (m) Seaside  \n",
       "1         6.0960    True  \n",
       "5         5.7912    True  \n",
       "10        1.8288    True  \n",
       "12        7.3152    True  \n",
       "13       14.6304    True  "
      ]
     },
     "execution_count": 5,
     "metadata": {},
     "output_type": "execute_result"
    }
   ],
   "source": [
    "data_frame[\"Altitude (m)\"] = (data_frame[\"Altitude\"] * 0.3048)\n",
    "data_frame[\"Seaside\"] = data_frame[\"Altitude (m)\"] < 20\n",
    "data_frame[data_frame[\"Seaside\"]].head()"
   ]
  },
  {
   "cell_type": "code",
   "execution_count": 6,
   "metadata": {
    "collapsed": false,
    "nbpresent": {
     "id": "cecb8865-f251-4554-b4ec-86ca41c5abf5"
    }
   },
   "outputs": [
    {
     "name": "stdout",
     "output_type": "stream",
     "text": [
      "0    False\n",
      "1     True\n",
      "2    False\n",
      "3    False\n",
      "4    False\n",
      "Name: Seaside, dtype: bool\n"
     ]
    },
    {
     "data": {
      "text/html": [
       "<div>\n",
       "<table border=\"1\" class=\"dataframe\">\n",
       "  <thead>\n",
       "    <tr style=\"text-align: right;\">\n",
       "      <th></th>\n",
       "      <th>Airport ID</th>\n",
       "      <th>Name</th>\n",
       "      <th>City</th>\n",
       "      <th>Country</th>\n",
       "      <th>IATA/FAA</th>\n",
       "      <th>ICAO</th>\n",
       "      <th>Latitude</th>\n",
       "      <th>Longitude</th>\n",
       "      <th>Timezone</th>\n",
       "      <th>DST</th>\n",
       "      <th>Tz database time zone</th>\n",
       "      <th>Altitude (m)</th>\n",
       "    </tr>\n",
       "  </thead>\n",
       "  <tbody>\n",
       "    <tr>\n",
       "      <th>0</th>\n",
       "      <td>1</td>\n",
       "      <td>Goroka</td>\n",
       "      <td>Goroka</td>\n",
       "      <td>Papua New Guinea</td>\n",
       "      <td>GKA</td>\n",
       "      <td>AYGA</td>\n",
       "      <td>-6.081689</td>\n",
       "      <td>145.391881</td>\n",
       "      <td>10.0</td>\n",
       "      <td>U</td>\n",
       "      <td>Pacific/Port_Moresby</td>\n",
       "      <td>1609.9536</td>\n",
       "    </tr>\n",
       "    <tr>\n",
       "      <th>1</th>\n",
       "      <td>2</td>\n",
       "      <td>Madang</td>\n",
       "      <td>Madang</td>\n",
       "      <td>Papua New Guinea</td>\n",
       "      <td>MAG</td>\n",
       "      <td>AYMD</td>\n",
       "      <td>-5.207083</td>\n",
       "      <td>145.788700</td>\n",
       "      <td>10.0</td>\n",
       "      <td>U</td>\n",
       "      <td>Pacific/Port_Moresby</td>\n",
       "      <td>6.0960</td>\n",
       "    </tr>\n",
       "    <tr>\n",
       "      <th>2</th>\n",
       "      <td>3</td>\n",
       "      <td>Mount Hagen</td>\n",
       "      <td>Mount Hagen</td>\n",
       "      <td>Papua New Guinea</td>\n",
       "      <td>HGU</td>\n",
       "      <td>AYMH</td>\n",
       "      <td>-5.826789</td>\n",
       "      <td>144.295861</td>\n",
       "      <td>10.0</td>\n",
       "      <td>U</td>\n",
       "      <td>Pacific/Port_Moresby</td>\n",
       "      <td>1642.2624</td>\n",
       "    </tr>\n",
       "    <tr>\n",
       "      <th>3</th>\n",
       "      <td>4</td>\n",
       "      <td>Nadzab</td>\n",
       "      <td>Nadzab</td>\n",
       "      <td>Papua New Guinea</td>\n",
       "      <td>LAE</td>\n",
       "      <td>AYNZ</td>\n",
       "      <td>-6.569828</td>\n",
       "      <td>146.726242</td>\n",
       "      <td>10.0</td>\n",
       "      <td>U</td>\n",
       "      <td>Pacific/Port_Moresby</td>\n",
       "      <td>72.8472</td>\n",
       "    </tr>\n",
       "    <tr>\n",
       "      <th>4</th>\n",
       "      <td>5</td>\n",
       "      <td>Port Moresby Jacksons Intl</td>\n",
       "      <td>Port Moresby</td>\n",
       "      <td>Papua New Guinea</td>\n",
       "      <td>POM</td>\n",
       "      <td>AYPY</td>\n",
       "      <td>-9.443383</td>\n",
       "      <td>147.220050</td>\n",
       "      <td>10.0</td>\n",
       "      <td>U</td>\n",
       "      <td>Pacific/Port_Moresby</td>\n",
       "      <td>44.5008</td>\n",
       "    </tr>\n",
       "  </tbody>\n",
       "</table>\n",
       "</div>"
      ],
      "text/plain": [
       "   Airport ID                        Name          City           Country  \\\n",
       "0           1                      Goroka        Goroka  Papua New Guinea   \n",
       "1           2                      Madang        Madang  Papua New Guinea   \n",
       "2           3                 Mount Hagen   Mount Hagen  Papua New Guinea   \n",
       "3           4                      Nadzab        Nadzab  Papua New Guinea   \n",
       "4           5  Port Moresby Jacksons Intl  Port Moresby  Papua New Guinea   \n",
       "\n",
       "  IATA/FAA  ICAO  Latitude   Longitude  Timezone DST Tz database time zone  \\\n",
       "0      GKA  AYGA -6.081689  145.391881      10.0   U  Pacific/Port_Moresby   \n",
       "1      MAG  AYMD -5.207083  145.788700      10.0   U  Pacific/Port_Moresby   \n",
       "2      HGU  AYMH -5.826789  144.295861      10.0   U  Pacific/Port_Moresby   \n",
       "3      LAE  AYNZ -6.569828  146.726242      10.0   U  Pacific/Port_Moresby   \n",
       "4      POM  AYPY -9.443383  147.220050      10.0   U  Pacific/Port_Moresby   \n",
       "\n",
       "   Altitude (m)  \n",
       "0     1609.9536  \n",
       "1        6.0960  \n",
       "2     1642.2624  \n",
       "3       72.8472  \n",
       "4       44.5008  "
      ]
     },
     "execution_count": 6,
     "metadata": {},
     "output_type": "execute_result"
    }
   ],
   "source": [
    "# Columns can be deleted or popped like with a dict:\n",
    "del data_frame[\"Altitude\"]\n",
    "seaside = data_frame.pop('Seaside')\n",
    "print seaside.head()\n",
    "data_frame.head()"
   ]
  },
  {
   "cell_type": "code",
   "execution_count": 7,
   "metadata": {
    "collapsed": true,
    "nbpresent": {
     "id": "71eb786e-4e50-43b3-b094-4993ed9a1b4d"
    }
   },
   "outputs": [],
   "source": [
    "# When inserting a scalar value, it will naturally be propagated to fill the column:\n",
    "data_frame[\"Infrastructure\"] = \"Airport\" "
   ]
  },
  {
   "cell_type": "markdown",
   "metadata": {
    "nbpresent": {
     "id": "40cc8c79-a51f-43af-a9ed-5a1108d15230"
    }
   },
   "source": [
    "** Assigning New Columns in Method Chains **\n",
    "\n",
    "Inspired by dplyr’s <code> mutate </code> verb, DataFrame has an assign() method that allows you to easily create new columns that are potentially derived from existing columns."
   ]
  },
  {
   "cell_type": "code",
   "execution_count": 8,
   "metadata": {
    "collapsed": false,
    "nbpresent": {
     "id": "26fc1a5b-0b99-4a53-8106-daf566aa32a4"
    }
   },
   "outputs": [
    {
     "data": {
      "text/html": [
       "<div>\n",
       "<table border=\"1\" class=\"dataframe\">\n",
       "  <thead>\n",
       "    <tr style=\"text-align: right;\">\n",
       "      <th></th>\n",
       "      <th>Airport ID</th>\n",
       "      <th>Name</th>\n",
       "      <th>City</th>\n",
       "      <th>Country</th>\n",
       "      <th>IATA/FAA</th>\n",
       "      <th>ICAO</th>\n",
       "      <th>Latitude</th>\n",
       "      <th>Longitude</th>\n",
       "      <th>Timezone</th>\n",
       "      <th>DST</th>\n",
       "      <th>Tz database time zone</th>\n",
       "      <th>Altitude (m)</th>\n",
       "      <th>Infrastructure</th>\n",
       "      <th>hemisphere_north</th>\n",
       "    </tr>\n",
       "  </thead>\n",
       "  <tbody>\n",
       "    <tr>\n",
       "      <th>0</th>\n",
       "      <td>1</td>\n",
       "      <td>Goroka</td>\n",
       "      <td>Goroka</td>\n",
       "      <td>Papua New Guinea</td>\n",
       "      <td>GKA</td>\n",
       "      <td>AYGA</td>\n",
       "      <td>-6.081689</td>\n",
       "      <td>145.391881</td>\n",
       "      <td>10.0</td>\n",
       "      <td>U</td>\n",
       "      <td>Pacific/Port_Moresby</td>\n",
       "      <td>1609.9536</td>\n",
       "      <td>Airport</td>\n",
       "      <td>False</td>\n",
       "    </tr>\n",
       "    <tr>\n",
       "      <th>1</th>\n",
       "      <td>2</td>\n",
       "      <td>Madang</td>\n",
       "      <td>Madang</td>\n",
       "      <td>Papua New Guinea</td>\n",
       "      <td>MAG</td>\n",
       "      <td>AYMD</td>\n",
       "      <td>-5.207083</td>\n",
       "      <td>145.788700</td>\n",
       "      <td>10.0</td>\n",
       "      <td>U</td>\n",
       "      <td>Pacific/Port_Moresby</td>\n",
       "      <td>6.0960</td>\n",
       "      <td>Airport</td>\n",
       "      <td>False</td>\n",
       "    </tr>\n",
       "    <tr>\n",
       "      <th>2</th>\n",
       "      <td>3</td>\n",
       "      <td>Mount Hagen</td>\n",
       "      <td>Mount Hagen</td>\n",
       "      <td>Papua New Guinea</td>\n",
       "      <td>HGU</td>\n",
       "      <td>AYMH</td>\n",
       "      <td>-5.826789</td>\n",
       "      <td>144.295861</td>\n",
       "      <td>10.0</td>\n",
       "      <td>U</td>\n",
       "      <td>Pacific/Port_Moresby</td>\n",
       "      <td>1642.2624</td>\n",
       "      <td>Airport</td>\n",
       "      <td>False</td>\n",
       "    </tr>\n",
       "    <tr>\n",
       "      <th>3</th>\n",
       "      <td>4</td>\n",
       "      <td>Nadzab</td>\n",
       "      <td>Nadzab</td>\n",
       "      <td>Papua New Guinea</td>\n",
       "      <td>LAE</td>\n",
       "      <td>AYNZ</td>\n",
       "      <td>-6.569828</td>\n",
       "      <td>146.726242</td>\n",
       "      <td>10.0</td>\n",
       "      <td>U</td>\n",
       "      <td>Pacific/Port_Moresby</td>\n",
       "      <td>72.8472</td>\n",
       "      <td>Airport</td>\n",
       "      <td>False</td>\n",
       "    </tr>\n",
       "    <tr>\n",
       "      <th>4</th>\n",
       "      <td>5</td>\n",
       "      <td>Port Moresby Jacksons Intl</td>\n",
       "      <td>Port Moresby</td>\n",
       "      <td>Papua New Guinea</td>\n",
       "      <td>POM</td>\n",
       "      <td>AYPY</td>\n",
       "      <td>-9.443383</td>\n",
       "      <td>147.220050</td>\n",
       "      <td>10.0</td>\n",
       "      <td>U</td>\n",
       "      <td>Pacific/Port_Moresby</td>\n",
       "      <td>44.5008</td>\n",
       "      <td>Airport</td>\n",
       "      <td>False</td>\n",
       "    </tr>\n",
       "    <tr>\n",
       "      <th>5</th>\n",
       "      <td>6</td>\n",
       "      <td>Wewak Intl</td>\n",
       "      <td>Wewak</td>\n",
       "      <td>Papua New Guinea</td>\n",
       "      <td>WWK</td>\n",
       "      <td>AYWK</td>\n",
       "      <td>-3.583828</td>\n",
       "      <td>143.669186</td>\n",
       "      <td>10.0</td>\n",
       "      <td>U</td>\n",
       "      <td>Pacific/Port_Moresby</td>\n",
       "      <td>5.7912</td>\n",
       "      <td>Airport</td>\n",
       "      <td>False</td>\n",
       "    </tr>\n",
       "    <tr>\n",
       "      <th>6</th>\n",
       "      <td>7</td>\n",
       "      <td>Narsarsuaq</td>\n",
       "      <td>Narssarssuaq</td>\n",
       "      <td>Greenland</td>\n",
       "      <td>UAK</td>\n",
       "      <td>BGBW</td>\n",
       "      <td>61.160517</td>\n",
       "      <td>-45.425978</td>\n",
       "      <td>-3.0</td>\n",
       "      <td>E</td>\n",
       "      <td>America/Godthab</td>\n",
       "      <td>34.1376</td>\n",
       "      <td>Airport</td>\n",
       "      <td>True</td>\n",
       "    </tr>\n",
       "    <tr>\n",
       "      <th>7</th>\n",
       "      <td>8</td>\n",
       "      <td>Nuuk</td>\n",
       "      <td>Godthaab</td>\n",
       "      <td>Greenland</td>\n",
       "      <td>GOH</td>\n",
       "      <td>BGGH</td>\n",
       "      <td>64.190922</td>\n",
       "      <td>-51.678064</td>\n",
       "      <td>-3.0</td>\n",
       "      <td>E</td>\n",
       "      <td>America/Godthab</td>\n",
       "      <td>86.2584</td>\n",
       "      <td>Airport</td>\n",
       "      <td>True</td>\n",
       "    </tr>\n",
       "    <tr>\n",
       "      <th>8</th>\n",
       "      <td>9</td>\n",
       "      <td>Sondre Stromfjord</td>\n",
       "      <td>Sondrestrom</td>\n",
       "      <td>Greenland</td>\n",
       "      <td>SFJ</td>\n",
       "      <td>BGSF</td>\n",
       "      <td>67.016969</td>\n",
       "      <td>-50.689325</td>\n",
       "      <td>-3.0</td>\n",
       "      <td>E</td>\n",
       "      <td>America/Godthab</td>\n",
       "      <td>50.2920</td>\n",
       "      <td>Airport</td>\n",
       "      <td>True</td>\n",
       "    </tr>\n",
       "    <tr>\n",
       "      <th>9</th>\n",
       "      <td>10</td>\n",
       "      <td>Thule Air Base</td>\n",
       "      <td>Thule</td>\n",
       "      <td>Greenland</td>\n",
       "      <td>THU</td>\n",
       "      <td>BGTL</td>\n",
       "      <td>76.531203</td>\n",
       "      <td>-68.703161</td>\n",
       "      <td>-4.0</td>\n",
       "      <td>E</td>\n",
       "      <td>America/Thule</td>\n",
       "      <td>76.5048</td>\n",
       "      <td>Airport</td>\n",
       "      <td>True</td>\n",
       "    </tr>\n",
       "  </tbody>\n",
       "</table>\n",
       "</div>"
      ],
      "text/plain": [
       "   Airport ID                        Name          City           Country  \\\n",
       "0           1                      Goroka        Goroka  Papua New Guinea   \n",
       "1           2                      Madang        Madang  Papua New Guinea   \n",
       "2           3                 Mount Hagen   Mount Hagen  Papua New Guinea   \n",
       "3           4                      Nadzab        Nadzab  Papua New Guinea   \n",
       "4           5  Port Moresby Jacksons Intl  Port Moresby  Papua New Guinea   \n",
       "5           6                  Wewak Intl         Wewak  Papua New Guinea   \n",
       "6           7                  Narsarsuaq  Narssarssuaq         Greenland   \n",
       "7           8                        Nuuk      Godthaab         Greenland   \n",
       "8           9           Sondre Stromfjord   Sondrestrom         Greenland   \n",
       "9          10              Thule Air Base         Thule         Greenland   \n",
       "\n",
       "  IATA/FAA  ICAO   Latitude   Longitude  Timezone DST Tz database time zone  \\\n",
       "0      GKA  AYGA  -6.081689  145.391881      10.0   U  Pacific/Port_Moresby   \n",
       "1      MAG  AYMD  -5.207083  145.788700      10.0   U  Pacific/Port_Moresby   \n",
       "2      HGU  AYMH  -5.826789  144.295861      10.0   U  Pacific/Port_Moresby   \n",
       "3      LAE  AYNZ  -6.569828  146.726242      10.0   U  Pacific/Port_Moresby   \n",
       "4      POM  AYPY  -9.443383  147.220050      10.0   U  Pacific/Port_Moresby   \n",
       "5      WWK  AYWK  -3.583828  143.669186      10.0   U  Pacific/Port_Moresby   \n",
       "6      UAK  BGBW  61.160517  -45.425978      -3.0   E       America/Godthab   \n",
       "7      GOH  BGGH  64.190922  -51.678064      -3.0   E       America/Godthab   \n",
       "8      SFJ  BGSF  67.016969  -50.689325      -3.0   E       America/Godthab   \n",
       "9      THU  BGTL  76.531203  -68.703161      -4.0   E         America/Thule   \n",
       "\n",
       "   Altitude (m) Infrastructure hemisphere_north  \n",
       "0     1609.9536        Airport            False  \n",
       "1        6.0960        Airport            False  \n",
       "2     1642.2624        Airport            False  \n",
       "3       72.8472        Airport            False  \n",
       "4       44.5008        Airport            False  \n",
       "5        5.7912        Airport            False  \n",
       "6       34.1376        Airport             True  \n",
       "7       86.2584        Airport             True  \n",
       "8       50.2920        Airport             True  \n",
       "9       76.5048        Airport             True  "
      ]
     },
     "execution_count": 8,
     "metadata": {},
     "output_type": "execute_result"
    }
   ],
   "source": [
    "(data_frame.assign(hemisphere_north = lambda x: x['Latitude'].astype(float) > 0)).head(10)"
   ]
  },
  {
   "cell_type": "code",
   "execution_count": null,
   "metadata": {
    "collapsed": false,
    "nbpresent": {
     "id": "7c739655-fd1a-4abd-b78f-272b24837db2"
    }
   },
   "outputs": [],
   "source": []
  },
  {
   "cell_type": "markdown",
   "metadata": {
    "nbpresent": {
     "id": "c3166b7b-6c17-4bfc-b53f-87d8fe4a532a"
    }
   },
   "source": [
    "## Exercices\n",
    "\n",
    "** Exercice 1: ** Load iqsize.csv using csv library. The result should be a DataFrame.\n",
    "\n",
    "** Exercice 2: ** Identify dataset variables. Resolve type problems. Can you change types?\n",
    "\n",
    "** Exercice 3: ** Check the range of quantitative variables. Are they correct? If not correct how would you correct it (don't expend many time). \n",
    "\n",
    "** Exercice 4: ** Check the labels of qualitative variables. Are they correct? If not correct them, how would you correct them?\n",
    "\n",
    "** Exercice 5: ** For quantitative variables, compute the mean and median.\n",
    "\n",
    "** Exercice 6: ** For qualitative variables, count how many observations of each label exist.\n",
    "\n",
    "** Exercice 7: ** Compute Exercice 7 statistics, but now for each label in Sex variable."
   ]
  }
 ],
 "metadata": {
  "anaconda-cloud": {},
  "kernelspec": {
   "display_name": "Python [Root]",
   "language": "python",
   "name": "Python [Root]"
  },
  "language_info": {
   "codemirror_mode": {
    "name": "ipython",
    "version": 2
   },
   "file_extension": ".py",
   "mimetype": "text/x-python",
   "name": "python",
   "nbconvert_exporter": "python",
   "pygments_lexer": "ipython2",
   "version": "2.7.12"
  },
  "nbpresent": {
   "slides": {
    "011c8727-f965-4fd0-8c50-91c0ba7c7a32": {
     "id": "011c8727-f965-4fd0-8c50-91c0ba7c7a32",
     "prev": "34afc7e7-ac06-49ae-8f64-e56a69dc9d86",
     "regions": {
      "9ed3afbb-0e55-4f68-9beb-9c45b3a09ac0": {
       "attrs": {
        "height": 0.8,
        "width": 0.8,
        "x": 0.1,
        "y": 0.1
       },
       "content": {
        "cell": "7c739655-fd1a-4abd-b78f-272b24837db2",
        "part": "whole"
       },
       "id": "9ed3afbb-0e55-4f68-9beb-9c45b3a09ac0"
      }
     }
    },
    "01fa3c56-6d56-401e-a30f-e1612c83c20e": {
     "id": "01fa3c56-6d56-401e-a30f-e1612c83c20e",
     "prev": "97469b78-4591-4efd-88f4-51b0f21fc2ae",
     "regions": {
      "1dbc1686-e249-464e-8af6-908ddddd882e": {
       "attrs": {
        "height": 0.8,
        "width": 0.8,
        "x": 0.1,
        "y": 0.1
       },
       "content": {
        "cell": "492be9ec-9520-44d5-bbfe-34de68194ecc",
        "part": "whole"
       },
       "id": "1dbc1686-e249-464e-8af6-908ddddd882e"
      }
     }
    },
    "05f523ea-8ad1-453d-845a-8a2430ea477f": {
     "id": "05f523ea-8ad1-453d-845a-8a2430ea477f",
     "prev": "ac8f8be9-dd87-4089-a64f-930161bc9b03",
     "regions": {
      "bbe13655-b7c4-473e-8be2-586f7bdc9c9a": {
       "attrs": {
        "height": 0.8,
        "width": 0.8,
        "x": 0.1,
        "y": 0.1
       },
       "content": {
        "cell": "315b80fa-b8eb-481b-8604-ccdf4eae22a0",
        "part": "whole"
       },
       "id": "bbe13655-b7c4-473e-8be2-586f7bdc9c9a"
      }
     }
    },
    "076e6896-2153-4fab-8a77-1b24c8d0459d": {
     "id": "076e6896-2153-4fab-8a77-1b24c8d0459d",
     "prev": "900fa4e4-2bb1-4c05-90f2-c302018978a7",
     "regions": {
      "d8a09924-6f6b-4711-be80-a9de2ff71660": {
       "attrs": {
        "height": 0.8,
        "width": 0.8,
        "x": 0.1,
        "y": 0.1
       },
       "content": {
        "cell": "ce9d988a-c3ef-4ef0-9016-efb9c613d46f",
        "part": "whole"
       },
       "id": "d8a09924-6f6b-4711-be80-a9de2ff71660"
      }
     }
    },
    "124bac25-96b5-40f9-90f3-39a8d79d025e": {
     "id": "124bac25-96b5-40f9-90f3-39a8d79d025e",
     "prev": "30f526d8-db32-4a99-aa43-4221d6eef28a",
     "regions": {
      "6143108b-f682-4825-bacf-15e19c8c7ffa": {
       "attrs": {
        "height": 0.8,
        "width": 0.8,
        "x": 0.1,
        "y": 0.1
       },
       "content": {
        "cell": "bf30951f-995e-4b18-8f0a-bf55609041c4",
        "part": "whole"
       },
       "id": "6143108b-f682-4825-bacf-15e19c8c7ffa"
      }
     }
    },
    "13325a8d-74bd-4eeb-bd68-2a0cad9a12b3": {
     "id": "13325a8d-74bd-4eeb-bd68-2a0cad9a12b3",
     "prev": "7b8400b6-3343-44d0-81d7-0b8554e22f3e",
     "regions": {
      "8418a59c-2461-4c14-b22d-f004d467da17": {
       "attrs": {
        "height": 0.8,
        "width": 0.8,
        "x": 0.1,
        "y": 0.1
       },
       "content": {
        "cell": "884cac48-25de-4feb-a174-687a6ff8593c",
        "part": "whole"
       },
       "id": "8418a59c-2461-4c14-b22d-f004d467da17"
      }
     }
    },
    "13920123-db95-4d44-8fe8-c57d1de8d7f4": {
     "id": "13920123-db95-4d44-8fe8-c57d1de8d7f4",
     "prev": "ce785417-0b45-42f6-a55b-c711baafdffe",
     "regions": {
      "103eae19-444f-45c4-b670-7f0e9343ab3d": {
       "attrs": {
        "height": 0.8,
        "width": 0.8,
        "x": 0.1,
        "y": 0.1
       },
       "content": {
        "cell": "f97dacea-46ab-4b8d-af8b-7242e1128ea8",
        "part": "whole"
       },
       "id": "103eae19-444f-45c4-b670-7f0e9343ab3d"
      }
     }
    },
    "1df2a58a-eb45-44be-b076-d871d6d86f51": {
     "id": "1df2a58a-eb45-44be-b076-d871d6d86f51",
     "prev": "214d6dad-9146-4a7b-8177-49f6a612a75d",
     "regions": {
      "3372d9b4-3bad-4b85-bb35-3cef1ded8f5c": {
       "attrs": {
        "height": 0.8,
        "width": 0.8,
        "x": 0.1,
        "y": 0.1
       },
       "content": {
        "cell": "95d10725-9a88-406e-9dd7-aa6e4c0634ab",
        "part": "whole"
       },
       "id": "3372d9b4-3bad-4b85-bb35-3cef1ded8f5c"
      }
     }
    },
    "1e11bdcd-54dd-43e3-8cf8-83998eaacd02": {
     "id": "1e11bdcd-54dd-43e3-8cf8-83998eaacd02",
     "prev": "d4c252c5-1666-43f0-b83a-ea7fe591b2a7",
     "regions": {
      "bec7fe16-9bed-477b-96d5-c35621b2b634": {
       "attrs": {
        "height": 0.8,
        "width": 0.8,
        "x": 0.1,
        "y": 0.1
       },
       "content": {
        "cell": "8e01b645-1f98-4484-a1ad-58a75c26e3fe",
        "part": "whole"
       },
       "id": "bec7fe16-9bed-477b-96d5-c35621b2b634"
      }
     }
    },
    "214d6dad-9146-4a7b-8177-49f6a612a75d": {
     "id": "214d6dad-9146-4a7b-8177-49f6a612a75d",
     "prev": "d5c98acb-8a48-4e84-8aab-5aaa37e53b84",
     "regions": {
      "a1ea698d-ea7a-4862-bb66-7f66fcd1f67e": {
       "attrs": {
        "height": 0.8,
        "width": 0.8,
        "x": 0.1,
        "y": 0.1
       },
       "content": {
        "cell": "589f9200-7fb5-4587-ab20-7be44d624e4e",
        "part": "whole"
       },
       "id": "a1ea698d-ea7a-4862-bb66-7f66fcd1f67e"
      }
     }
    },
    "21551084-b654-4f9a-ac8c-2975b15abab7": {
     "id": "21551084-b654-4f9a-ac8c-2975b15abab7",
     "prev": "f19d8cd7-db60-4f5d-a9d8-7ebe1c3f2626",
     "regions": {
      "e26c891f-7862-49e7-9082-92a092575f2c": {
       "attrs": {
        "height": 0.8,
        "width": 0.8,
        "x": 0.1,
        "y": 0.1
       },
       "content": {
        "cell": "827a51a0-3318-4c76-9533-0f748366cf22",
        "part": "whole"
       },
       "id": "e26c891f-7862-49e7-9082-92a092575f2c"
      }
     }
    },
    "22a72d88-54da-4817-87cb-60e8f116805a": {
     "id": "22a72d88-54da-4817-87cb-60e8f116805a",
     "prev": "21551084-b654-4f9a-ac8c-2975b15abab7",
     "regions": {
      "566e60de-7c6a-4e82-9842-5441718fa04c": {
       "attrs": {
        "height": 0.8,
        "width": 0.8,
        "x": 0.1,
        "y": 0.1
       },
       "content": {
        "cell": "7b9d9c9e-36fa-4dcc-8435-b2d2c6b81b1e",
        "part": "whole"
       },
       "id": "566e60de-7c6a-4e82-9842-5441718fa04c"
      }
     }
    },
    "30eb2758-6cda-4835-ae47-7e620498c8e0": {
     "id": "30eb2758-6cda-4835-ae47-7e620498c8e0",
     "prev": "f86a8786-c627-4785-9f50-f4c39a214174",
     "regions": {
      "c589312f-64f0-488e-b159-a3a49e09d611": {
       "attrs": {
        "height": 0.8,
        "width": 0.8,
        "x": 0.1,
        "y": 0.1
       },
       "content": {
        "cell": "3548594b-4995-4a6d-9ec1-c13a1f516d23",
        "part": "whole"
       },
       "id": "c589312f-64f0-488e-b159-a3a49e09d611"
      }
     }
    },
    "30f526d8-db32-4a99-aa43-4221d6eef28a": {
     "id": "30f526d8-db32-4a99-aa43-4221d6eef28a",
     "prev": "3feccf76-d9a3-4596-b94c-1fcfb5c8e8c9",
     "regions": {
      "d0216624-2419-47af-a5bc-698fb157a6ec": {
       "attrs": {
        "height": 0.8,
        "width": 0.8,
        "x": 0.1,
        "y": 0.1
       },
       "content": {
        "cell": "3055a60b-069f-4d48-adf5-e0d9b4a234f5",
        "part": "whole"
       },
       "id": "d0216624-2419-47af-a5bc-698fb157a6ec"
      }
     }
    },
    "340add32-8623-491b-9735-9861f8eb6022": {
     "id": "340add32-8623-491b-9735-9861f8eb6022",
     "prev": "9d6a83c5-b173-4e17-acfd-19018b7321b5",
     "regions": {
      "f435d45a-64a5-4533-9728-ce19c25aba50": {
       "attrs": {
        "height": 0.8,
        "width": 0.8,
        "x": 0.1,
        "y": 0.1
       },
       "content": {
        "cell": "ccd589a2-9878-4eec-9993-84cfa97a6285",
        "part": "whole"
       },
       "id": "f435d45a-64a5-4533-9728-ce19c25aba50"
      }
     }
    },
    "34afc7e7-ac06-49ae-8f64-e56a69dc9d86": {
     "id": "34afc7e7-ac06-49ae-8f64-e56a69dc9d86",
     "prev": "878b2b07-6812-4a44-9210-a95108c09439",
     "regions": {
      "e5f289ad-8dfd-4529-beb2-8dc325dfc2dc": {
       "attrs": {
        "height": 0.8,
        "width": 0.8,
        "x": 0.1,
        "y": 0.1
       },
       "content": {
        "cell": "26fc1a5b-0b99-4a53-8106-daf566aa32a4",
        "part": "whole"
       },
       "id": "e5f289ad-8dfd-4529-beb2-8dc325dfc2dc"
      }
     }
    },
    "34d55b76-985d-4729-b285-99d60d7a77b6": {
     "id": "34d55b76-985d-4729-b285-99d60d7a77b6",
     "prev": "1df2a58a-eb45-44be-b076-d871d6d86f51",
     "regions": {
      "d1275e1c-ba3a-4be5-b923-674c913c3716": {
       "attrs": {
        "height": 0.8,
        "width": 0.8,
        "x": 0.1,
        "y": 0.1
       },
       "content": {
        "cell": "cffd08d4-c45f-4727-b277-fdaef38197d6",
        "part": "whole"
       },
       "id": "d1275e1c-ba3a-4be5-b923-674c913c3716"
      }
     }
    },
    "34f18634-4db8-4d19-b458-3b140fba3deb": {
     "id": "34f18634-4db8-4d19-b458-3b140fba3deb",
     "prev": "63d6179a-6dc1-41f1-9711-03ff49171001",
     "regions": {
      "ade0522c-ce46-482a-aa65-107feef55e9e": {
       "attrs": {
        "height": 0.8,
        "width": 0.8,
        "x": 0.1,
        "y": 0.1
       },
       "content": {
        "cell": "93c4bbfc-5a8b-4818-8742-ba9a83f82c16",
        "part": "whole"
       },
       "id": "ade0522c-ce46-482a-aa65-107feef55e9e"
      }
     }
    },
    "359c2ec2-0e90-4944-8fe0-057f81092aa4": {
     "id": "359c2ec2-0e90-4944-8fe0-057f81092aa4",
     "prev": "394b3949-fa52-4d6b-87f3-9c80f7725583",
     "regions": {
      "8377ba1f-3624-41d6-a690-cdf50a3e8110": {
       "attrs": {
        "height": 0.8,
        "width": 0.8,
        "x": 0.1,
        "y": 0.1
       },
       "content": {
        "cell": "5a51257f-1c22-4f37-bc81-58495a2ae106",
        "part": "whole"
       },
       "id": "8377ba1f-3624-41d6-a690-cdf50a3e8110"
      }
     }
    },
    "394b3949-fa52-4d6b-87f3-9c80f7725583": {
     "id": "394b3949-fa52-4d6b-87f3-9c80f7725583",
     "prev": "9ddf68a9-f07f-4c64-abb2-1ec6a8e184ce",
     "regions": {
      "1b2eace8-78a3-426b-926f-410f3c292731": {
       "attrs": {
        "height": 0.8,
        "width": 0.8,
        "x": 0.1,
        "y": 0.1
       },
       "content": {
        "cell": "36d96c20-0526-40a6-b381-1164436e0963",
        "part": "whole"
       },
       "id": "1b2eace8-78a3-426b-926f-410f3c292731"
      }
     }
    },
    "3feccf76-d9a3-4596-b94c-1fcfb5c8e8c9": {
     "id": "3feccf76-d9a3-4596-b94c-1fcfb5c8e8c9",
     "prev": "95fe36b6-11b2-415b-8433-cfa5cd1848d6",
     "regions": {
      "686d9096-93c0-4cd7-9e8c-8404d68cf779": {
       "attrs": {
        "height": 0.8,
        "width": 0.8,
        "x": 0.1,
        "y": 0.1
       },
       "content": {
        "cell": "4bd4cb3a-5c7b-4f14-aa70-b00b4955f66b",
        "part": "whole"
       },
       "id": "686d9096-93c0-4cd7-9e8c-8404d68cf779"
      }
     }
    },
    "40680e1b-48a1-4937-90f1-42701d6c5ca4": {
     "id": "40680e1b-48a1-4937-90f1-42701d6c5ca4",
     "prev": "45f14017-f7e2-4221-830a-6b747f4884be",
     "regions": {
      "bbc1c65e-5d57-411f-b7a3-c5f35560006c": {
       "attrs": {
        "height": 0.8,
        "width": 0.8,
        "x": 0.1,
        "y": 0.1
       },
       "content": {
        "cell": "79579b3c-ce92-4dde-ae57-3951d03aeff7",
        "part": "whole"
       },
       "id": "bbc1c65e-5d57-411f-b7a3-c5f35560006c"
      }
     }
    },
    "45f14017-f7e2-4221-830a-6b747f4884be": {
     "id": "45f14017-f7e2-4221-830a-6b747f4884be",
     "prev": "6181b8e3-6f2e-4405-a9e7-1a6fcff01e61",
     "regions": {
      "28d9c548-2c20-4e36-8fad-d9ea7297339d": {
       "attrs": {
        "height": 0.8,
        "width": 0.8,
        "x": 0.1,
        "y": 0.1
       },
       "content": {
        "cell": "c8d39764-d5ec-4b96-aaf3-2468ac086ecc",
        "part": "whole"
       },
       "id": "28d9c548-2c20-4e36-8fad-d9ea7297339d"
      }
     }
    },
    "45fcf5ff-b8f3-4719-98d6-a23ab1850020": {
     "id": "45fcf5ff-b8f3-4719-98d6-a23ab1850020",
     "prev": "6b96d2f9-bb4e-4f7c-bd5f-0d25d956fc75",
     "regions": {
      "0014ad36-9459-4005-9662-28d25cff5d94": {
       "attrs": {
        "height": 0.8,
        "width": 0.8,
        "x": 0.1,
        "y": 0.1
       },
       "content": {
        "cell": "3da91f71-d048-421b-ad16-171231c0a398",
        "part": "whole"
       },
       "id": "0014ad36-9459-4005-9662-28d25cff5d94"
      }
     }
    },
    "4a086749-7d79-43b5-a1ab-ed56166f513c": {
     "id": "4a086749-7d79-43b5-a1ab-ed56166f513c",
     "prev": "91798617-d54a-48d5-ac23-1fdf48faf5ae",
     "regions": {
      "20dbf272-04f8-4540-a38b-718c263275a3": {
       "attrs": {
        "height": 0.8,
        "width": 0.8,
        "x": 0.1,
        "y": 0.1
       },
       "content": {
        "cell": "71eb786e-4e50-43b3-b094-4993ed9a1b4d",
        "part": "whole"
       },
       "id": "20dbf272-04f8-4540-a38b-718c263275a3"
      }
     }
    },
    "4adf7dce-8289-4885-9f49-617d4dd973af": {
     "id": "4adf7dce-8289-4885-9f49-617d4dd973af",
     "prev": "c0d898f8-f3fd-4d90-8d7f-fe1cf580abe6",
     "regions": {
      "31347bd2-b51b-4bd3-9929-f14101768441": {
       "attrs": {
        "height": 0.8,
        "width": 0.8,
        "x": 0.1,
        "y": 0.1
       },
       "content": {
        "cell": "1c8e673b-78a0-4b90-84e3-a984a31b931e",
        "part": "whole"
       },
       "id": "31347bd2-b51b-4bd3-9929-f14101768441"
      }
     }
    },
    "551fb2af-a20e-4ae1-984d-bf2b6287b29c": {
     "id": "551fb2af-a20e-4ae1-984d-bf2b6287b29c",
     "prev": "fdbbad22-3a91-475b-8a97-92354e1e5d0f",
     "regions": {
      "a611c5ee-668e-49af-aa8d-a09b0c0ff973": {
       "attrs": {
        "height": 0.8,
        "width": 0.8,
        "x": 0.1,
        "y": 0.1
       },
       "content": {
        "cell": "1aae5ddc-e526-4065-b81f-4177f6d57c04",
        "part": "whole"
       },
       "id": "a611c5ee-668e-49af-aa8d-a09b0c0ff973"
      }
     }
    },
    "59264b08-16aa-472f-87d2-b9fbce48d8f3": {
     "id": "59264b08-16aa-472f-87d2-b9fbce48d8f3",
     "prev": "34d55b76-985d-4729-b285-99d60d7a77b6",
     "regions": {
      "812b73bf-eb8d-40bb-99c9-e2e45506ddea": {
       "attrs": {
        "height": 0.8,
        "width": 0.8,
        "x": 0.1,
        "y": 0.1
       },
       "content": {
        "cell": "7bc9087e-ee3e-4d0f-8099-462299599b64",
        "part": "whole"
       },
       "id": "812b73bf-eb8d-40bb-99c9-e2e45506ddea"
      }
     }
    },
    "597fc827-6cb1-4dae-8060-f1dfd4cc4bd9": {
     "id": "597fc827-6cb1-4dae-8060-f1dfd4cc4bd9",
     "prev": "d1ba85ed-b354-415e-a0b3-0dc66c7cc928",
     "regions": {
      "edcbf5a9-0c9b-4b46-a37a-5493d47034bc": {
       "attrs": {
        "height": 0.8,
        "width": 0.8,
        "x": 0.1,
        "y": 0.1
       },
       "content": {
        "cell": "19ce7b5f-8eeb-42cb-8b2b-416a60ace56b",
        "part": "whole"
       },
       "id": "edcbf5a9-0c9b-4b46-a37a-5493d47034bc"
      }
     }
    },
    "5f59e6fc-b8d8-4b7c-8a86-026f4b5f02bb": {
     "id": "5f59e6fc-b8d8-4b7c-8a86-026f4b5f02bb",
     "prev": "bd7b6d80-e5ee-4343-84a3-9413d9f8cf17",
     "regions": {
      "99e20f68-6f6d-4c5e-8d86-49273f1591d8": {
       "attrs": {
        "height": 0.8,
        "width": 0.8,
        "x": 0.1,
        "y": 0.1
       },
       "content": {
        "cell": "3d90bd7c-c9ba-4e7f-b0b2-8b6641f3230b",
        "part": "whole"
       },
       "id": "99e20f68-6f6d-4c5e-8d86-49273f1591d8"
      }
     }
    },
    "6181b8e3-6f2e-4405-a9e7-1a6fcff01e61": {
     "id": "6181b8e3-6f2e-4405-a9e7-1a6fcff01e61",
     "prev": "b87236c5-c132-4abd-966f-26eae940d3dc",
     "regions": {
      "2c59ef3d-c7d3-4ec8-9699-0c212590d98e": {
       "attrs": {
        "height": 0.8,
        "width": 0.8,
        "x": 0.1,
        "y": 0.1
       },
       "content": {
        "cell": "e6e49cb0-fae8-4ef7-8a32-80878b2237c2",
        "part": "whole"
       },
       "id": "2c59ef3d-c7d3-4ec8-9699-0c212590d98e"
      }
     }
    },
    "63d6179a-6dc1-41f1-9711-03ff49171001": {
     "id": "63d6179a-6dc1-41f1-9711-03ff49171001",
     "prev": null,
     "regions": {
      "56ee1929-6956-4b88-a5c1-825ad276dcc7": {
       "attrs": {
        "height": 0.8,
        "width": 0.8,
        "x": 0.1,
        "y": 0.1
       },
       "content": {
        "cell": "460d8967-e03b-4220-9d1c-2df3242fb783",
        "part": "whole"
       },
       "id": "56ee1929-6956-4b88-a5c1-825ad276dcc7"
      }
     }
    },
    "6957fea0-eae9-46d6-ad69-99667a291082": {
     "id": "6957fea0-eae9-46d6-ad69-99667a291082",
     "prev": "359c2ec2-0e90-4944-8fe0-057f81092aa4",
     "regions": {
      "714493d5-49b4-4884-8b70-b829cd0a65ee": {
       "attrs": {
        "height": 0.8,
        "width": 0.8,
        "x": 0.1,
        "y": 0.1
       },
       "content": {
        "cell": "385d5592-6342-4a8c-b043-166a864eb751",
        "part": "whole"
       },
       "id": "714493d5-49b4-4884-8b70-b829cd0a65ee"
      }
     }
    },
    "6b96d2f9-bb4e-4f7c-bd5f-0d25d956fc75": {
     "id": "6b96d2f9-bb4e-4f7c-bd5f-0d25d956fc75",
     "prev": "d56ef0cf-3df2-44f5-9a46-d0ae437c9e56",
     "regions": {
      "fb81aec5-ee88-494b-9dd4-08922a27e7bd": {
       "attrs": {
        "height": 0.8,
        "width": 0.8,
        "x": 0.1,
        "y": 0.1
       },
       "content": {
        "cell": "f9c4f5d2-dfb2-4cde-b87b-aa5ee8721a47",
        "part": "whole"
       },
       "id": "fb81aec5-ee88-494b-9dd4-08922a27e7bd"
      }
     }
    },
    "7b8400b6-3343-44d0-81d7-0b8554e22f3e": {
     "id": "7b8400b6-3343-44d0-81d7-0b8554e22f3e",
     "prev": "45fcf5ff-b8f3-4719-98d6-a23ab1850020",
     "regions": {
      "1780523c-ad63-48f8-9bc9-dbcc4f0daab0": {
       "attrs": {
        "height": 0.8,
        "width": 0.8,
        "x": 0.1,
        "y": 0.1
       },
       "content": {
        "cell": "b9d874cf-5fc8-4898-9ff9-c50b7ab0995d",
        "part": "whole"
       },
       "id": "1780523c-ad63-48f8-9bc9-dbcc4f0daab0"
      }
     }
    },
    "7d9ee3e4-7648-4848-b021-7b83273bbd48": {
     "id": "7d9ee3e4-7648-4848-b021-7b83273bbd48",
     "prev": "40680e1b-48a1-4937-90f1-42701d6c5ca4",
     "regions": {
      "f6b9442d-4435-459f-b955-7f1b2d56c16f": {
       "attrs": {
        "height": 0.8,
        "width": 0.8,
        "x": 0.1,
        "y": 0.1
       },
       "content": {
        "cell": "114f5947-57e1-4653-ba88-ffb1a8f58d2a",
        "part": "whole"
       },
       "id": "f6b9442d-4435-459f-b955-7f1b2d56c16f"
      }
     }
    },
    "81c4a0c4-9f5f-4642-b45c-ed5accfff323": {
     "id": "81c4a0c4-9f5f-4642-b45c-ed5accfff323",
     "prev": "34f18634-4db8-4d19-b458-3b140fba3deb",
     "regions": {
      "61bac054-3939-48a7-9b44-dc2a3c8e7a52": {
       "attrs": {
        "height": 0.8,
        "width": 0.8,
        "x": 0.1,
        "y": 0.1
       },
       "content": {
        "cell": "9cd5db80-3ea7-4812-a69e-1caee37a3bc4",
        "part": "whole"
       },
       "id": "61bac054-3939-48a7-9b44-dc2a3c8e7a52"
      }
     }
    },
    "878b2b07-6812-4a44-9210-a95108c09439": {
     "id": "878b2b07-6812-4a44-9210-a95108c09439",
     "prev": "4a086749-7d79-43b5-a1ab-ed56166f513c",
     "regions": {
      "915a5950-49a6-418b-9eba-39722dabcc5c": {
       "attrs": {
        "height": 0.8,
        "width": 0.8,
        "x": 0.1,
        "y": 0.1
       },
       "content": {
        "cell": "40cc8c79-a51f-43af-a9ed-5a1108d15230",
        "part": "whole"
       },
       "id": "915a5950-49a6-418b-9eba-39722dabcc5c"
      }
     }
    },
    "89aa661e-ff6f-4a2c-af72-eddf05cc8fdd": {
     "id": "89aa661e-ff6f-4a2c-af72-eddf05cc8fdd",
     "prev": "1e11bdcd-54dd-43e3-8cf8-83998eaacd02",
     "regions": {
      "b111c826-d63e-42c8-a2f3-708bf0227fdd": {
       "attrs": {
        "height": 0.8,
        "width": 0.8,
        "x": 0.1,
        "y": 0.1
       },
       "content": {
        "cell": "f335cc81-3b6f-416e-93b9-7090a4b0694b",
        "part": "whole"
       },
       "id": "b111c826-d63e-42c8-a2f3-708bf0227fdd"
      }
     }
    },
    "8a43bcb3-b71b-4699-9c1d-cb7f4dc12379": {
     "id": "8a43bcb3-b71b-4699-9c1d-cb7f4dc12379",
     "prev": "f262e418-d1f7-4f3a-9cab-e5fcab5547a9",
     "regions": {
      "fc12c4eb-cc70-4dd0-95fc-e3ede2a0d818": {
       "attrs": {
        "height": 0.8,
        "width": 0.8,
        "x": 0.1,
        "y": 0.1
       },
       "content": {
        "cell": "c2048b1d-09e3-4596-b339-ee39ee5e1ab1",
        "part": "whole"
       },
       "id": "fc12c4eb-cc70-4dd0-95fc-e3ede2a0d818"
      }
     }
    },
    "8bfb6905-78fc-4fea-9c06-197b0f2d3c7d": {
     "id": "8bfb6905-78fc-4fea-9c06-197b0f2d3c7d",
     "prev": "89aa661e-ff6f-4a2c-af72-eddf05cc8fdd",
     "regions": {
      "1a30edf0-ecc8-4d77-8e2c-266bb6967666": {
       "attrs": {
        "height": 0.8,
        "width": 0.8,
        "x": 0.1,
        "y": 0.1
       },
       "content": {
        "cell": "ddfffe5c-4038-4090-942d-08197ba325c1",
        "part": "whole"
       },
       "id": "1a30edf0-ecc8-4d77-8e2c-266bb6967666"
      }
     }
    },
    "900fa4e4-2bb1-4c05-90f2-c302018978a7": {
     "id": "900fa4e4-2bb1-4c05-90f2-c302018978a7",
     "prev": "597fc827-6cb1-4dae-8060-f1dfd4cc4bd9",
     "regions": {
      "5e00ee5e-3e43-4261-9271-84fba4ca89e4": {
       "attrs": {
        "height": 0.8,
        "width": 0.8,
        "x": 0.1,
        "y": 0.1
       },
       "content": {
        "cell": "6d1a1e8c-03b1-4867-ae88-ea6662d3cdf6",
        "part": "whole"
       },
       "id": "5e00ee5e-3e43-4261-9271-84fba4ca89e4"
      }
     }
    },
    "91798617-d54a-48d5-ac23-1fdf48faf5ae": {
     "id": "91798617-d54a-48d5-ac23-1fdf48faf5ae",
     "prev": "c36e9624-14d0-4189-84a6-5a168032289d",
     "regions": {
      "4f1b1324-d358-467d-9936-5ea1a9c0e591": {
       "attrs": {
        "height": 0.8,
        "width": 0.8,
        "x": 0.1,
        "y": 0.1
       },
       "content": {
        "cell": "cecb8865-f251-4554-b4ec-86ca41c5abf5",
        "part": "whole"
       },
       "id": "4f1b1324-d358-467d-9936-5ea1a9c0e591"
      }
     }
    },
    "95fe36b6-11b2-415b-8433-cfa5cd1848d6": {
     "id": "95fe36b6-11b2-415b-8433-cfa5cd1848d6",
     "prev": "7d9ee3e4-7648-4848-b021-7b83273bbd48",
     "regions": {
      "84b9faea-90a0-4ff5-a17f-2de5380ddbde": {
       "attrs": {
        "height": 0.8,
        "width": 0.8,
        "x": 0.1,
        "y": 0.1
       },
       "content": {
        "cell": "988795c7-daac-4445-8c56-922fb7b6a679",
        "part": "whole"
       },
       "id": "84b9faea-90a0-4ff5-a17f-2de5380ddbde"
      }
     }
    },
    "97469b78-4591-4efd-88f4-51b0f21fc2ae": {
     "id": "97469b78-4591-4efd-88f4-51b0f21fc2ae",
     "prev": "9f124f0a-89b4-42f3-b740-3a6916ca572a",
     "regions": {
      "b64d9bd9-f141-49cd-a7cb-547c7f5ebbb8": {
       "attrs": {
        "height": 0.8,
        "width": 0.8,
        "x": 0.1,
        "y": 0.1
       },
       "content": {
        "cell": "1f77d63e-b497-4e96-ac9c-5dbec371ddda",
        "part": "whole"
       },
       "id": "b64d9bd9-f141-49cd-a7cb-547c7f5ebbb8"
      }
     }
    },
    "9d6a83c5-b173-4e17-acfd-19018b7321b5": {
     "id": "9d6a83c5-b173-4e17-acfd-19018b7321b5",
     "prev": "cdb6fda6-e4ad-488d-a186-f06c2f2d6fbf",
     "regions": {
      "6f9f35a1-acea-49a8-9ccd-fb3d8d8e72a2": {
       "attrs": {
        "height": 0.8,
        "width": 0.8,
        "x": 0.1,
        "y": 0.1
       },
       "content": {
        "cell": "90edde86-4314-49c9-90a6-2408bccd1b1c",
        "part": "whole"
       },
       "id": "6f9f35a1-acea-49a8-9ccd-fb3d8d8e72a2"
      }
     }
    },
    "9ddf68a9-f07f-4c64-abb2-1ec6a8e184ce": {
     "id": "9ddf68a9-f07f-4c64-abb2-1ec6a8e184ce",
     "prev": "bbaa39c3-2387-40af-983f-773a8f5f3ecb",
     "regions": {
      "b69f9c40-722e-4315-bbb6-1b6f6f2e6eb0": {
       "attrs": {
        "height": 0.8,
        "width": 0.8,
        "x": 0.1,
        "y": 0.1
       },
       "content": {
        "cell": "87e730c2-a246-4e83-9496-7db7e842a8d7",
        "part": "whole"
       },
       "id": "b69f9c40-722e-4315-bbb6-1b6f6f2e6eb0"
      }
     }
    },
    "9f124f0a-89b4-42f3-b740-3a6916ca572a": {
     "id": "9f124f0a-89b4-42f3-b740-3a6916ca572a",
     "prev": "c9950279-854c-4dc1-8ded-d6d798075548",
     "regions": {
      "035a9868-e0be-4aec-a50b-7a653e582f72": {
       "attrs": {
        "height": 0.8,
        "width": 0.8,
        "x": 0.1,
        "y": 0.1
       },
       "content": {
        "cell": "92fb3c51-2e79-408f-88e2-1d5cb3747cb3",
        "part": "whole"
       },
       "id": "035a9868-e0be-4aec-a50b-7a653e582f72"
      }
     }
    },
    "9f1b76cf-4c20-4cf7-b7c4-6aa98a959aed": {
     "id": "9f1b76cf-4c20-4cf7-b7c4-6aa98a959aed",
     "prev": "ba8b7342-7638-4602-8dde-c8afb10be733",
     "regions": {
      "8241e7f9-53c5-4320-a3d1-b294ba8cd405": {
       "attrs": {
        "height": 0.8,
        "width": 0.8,
        "x": 0.1,
        "y": 0.1
       },
       "content": {
        "cell": "180e9ec5-44cd-48df-81d9-f1a09794036c",
        "part": "whole"
       },
       "id": "8241e7f9-53c5-4320-a3d1-b294ba8cd405"
      }
     }
    },
    "a1e55107-e244-425e-a403-de892691cb62": {
     "id": "a1e55107-e244-425e-a403-de892691cb62",
     "prev": "cfd4314a-c374-49cb-a54d-d8904bea09cf",
     "regions": {
      "f07865ae-aed7-485f-8650-15feedc54e47": {
       "attrs": {
        "height": 0.8,
        "width": 0.8,
        "x": 0.1,
        "y": 0.1
       },
       "content": {
        "cell": "05eb0fe1-ad20-4fef-913d-e9ffa13e6040",
        "part": "whole"
       },
       "id": "f07865ae-aed7-485f-8650-15feedc54e47"
      }
     }
    },
    "ac8f8be9-dd87-4089-a64f-930161bc9b03": {
     "id": "ac8f8be9-dd87-4089-a64f-930161bc9b03",
     "prev": "f4a7a20b-1ee7-420b-b7cf-b29a26eea6ad",
     "regions": {
      "05fa5568-a46e-49f3-a469-748f86f426a3": {
       "attrs": {
        "height": 0.8,
        "width": 0.8,
        "x": 0.1,
        "y": 0.1
       },
       "content": {
        "cell": "36e51e4d-7af1-4bb8-8124-db5bd9e624e4",
        "part": "whole"
       },
       "id": "05fa5568-a46e-49f3-a469-748f86f426a3"
      }
     }
    },
    "b1ca65c3-e209-45ea-8e6b-47447cc040a7": {
     "id": "b1ca65c3-e209-45ea-8e6b-47447cc040a7",
     "prev": "e024759e-4744-4d82-aabe-fc1e8811cbc5",
     "regions": {
      "c29a91ae-10c5-4509-872a-a249a7cf399c": {
       "attrs": {
        "height": 0.8,
        "width": 0.8,
        "x": 0.1,
        "y": 0.1
       },
       "content": {
        "cell": "961ddc3d-44b1-4a94-8627-43896c8588ea",
        "part": "whole"
       },
       "id": "c29a91ae-10c5-4509-872a-a249a7cf399c"
      }
     }
    },
    "b25d3965-4786-464e-a00f-ad30e957429e": {
     "id": "b25d3965-4786-464e-a00f-ad30e957429e",
     "prev": "5f59e6fc-b8d8-4b7c-8a86-026f4b5f02bb",
     "regions": {
      "1230a139-45a4-48ab-806f-ca6d45bdaaad": {
       "attrs": {
        "height": 0.8,
        "width": 0.8,
        "x": 0.1,
        "y": 0.1
       },
       "content": {
        "cell": "054c0226-e49d-46f4-8c3b-b11354e77002",
        "part": "whole"
       },
       "id": "1230a139-45a4-48ab-806f-ca6d45bdaaad"
      }
     }
    },
    "b87236c5-c132-4abd-966f-26eae940d3dc": {
     "id": "b87236c5-c132-4abd-966f-26eae940d3dc",
     "prev": "d2180ebb-fb09-4dc3-bc7a-32110781da5c",
     "regions": {
      "0c451c81-a916-4762-8bd7-8d6d70d1dfb9": {
       "attrs": {
        "height": 0.8,
        "width": 0.8,
        "x": 0.1,
        "y": 0.1
       },
       "content": {
        "cell": "a660dec2-1c39-4b1b-89bc-7c1a569e4dbd",
        "part": "whole"
       },
       "id": "0c451c81-a916-4762-8bd7-8d6d70d1dfb9"
      }
     }
    },
    "ba8b7342-7638-4602-8dde-c8afb10be733": {
     "id": "ba8b7342-7638-4602-8dde-c8afb10be733",
     "prev": "22a72d88-54da-4817-87cb-60e8f116805a",
     "regions": {
      "3eb30342-1cb5-4395-9937-b1f2b881b24e": {
       "attrs": {
        "height": 0.8,
        "width": 0.8,
        "x": 0.1,
        "y": 0.1
       },
       "content": {
        "cell": "91fa47ac-2ef9-4ce1-9c9f-27a863686a5d",
        "part": "whole"
       },
       "id": "3eb30342-1cb5-4395-9937-b1f2b881b24e"
      }
     }
    },
    "bbaa39c3-2387-40af-983f-773a8f5f3ecb": {
     "id": "bbaa39c3-2387-40af-983f-773a8f5f3ecb",
     "prev": "f5f5bf91-2012-4880-805e-d68ded6ee40b",
     "regions": {
      "ac85f538-54b8-4736-b212-e4b126daf005": {
       "attrs": {
        "height": 0.8,
        "width": 0.8,
        "x": 0.1,
        "y": 0.1
       },
       "content": {
        "cell": "6e0fca55-163b-4c20-9902-e79dd7b86d5b",
        "part": "whole"
       },
       "id": "ac85f538-54b8-4736-b212-e4b126daf005"
      }
     }
    },
    "bd7b6d80-e5ee-4343-84a3-9413d9f8cf17": {
     "id": "bd7b6d80-e5ee-4343-84a3-9413d9f8cf17",
     "prev": "076e6896-2153-4fab-8a77-1b24c8d0459d",
     "regions": {
      "2ceee27e-5e33-4fc0-abc0-9de33982aeb0": {
       "attrs": {
        "height": 0.8,
        "width": 0.8,
        "x": 0.1,
        "y": 0.1
       },
       "content": {
        "cell": "f8379142-73a8-4b37-9bfc-1767aa82ce22",
        "part": "whole"
       },
       "id": "2ceee27e-5e33-4fc0-abc0-9de33982aeb0"
      }
     }
    },
    "bd8ef16d-527d-4909-8e06-11568cbaac20": {
     "id": "bd8ef16d-527d-4909-8e06-11568cbaac20",
     "prev": "c1745c0d-b9ed-4498-bb3a-1ef447e8715d",
     "regions": {
      "075ab624-44ba-4f1a-a4ce-3f87ada641fd": {
       "attrs": {
        "height": 0.8,
        "width": 0.8,
        "x": 0.1,
        "y": 0.1
       },
       "content": {
        "cell": "ddbc9cb7-f2cd-4c1b-98dd-453d86d8c02e",
        "part": "whole"
       },
       "id": "075ab624-44ba-4f1a-a4ce-3f87ada641fd"
      }
     }
    },
    "c0cb3c54-f61d-46e9-be18-8ec4d24f2756": {
     "id": "c0cb3c54-f61d-46e9-be18-8ec4d24f2756",
     "prev": "8a43bcb3-b71b-4699-9c1d-cb7f4dc12379",
     "regions": {
      "3df856c3-24e4-4108-adba-1665077d0368": {
       "attrs": {
        "height": 0.8,
        "width": 0.8,
        "x": 0.1,
        "y": 0.1
       },
       "content": {
        "cell": "d5b9d35b-fce3-42b7-97ae-e4bd89f524ad",
        "part": "whole"
       },
       "id": "3df856c3-24e4-4108-adba-1665077d0368"
      }
     }
    },
    "c0d898f8-f3fd-4d90-8d7f-fe1cf580abe6": {
     "id": "c0d898f8-f3fd-4d90-8d7f-fe1cf580abe6",
     "prev": "05f523ea-8ad1-453d-845a-8a2430ea477f",
     "regions": {
      "2053a661-29ab-4ed4-8b34-8eabf03d33a2": {
       "attrs": {
        "height": 0.8,
        "width": 0.8,
        "x": 0.1,
        "y": 0.1
       },
       "content": {
        "cell": "1eb153cb-d228-430b-b977-8500e4b9fc14",
        "part": "whole"
       },
       "id": "2053a661-29ab-4ed4-8b34-8eabf03d33a2"
      }
     }
    },
    "c1745c0d-b9ed-4498-bb3a-1ef447e8715d": {
     "id": "c1745c0d-b9ed-4498-bb3a-1ef447e8715d",
     "prev": "59264b08-16aa-472f-87d2-b9fbce48d8f3",
     "regions": {
      "c6045b9c-e1a2-43e1-a2d9-ccf5c6b1f22e": {
       "attrs": {
        "height": 0.8,
        "width": 0.8,
        "x": 0.1,
        "y": 0.1
       },
       "content": {
        "cell": "9a2a346c-d87d-4e11-b9a3-108c0c867413",
        "part": "whole"
       },
       "id": "c6045b9c-e1a2-43e1-a2d9-ccf5c6b1f22e"
      }
     }
    },
    "c20c6a07-d803-43e8-b74f-e84a6c1ad090": {
     "id": "c20c6a07-d803-43e8-b74f-e84a6c1ad090",
     "prev": "c98dda4d-37ee-4f11-98c9-598e18f641b1",
     "regions": {
      "48dc0ea9-bc94-471f-a6fe-1bfd45db53bb": {
       "attrs": {
        "height": 0.8,
        "width": 0.8,
        "x": 0.1,
        "y": 0.1
       },
       "content": {
        "cell": "420dfa09-a1a6-454a-a840-bdfc04711b85",
        "part": "whole"
       },
       "id": "48dc0ea9-bc94-471f-a6fe-1bfd45db53bb"
      }
     }
    },
    "c273aeee-7be1-44b3-a29c-f39dde472246": {
     "id": "c273aeee-7be1-44b3-a29c-f39dde472246",
     "prev": "fbe65756-51dd-458b-ae9d-799f6685bd61",
     "regions": {
      "08626b12-3b5d-4696-b7ea-aa7b773e262d": {
       "attrs": {
        "height": 0.8,
        "width": 0.8,
        "x": 0.1,
        "y": 0.1
       },
       "content": {
        "cell": "085101b3-9840-4b69-8a68-933f4cba671d",
        "part": "whole"
       },
       "id": "08626b12-3b5d-4696-b7ea-aa7b773e262d"
      }
     }
    },
    "c36e9624-14d0-4189-84a6-5a168032289d": {
     "id": "c36e9624-14d0-4189-84a6-5a168032289d",
     "prev": "8bfb6905-78fc-4fea-9c06-197b0f2d3c7d",
     "regions": {
      "9ede79fa-b447-480c-9754-318c7f4a0485": {
       "attrs": {
        "height": 0.8,
        "width": 0.8,
        "x": 0.1,
        "y": 0.1
       },
       "content": {
        "cell": "e3792d37-cf2a-4cc2-8ff8-bdfec9d8a0cc",
        "part": "whole"
       },
       "id": "9ede79fa-b447-480c-9754-318c7f4a0485"
      }
     }
    },
    "c48d8b90-2a24-4f1d-a569-cf33efc2d407": {
     "id": "c48d8b90-2a24-4f1d-a569-cf33efc2d407",
     "prev": "13920123-db95-4d44-8fe8-c57d1de8d7f4",
     "regions": {
      "f23ebb73-64de-413c-864c-7465b46322a9": {
       "attrs": {
        "height": 0.8,
        "width": 0.8,
        "x": 0.1,
        "y": 0.1
       },
       "content": {
        "cell": "98fa0ab9-3feb-4a2f-9667-ad6c4a97c1bc",
        "part": "whole"
       },
       "id": "f23ebb73-64de-413c-864c-7465b46322a9"
      }
     }
    },
    "c98dda4d-37ee-4f11-98c9-598e18f641b1": {
     "id": "c98dda4d-37ee-4f11-98c9-598e18f641b1",
     "prev": "e5671ea1-5e98-48b8-bf21-99ce2405f506",
     "regions": {
      "2edaee01-66c8-4897-821e-a683f9175526": {
       "attrs": {
        "height": 0.8,
        "width": 0.8,
        "x": 0.1,
        "y": 0.1
       },
       "content": {
        "cell": "d2b20d93-da12-4928-b0dd-4214a33497f9",
        "part": "whole"
       },
       "id": "2edaee01-66c8-4897-821e-a683f9175526"
      }
     }
    },
    "c9950279-854c-4dc1-8ded-d6d798075548": {
     "id": "c9950279-854c-4dc1-8ded-d6d798075548",
     "prev": "c20c6a07-d803-43e8-b74f-e84a6c1ad090",
     "regions": {
      "e5ec579a-7ca6-47b3-a300-1ade702b57b1": {
       "attrs": {
        "height": 0.8,
        "width": 0.8,
        "x": 0.1,
        "y": 0.1
       },
       "content": {
        "cell": "68a5e109-f83c-45bd-8aff-da067c190463",
        "part": "whole"
       },
       "id": "e5ec579a-7ca6-47b3-a300-1ade702b57b1"
      }
     }
    },
    "cdb6fda6-e4ad-488d-a186-f06c2f2d6fbf": {
     "id": "cdb6fda6-e4ad-488d-a186-f06c2f2d6fbf",
     "prev": "c0cb3c54-f61d-46e9-be18-8ec4d24f2756",
     "regions": {
      "2fe7b8f1-2e9c-448c-ad14-2f56cb691162": {
       "attrs": {
        "height": 0.8,
        "width": 0.8,
        "x": 0.1,
        "y": 0.1
       },
       "content": {
        "cell": "c2d865f5-be7f-4258-8014-fe1b01b8b89c",
        "part": "whole"
       },
       "id": "2fe7b8f1-2e9c-448c-ad14-2f56cb691162"
      }
     }
    },
    "ce785417-0b45-42f6-a55b-c711baafdffe": {
     "id": "ce785417-0b45-42f6-a55b-c711baafdffe",
     "prev": "81c4a0c4-9f5f-4642-b45c-ed5accfff323",
     "regions": {
      "4f912aa8-c986-4801-b418-1f80230b8482": {
       "attrs": {
        "height": 0.8,
        "width": 0.8,
        "x": 0.1,
        "y": 0.1
       },
       "content": {
        "cell": "ae53f425-b430-45a4-96e7-707b3165ab6b",
        "part": "whole"
       },
       "id": "4f912aa8-c986-4801-b418-1f80230b8482"
      }
     }
    },
    "cfd4314a-c374-49cb-a54d-d8904bea09cf": {
     "id": "cfd4314a-c374-49cb-a54d-d8904bea09cf",
     "prev": "c273aeee-7be1-44b3-a29c-f39dde472246",
     "regions": {
      "2d4ef199-a904-48a4-abad-8bf05e6d768e": {
       "attrs": {
        "height": 0.8,
        "width": 0.8,
        "x": 0.1,
        "y": 0.1
       },
       "content": {
        "cell": "0d2dceb4-cb9f-462b-b5f1-b179b573105c",
        "part": "whole"
       },
       "id": "2d4ef199-a904-48a4-abad-8bf05e6d768e"
      }
     }
    },
    "d1ba85ed-b354-415e-a0b3-0dc66c7cc928": {
     "id": "d1ba85ed-b354-415e-a0b3-0dc66c7cc928",
     "prev": "d5d59df0-d3af-489c-9a96-01ce00d7cb0a",
     "regions": {
      "84a0d4cc-0148-4872-8f83-7bc3ed98f963": {
       "attrs": {
        "height": 0.8,
        "width": 0.8,
        "x": 0.1,
        "y": 0.1
       },
       "content": {
        "cell": "7f4368f7-a3ff-4d05-8e12-ba49b2c1cfde",
        "part": "whole"
       },
       "id": "84a0d4cc-0148-4872-8f83-7bc3ed98f963"
      }
     }
    },
    "d2180ebb-fb09-4dc3-bc7a-32110781da5c": {
     "id": "d2180ebb-fb09-4dc3-bc7a-32110781da5c",
     "prev": "551fb2af-a20e-4ae1-984d-bf2b6287b29c",
     "regions": {
      "5232a528-672d-45cb-934a-b92235dfb73e": {
       "attrs": {
        "height": 0.8,
        "width": 0.8,
        "x": 0.1,
        "y": 0.1
       },
       "content": {
        "cell": "d9fb9ef4-fcd3-4800-a9d4-315dc219b613",
        "part": "whole"
       },
       "id": "5232a528-672d-45cb-934a-b92235dfb73e"
      }
     }
    },
    "d4c252c5-1666-43f0-b83a-ea7fe591b2a7": {
     "id": "d4c252c5-1666-43f0-b83a-ea7fe591b2a7",
     "prev": "bd8ef16d-527d-4909-8e06-11568cbaac20",
     "regions": {
      "a5b0d08a-3239-401e-9af0-8b705b606695": {
       "attrs": {
        "height": 0.8,
        "width": 0.8,
        "x": 0.1,
        "y": 0.1
       },
       "content": {
        "cell": "df1a4b94-e692-4ef6-9046-b2f35e334be2",
        "part": "whole"
       },
       "id": "a5b0d08a-3239-401e-9af0-8b705b606695"
      }
     }
    },
    "d56ef0cf-3df2-44f5-9a46-d0ae437c9e56": {
     "id": "d56ef0cf-3df2-44f5-9a46-d0ae437c9e56",
     "prev": "30eb2758-6cda-4835-ae47-7e620498c8e0",
     "regions": {
      "3bc3d622-699e-4be1-a4cc-f4f719a4484f": {
       "attrs": {
        "height": 0.8,
        "width": 0.8,
        "x": 0.1,
        "y": 0.1
       },
       "content": {
        "cell": "fe3e5df6-4c87-4406-9e8c-2ba1ba0fee0c",
        "part": "whole"
       },
       "id": "3bc3d622-699e-4be1-a4cc-f4f719a4484f"
      }
     }
    },
    "d5c98acb-8a48-4e84-8aab-5aaa37e53b84": {
     "id": "d5c98acb-8a48-4e84-8aab-5aaa37e53b84",
     "prev": "f2fbd273-b4bf-4644-b38d-f17104544b69",
     "regions": {
      "8d3eb57f-2fd9-49ad-a228-d0aec67b6325": {
       "attrs": {
        "height": 0.8,
        "width": 0.8,
        "x": 0.1,
        "y": 0.1
       },
       "content": {
        "cell": "64745e83-b13f-4300-b7c9-5c18cd5c7357",
        "part": "whole"
       },
       "id": "8d3eb57f-2fd9-49ad-a228-d0aec67b6325"
      }
     }
    },
    "d5d59df0-d3af-489c-9a96-01ce00d7cb0a": {
     "id": "d5d59df0-d3af-489c-9a96-01ce00d7cb0a",
     "prev": "01fa3c56-6d56-401e-a30f-e1612c83c20e",
     "regions": {
      "fe57eb8e-ac81-4d05-ab13-ad8c76327d43": {
       "attrs": {
        "height": 0.8,
        "width": 0.8,
        "x": 0.1,
        "y": 0.1
       },
       "content": {
        "cell": "6717a91d-1594-4399-adf3-b06f9bacd848",
        "part": "whole"
       },
       "id": "fe57eb8e-ac81-4d05-ab13-ad8c76327d43"
      }
     }
    },
    "e024759e-4744-4d82-aabe-fc1e8811cbc5": {
     "id": "e024759e-4744-4d82-aabe-fc1e8811cbc5",
     "prev": "6957fea0-eae9-46d6-ad69-99667a291082",
     "regions": {
      "441a5a0b-af5b-491a-b132-fc5298d9c7f6": {
       "attrs": {
        "height": 0.8,
        "width": 0.8,
        "x": 0.1,
        "y": 0.1
       },
       "content": {
        "cell": "29c50b82-871b-4212-bc5f-30f2f243386a",
        "part": "whole"
       },
       "id": "441a5a0b-af5b-491a-b132-fc5298d9c7f6"
      }
     }
    },
    "e0d40fe4-3f25-408e-87e2-80e58e530c4c": {
     "id": "e0d40fe4-3f25-408e-87e2-80e58e530c4c",
     "prev": "a1e55107-e244-425e-a403-de892691cb62",
     "regions": {
      "4968cf14-0c8e-4c55-aeab-83150045f0df": {
       "attrs": {
        "height": 0.8,
        "width": 0.8,
        "x": 0.1,
        "y": 0.1
       },
       "content": {
        "cell": "51fc4011-00ec-4c89-9952-46d9416ee240",
        "part": "whole"
       },
       "id": "4968cf14-0c8e-4c55-aeab-83150045f0df"
      }
     }
    },
    "e3c4a2f2-98ff-4c1f-ba1b-1143f4534876": {
     "id": "e3c4a2f2-98ff-4c1f-ba1b-1143f4534876",
     "prev": "011c8727-f965-4fd0-8c50-91c0ba7c7a32",
     "regions": {
      "b0f9fe87-099e-4a48-80cb-b7d9a421af77": {
       "attrs": {
        "height": 0.8,
        "width": 0.8,
        "x": 0.1,
        "y": 0.1
       },
       "content": {
        "cell": "c3166b7b-6c17-4bfc-b53f-87d8fe4a532a",
        "part": "whole"
       },
       "id": "b0f9fe87-099e-4a48-80cb-b7d9a421af77"
      }
     }
    },
    "e5671ea1-5e98-48b8-bf21-99ce2405f506": {
     "id": "e5671ea1-5e98-48b8-bf21-99ce2405f506",
     "prev": "4adf7dce-8289-4885-9f49-617d4dd973af",
     "regions": {
      "bb8e7d6a-e8b5-4b55-b23e-6ebbc6fa68ea": {
       "attrs": {
        "height": 0.8,
        "width": 0.8,
        "x": 0.1,
        "y": 0.1
       },
       "content": {
        "cell": "c043c4b0-02e0-4f39-b242-6bdeca1be2ba",
        "part": "whole"
       },
       "id": "bb8e7d6a-e8b5-4b55-b23e-6ebbc6fa68ea"
      }
     }
    },
    "e8026a70-a900-4cfe-8779-4eed3147dcb7": {
     "id": "e8026a70-a900-4cfe-8779-4eed3147dcb7",
     "prev": "124bac25-96b5-40f9-90f3-39a8d79d025e",
     "regions": {
      "21e0d56c-ca25-4dec-a9fd-c51aba160b32": {
       "attrs": {
        "height": 0.8,
        "width": 0.8,
        "x": 0.1,
        "y": 0.1
       },
       "content": {
        "cell": "939da919-ffa0-4712-a909-81f9364db52c",
        "part": "whole"
       },
       "id": "21e0d56c-ca25-4dec-a9fd-c51aba160b32"
      }
     }
    },
    "f19d8cd7-db60-4f5d-a9d8-7ebe1c3f2626": {
     "id": "f19d8cd7-db60-4f5d-a9d8-7ebe1c3f2626",
     "prev": "b25d3965-4786-464e-a00f-ad30e957429e",
     "regions": {
      "df0fd453-f224-40b4-840d-6627e1def671": {
       "attrs": {
        "height": 0.8,
        "width": 0.8,
        "x": 0.1,
        "y": 0.1
       },
       "content": {
        "cell": "89d6f43a-c13d-4fa4-bf0c-22c24724762c",
        "part": "whole"
       },
       "id": "df0fd453-f224-40b4-840d-6627e1def671"
      }
     }
    },
    "f262e418-d1f7-4f3a-9cab-e5fcab5547a9": {
     "id": "f262e418-d1f7-4f3a-9cab-e5fcab5547a9",
     "prev": "e0d40fe4-3f25-408e-87e2-80e58e530c4c",
     "regions": {
      "00400072-3711-4183-8c8e-5b850a685266": {
       "attrs": {
        "height": 0.8,
        "width": 0.8,
        "x": 0.1,
        "y": 0.1
       },
       "content": {
        "cell": "ce6b38da-a8ae-43f0-94c1-32d78ce8cd07",
        "part": "whole"
       },
       "id": "00400072-3711-4183-8c8e-5b850a685266"
      }
     }
    },
    "f2fbd273-b4bf-4644-b38d-f17104544b69": {
     "id": "f2fbd273-b4bf-4644-b38d-f17104544b69",
     "prev": "e8026a70-a900-4cfe-8779-4eed3147dcb7",
     "regions": {
      "59e02517-e6b5-4789-aca7-71b3cbb8994d": {
       "attrs": {
        "height": 0.8,
        "width": 0.8,
        "x": 0.1,
        "y": 0.1
       },
       "content": {
        "cell": "546dfaeb-86eb-4018-bc53-c7ef2728936b",
        "part": "whole"
       },
       "id": "59e02517-e6b5-4789-aca7-71b3cbb8994d"
      }
     }
    },
    "f4a7a20b-1ee7-420b-b7cf-b29a26eea6ad": {
     "id": "f4a7a20b-1ee7-420b-b7cf-b29a26eea6ad",
     "prev": "340add32-8623-491b-9735-9861f8eb6022",
     "regions": {
      "2686248a-a2f1-4f7f-bd5b-055648d1c3c5": {
       "attrs": {
        "height": 0.8,
        "width": 0.8,
        "x": 0.1,
        "y": 0.1
       },
       "content": {
        "cell": "600309f8-9d06-4879-babd-837cebc81e73",
        "part": "whole"
       },
       "id": "2686248a-a2f1-4f7f-bd5b-055648d1c3c5"
      }
     }
    },
    "f5f5bf91-2012-4880-805e-d68ded6ee40b": {
     "id": "f5f5bf91-2012-4880-805e-d68ded6ee40b",
     "prev": "13325a8d-74bd-4eeb-bd68-2a0cad9a12b3",
     "regions": {
      "16276ffc-5aac-49a2-addf-579bb0732221": {
       "attrs": {
        "height": 0.8,
        "width": 0.8,
        "x": 0.1,
        "y": 0.1
       },
       "content": {
        "cell": "e0536967-e923-4503-8062-52054c00a067",
        "part": "whole"
       },
       "id": "16276ffc-5aac-49a2-addf-579bb0732221"
      }
     }
    },
    "f86a8786-c627-4785-9f50-f4c39a214174": {
     "id": "f86a8786-c627-4785-9f50-f4c39a214174",
     "prev": "9f1b76cf-4c20-4cf7-b7c4-6aa98a959aed",
     "regions": {
      "b93711e6-3dd4-41dc-9f2a-6e1ed09df7b7": {
       "attrs": {
        "height": 0.8,
        "width": 0.8,
        "x": 0.1,
        "y": 0.1
       },
       "content": {
        "cell": "6d0faa7f-adf7-4fd6-9e43-509cd0173dca",
        "part": "whole"
       },
       "id": "b93711e6-3dd4-41dc-9f2a-6e1ed09df7b7"
      }
     }
    },
    "fbe65756-51dd-458b-ae9d-799f6685bd61": {
     "id": "fbe65756-51dd-458b-ae9d-799f6685bd61",
     "prev": "c48d8b90-2a24-4f1d-a569-cf33efc2d407",
     "regions": {
      "1bcb4b71-896a-4b20-9815-bbd5e93b1926": {
       "attrs": {
        "height": 0.8,
        "width": 0.8,
        "x": 0.1,
        "y": 0.1
       },
       "content": {
        "cell": "a229ac0d-fde3-4912-a36c-722816ce7f5e",
        "part": "whole"
       },
       "id": "1bcb4b71-896a-4b20-9815-bbd5e93b1926"
      }
     }
    },
    "fdbbad22-3a91-475b-8a97-92354e1e5d0f": {
     "id": "fdbbad22-3a91-475b-8a97-92354e1e5d0f",
     "prev": "b1ca65c3-e209-45ea-8e6b-47447cc040a7",
     "regions": {
      "d70abc29-f0dc-4d50-93fa-ec543d0be1d5": {
       "attrs": {
        "height": 0.8,
        "width": 0.8,
        "x": 0.1,
        "y": 0.1
       },
       "content": {
        "cell": "b249e00c-af32-4e86-8928-1f3ebe10ba31",
        "part": "whole"
       },
       "id": "d70abc29-f0dc-4d50-93fa-ec543d0be1d5"
      }
     }
    }
   },
   "themes": {}
  }
 },
 "nbformat": 4,
 "nbformat_minor": 0
}
