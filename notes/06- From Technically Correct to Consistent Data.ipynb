{
 "cells": [
  {
   "cell_type": "markdown",
   "metadata": {},
   "source": [
    "# From Technically Correct to Consistent Data\n",
    "\n",
    "(*from de Jonge van der Loo*)\n",
    "\n",
    "Consistent data is technically correct data that is ready for statistical analysis. \n",
    "\n",
    "This implies that data with missing values, special values, errors and outliers are, either:\n",
    "* removed,\n",
    "* corrected, or\n",
    "* imputed\n",
    "\n",
    "The data is consistent with constraints based on real-world knowledge about the subject that the data describe.\n",
    "\n",
    "Consistency can be understood to include:\n",
    "* **in-record consistency:** no contradictory information is stored in a single record\n",
    "* **cross-record consistency:** meaning that statistical summaries of different variables do not conflict with each other\n",
    "* **cross-dataset consistency:** meaning that the dataset that is currently analyzed is consistent with other datasets pertaining to the same subject matter\n",
    "\n",
    "We mainly Will focus on methods dealing with **in-record consistency**, with the exception of outlier handling which can be considered a cross-record consistency issue.\n",
    "\n",
    "The process towards consistent data always involves the following 3 steps:\n",
    "\n",
    "1. **Detection** of an inconsistency: find which constraints are violated. For example, an age variable is constrained to non-negative values.\n",
    "2. **Selection** of the field or fields causing the inconsistency. This is trivial in the case of a univariate demand as in the previous step, but may be more cumbersome when cross-variable relations are expected to hold. For example the marital status of a child must be unmarried. In the case of a violation it is not immediately clear whether age, marital status or both are wrong.\n",
    "3. **Correction** of the fields that are deemed erroneous by the selection method. This may be done through deterministic (model-based) or stochastic methods\n",
    "\n",
    "The execution of three steps won't be always neated divided in different code executions. They can be used all in one execution. However, it is important to keep in mind the process towards Consistent Data.\n",
    "\n",
    "## Detection and Localization of Errors\n",
    "\n",
    "This is the first step towards consistency satisfaction: to detect all localize errors.\n",
    "\n",
    "### Missing Values\n",
    "\n",
    "A missing value, represented by (np.nan in Pandas), is a placeholder for a datum of which **the type is known but its value isn't** (technically correct but not consistent). \n",
    "\n",
    "Therefore, **it is impossible to perform statistical analysis on data where one or\n",
    "more values in the data are missing**.\n",
    "\n",
    "We have two options:\n",
    "1. omit elements from a dataset that contain missing values\n",
    "2. impute a value\n",
    "\n",
    "** Missingness is something to be dealt with prior to any analysis.**\n",
    "\n",
    "In practice, analysts, but also commonly used numerical software may confuse a missing value\n",
    "with a default value or category.\n",
    "\n",
    "In Pandas however, there's an [explanation](http://pandas.pydata.org/pandas-docs/stable/missing_data.html#calculations-with-missing-data) of how NA's are treated in each method"
   ]
  },
  {
   "cell_type": "code",
   "execution_count": 11,
   "metadata": {
    "collapsed": false
   },
   "outputs": [
    {
     "name": "stdout",
     "output_type": "stream",
     "text": [
      "0.54 0.405 0.54\n"
     ]
    }
   ],
   "source": [
    "import numpy as np\n",
    "import pandas as pd\n",
    "\n",
    "s1 = pd.Series([0.9,0.6,np.nan,0.12])\n",
    "s2 = pd.Series([0.9,0.6,0,0.12])\n",
    "s3 = pd.Series([0.9,0.6,0.12])\n",
    "\n",
    "print s1.mean(), s2.mean(), s3.mean()"
   ]
  },
  {
   "cell_type": "code",
   "execution_count": 15,
   "metadata": {
    "collapsed": false
   },
   "outputs": [
    {
     "data": {
      "text/plain": [
       "(1.62, 1.62, 1.62)"
      ]
     },
     "execution_count": 15,
     "metadata": {},
     "output_type": "execute_result"
    }
   ],
   "source": [
    "s1.sum(), s2.sum(), s3.sum()"
   ]
  },
  {
   "cell_type": "code",
   "execution_count": 16,
   "metadata": {
    "collapsed": false
   },
   "outputs": [
    {
     "data": {
      "text/plain": [
       "nan"
      ]
     },
     "execution_count": 16,
     "metadata": {},
     "output_type": "execute_result"
    }
   ],
   "source": [
    "np.nan + 2"
   ]
  },
  {
   "cell_type": "markdown",
   "metadata": {},
   "source": [
    "It should be **up to the analyst to decide how empty values are handled**, since a **default imputation** may yield unexpected or **erroneous results** for reasons that are hard to trace.\n",
    "\n",
    "Pandas is not consistent with this treatment in contraposition with R, where most of the methods provide to the analysis the option of how to handle NA.\n",
    "\n",
    "We already learnt how to deal with NaN:"
   ]
  },
  {
   "cell_type": "code",
   "execution_count": 57,
   "metadata": {
    "collapsed": false
   },
   "outputs": [
    {
     "name": "stdout",
     "output_type": "stream",
     "text": [
      "0     True\n",
      "1     True\n",
      "2     True\n",
      "3    False\n",
      "4    False\n",
      "dtype: bool\n"
     ]
    },
    {
     "data": {
      "text/html": [
       "<div>\n",
       "<table border=\"1\" class=\"dataframe\">\n",
       "  <thead>\n",
       "    <tr style=\"text-align: right;\">\n",
       "      <th></th>\n",
       "      <th>one</th>\n",
       "      <th>three</th>\n",
       "      <th>two</th>\n",
       "    </tr>\n",
       "  </thead>\n",
       "  <tbody>\n",
       "    <tr>\n",
       "      <th>3</th>\n",
       "      <td>-0.419701</td>\n",
       "      <td>-1.407426</td>\n",
       "      <td>-1.12682</td>\n",
       "    </tr>\n",
       "    <tr>\n",
       "      <th>4</th>\n",
       "      <td>-0.680209</td>\n",
       "      <td>0.516218</td>\n",
       "      <td>-0.12596</td>\n",
       "    </tr>\n",
       "  </tbody>\n",
       "</table>\n",
       "</div>"
      ],
      "text/plain": [
       "        one     three      two\n",
       "3 -0.419701 -1.407426 -1.12682\n",
       "4 -0.680209  0.516218 -0.12596"
      ]
     },
     "execution_count": 57,
     "metadata": {},
     "output_type": "execute_result"
    }
   ],
   "source": [
    "df = pd.DataFrame({\"one\":np.random.normal(0,1,5),\n",
    "                    \"two\":np.random.normal(0,1,5),\n",
    "                  \"three\":np.random.normal(0,1,5)})\n",
    "df.iloc[0,0] = np.nan\n",
    "df.iloc[1,1] = np.nan\n",
    "df.iloc[2,2] = np.nan\n",
    "\n",
    "print df.isnull().any(axis=1)\n",
    "df.loc[-df.isnull().any(axis=1),:]"
   ]
  },
  {
   "cell_type": "code",
   "execution_count": 56,
   "metadata": {
    "collapsed": false
   },
   "outputs": [
    {
     "name": "stdout",
     "output_type": "stream",
     "text": [
      "0    1\n",
      "1    1\n",
      "2    1\n",
      "3    0\n",
      "4    0\n",
      "dtype: int64\n",
      "one      1\n",
      "three    1\n",
      "two      1\n",
      "dtype: int64\n"
     ]
    }
   ],
   "source": [
    "#to check where is a null\n",
    "nulls = df.isnull().sum(axis=1)\n",
    "print nulls\n",
    "# to see whic columns have nans\n",
    "print df.isnull().sum()"
   ]
  },
  {
   "cell_type": "markdown",
   "metadata": {},
   "source": [
    "## Special Values\n",
    "\n",
    "There's another special kind of variables that we haven't talked yet.\n",
    "\n",
    "As Pandas relies over NumPy, it provides a special value to deal with infinite which is np.inf and -np.inf."
   ]
  },
  {
   "cell_type": "code",
   "execution_count": 34,
   "metadata": {
    "collapsed": false
   },
   "outputs": [
    {
     "name": "stdout",
     "output_type": "stream",
     "text": [
      "0         inf\n",
      "1    1.000000\n",
      "2    0.500000\n",
      "3    0.333333\n",
      "4    0.250000\n",
      "dtype: float64\n"
     ]
    },
    {
     "data": {
      "text/plain": [
       "<matplotlib.axes._subplots.AxesSubplot at 0x9874160>"
      ]
     },
     "execution_count": 34,
     "metadata": {},
     "output_type": "execute_result"
    },
    {
     "data": {
      "image/png": "[encoded data removed]",
      "text/plain": [
       "<matplotlib.figure.Figure at 0x9860828>"
      ]
     },
     "metadata": {},
     "output_type": "display_data"
    }
   ],
   "source": [
    "import matplotlib.pyplot as plt\n",
    "\n",
    "s = pd.Series([0,1,2,3,4])\n",
    "print 1/s\n",
    "\n",
    "%matplotlib inline\n",
    "\n",
    "(1/s).plot()"
   ]
  },
  {
   "cell_type": "code",
   "execution_count": 39,
   "metadata": {
    "collapsed": false
   },
   "outputs": [
    {
     "data": {
      "text/plain": [
       "1    1.000000\n",
       "2    0.500000\n",
       "3    0.333333\n",
       "4    0.250000\n",
       "dtype: float64"
      ]
     },
     "execution_count": 39,
     "metadata": {},
     "output_type": "execute_result"
    }
   ],
   "source": [
    "(1/s)[(1/s).map(lambda x: np.isfinite(x))]"
   ]
  },
  {
   "cell_type": "markdown",
   "metadata": {},
   "source": [
    "We have seen also pd.NaT value for timedeltas. We can deal with these values in the following way:"
   ]
  },
  {
   "cell_type": "code",
   "execution_count": 42,
   "metadata": {
    "collapsed": false
   },
   "outputs": [
    {
     "data": {
      "text/plain": [
       "True"
      ]
     },
     "execution_count": 42,
     "metadata": {},
     "output_type": "execute_result"
    }
   ],
   "source": [
    "pd.isnull(pd.NaT)"
   ]
  },
  {
   "cell_type": "code",
   "execution_count": 44,
   "metadata": {
    "collapsed": false
   },
   "outputs": [
    {
     "data": {
      "text/plain": [
       "0    True\n",
       "1    True\n",
       "2    True\n",
       "dtype: bool"
      ]
     },
     "execution_count": 44,
     "metadata": {},
     "output_type": "execute_result"
    }
   ],
   "source": [
    "pd.isnull(pd.Series([pd.NaT,np.nan,None]))"
   ]
  },
  {
   "cell_type": "markdown",
   "metadata": {},
   "source": [
    "*(from [Pandas API Docs](http://pandas.pydata.org/pandas-docs/stable/missing_data.html#values-considered-missing))*\n",
    "\n",
    "One has to be mindful that in python (and numpy), the nan's don’t compare equal, but None's do. \n",
    "\n",
    "Note that Pandas/numpy uses the fact that np.nan != np.nan, and treats None like np.nan."
   ]
  },
  {
   "cell_type": "code",
   "execution_count": 45,
   "metadata": {
    "collapsed": false
   },
   "outputs": [
    {
     "data": {
      "text/plain": [
       "(True, False)"
      ]
     },
     "execution_count": 45,
     "metadata": {},
     "output_type": "execute_result"
    }
   ],
   "source": [
    "None == None, np.nan == np.nan"
   ]
  },
  {
   "cell_type": "code",
   "execution_count": 49,
   "metadata": {
    "collapsed": false
   },
   "outputs": [
    {
     "name": "stdout",
     "output_type": "stream",
     "text": [
      "0\n",
      "0\n",
      "2\n"
     ]
    }
   ],
   "source": [
    "s = pd.Series([None,np.nan])\n",
    "print (s == None).sum()\n",
    "print (s == np.nan).sum()\n",
    "print (s.isnull()).sum()"
   ]
  },
  {
   "cell_type": "markdown",
   "metadata": {},
   "source": [
    "## Outliers\n",
    "\n",
    "There is a vast body of literature on outlier detection, and several definitions of\n",
    "outlier exist. \n",
    "\n",
    "A general definition: an outlier in a data set as an observation (or set of observations) which appear to be inconsistent with that set of data. \n",
    "\n",
    "Note that:\n",
    "\n",
    "* Outliers do not equal errors\n",
    "* They should be detected, but not necessarily removed\n",
    "* Their inclusion in the analysis is a statistical decision"
   ]
  },
  {
   "cell_type": "markdown",
   "metadata": {},
   "source": [
    "Let's see an example (data taken from [here](http://socr.ucla.edu/docs/resources/SOCR_Data/SOCR_Data_Dinov_020108_HeightsWeights.html)):"
   ]
  },
  {
   "cell_type": "code",
   "execution_count": 59,
   "metadata": {
    "collapsed": false
   },
   "outputs": [
    {
     "data": {
      "text/html": [
       "<div>\n",
       "<table border=\"1\" class=\"dataframe\">\n",
       "  <thead>\n",
       "    <tr style=\"text-align: right;\">\n",
       "      <th></th>\n",
       "      <th>height</th>\n",
       "      <th>weight</th>\n",
       "    </tr>\n",
       "  </thead>\n",
       "  <tbody>\n",
       "    <tr>\n",
       "      <th>count</th>\n",
       "      <td>33.000000</td>\n",
       "      <td>33.000000</td>\n",
       "    </tr>\n",
       "    <tr>\n",
       "      <th>mean</th>\n",
       "      <td>175.076991</td>\n",
       "      <td>63.547079</td>\n",
       "    </tr>\n",
       "    <tr>\n",
       "      <th>std</th>\n",
       "      <td>14.389248</td>\n",
       "      <td>28.916631</td>\n",
       "    </tr>\n",
       "    <tr>\n",
       "      <th>min</th>\n",
       "      <td>153.107034</td>\n",
       "      <td>35.386871</td>\n",
       "    </tr>\n",
       "    <tr>\n",
       "      <th>25%</th>\n",
       "      <td>170.476062</td>\n",
       "      <td>54.733677</td>\n",
       "    </tr>\n",
       "    <tr>\n",
       "      <th>50%</th>\n",
       "      <td>172.472731</td>\n",
       "      <td>58.841950</td>\n",
       "    </tr>\n",
       "    <tr>\n",
       "      <th>75%</th>\n",
       "      <td>176.272800</td>\n",
       "      <td>64.342071</td>\n",
       "    </tr>\n",
       "    <tr>\n",
       "      <th>max</th>\n",
       "      <td>246.768112</td>\n",
       "      <td>218.800216</td>\n",
       "    </tr>\n",
       "  </tbody>\n",
       "</table>\n",
       "</div>"
      ],
      "text/plain": [
       "           height      weight\n",
       "count   33.000000   33.000000\n",
       "mean   175.076991   63.547079\n",
       "std     14.389248   28.916631\n",
       "min    153.107034   35.386871\n",
       "25%    170.476062   54.733677\n",
       "50%    172.472731   58.841950\n",
       "75%    176.272800   64.342071\n",
       "max    246.768112  218.800216"
      ]
     },
     "execution_count": 59,
     "metadata": {},
     "output_type": "execute_result"
    }
   ],
   "source": [
    "hw_df = pd.read_csv(\"../data/heigths_weights_dummy.tsv\",sep=\"\\t\",index_col=0)\n",
    "hw_df.isnull().any(axis=1).sum()\n",
    "\n",
    "hw_df.columns = [\"height\",\"weight\"]\n",
    "hw_df[\"height\"] = hw_df[\"height\"] * 2.54\n",
    "hw_df[\"weight\"] = hw_df[\"weight\"] * 0.453592\n",
    "hw_df.describe()"
   ]
  },
  {
   "cell_type": "markdown",
   "metadata": {},
   "source": [
    "We have a dataset with weights and heights of people. Using describe we can see that:\n",
    "* height average is 175.07 cm\n",
    "* weight average is 63.54 kg\n",
    "    \n",
    "However we have two (max) values (maybe not the same), that clearly overpass the mean: 246.76 and 218.80 respectively.\n",
    "\n",
    "These values are considered outliers.\n",
    "\n",
    "For more or less unimodal and symmetrically distributed data, Tukey's box-and-whisker\n",
    "method for outlier detection is often appropriate. \n",
    "\n",
    "In this method, an observation is an outlier when it is larger than the so-called \"whiskers\" of the set of observations. \n",
    "The upper whisker is computed by adding 1.5 times the interquartile range (IQR) to the third quartile and rounding to the nearest lower observation. \n",
    "\n",
    "The lower whisker is computed likewise\n",
    "\n",
    "** What is the IQR?**\n",
    "\n",
    "* Quantiles are cutpoints dividing the range of a probability distribution into contiguous intervals with equal probabilities\n",
    "* A percentile (or a centile) is a measure used in statistics indicating the value below which a given percentage of observations in a group of observations fall\n",
    "* The 25th percentile is also known as the first quartile (Q1), the 50th percentile as the median or second quartile (Q2), and the 75th percentile as the third quartile (Q3)\n",
    "* In general, percentiles and quartiles are specific types of quantiles"
   ]
  },
  {
   "cell_type": "code",
   "execution_count": 145,
   "metadata": {
    "collapsed": false
   },
   "outputs": [
    {
     "name": "stdout",
     "output_type": "stream",
     "text": [
      "          height     weight\n",
      "0.25  170.476062  54.733677\n",
      "0.50  172.472731  58.841950\n",
      "0.75  176.272800  64.342071\n",
      "IQR\n",
      "          height     weight\n",
      "0.75  184.967905  78.754662\n",
      "          height     weight\n",
      "0.25  161.780957  40.321086\n"
     ]
    }
   ],
   "source": [
    "print hw_df.quantile([.25,.5,.75])\n",
    "\n",
    "iqr_func = lambda x: x.iloc[1] - x.iloc[0] \n",
    "\n",
    "iqr = hw_df.quantile([.25,.75]).apply(iqr_func)\n",
    "print \"IQR\"\n",
    "print high_out\n",
    "print low_out\n",
    "\n",
    "high_out = hw_df.quantile([.75]) + iqr*1.5 \n",
    "low_out = hw_df.quantile([.25]) - iqr*1.5"
   ]
  },
  {
   "cell_type": "code",
   "execution_count": 143,
   "metadata": {
    "collapsed": false
   },
   "outputs": [
    {
     "name": "stdout",
     "output_type": "stream",
     "text": [
      "            height     weight\n",
      "Index                        \n",
      "31      190.888112  35.386871\n",
      "33      246.768112  54.733677\n",
      "            height     weight\n",
      "Index                        \n",
      "23      161.242121  44.407523\n",
      "32      153.107034  77.529759\n"
     ]
    },
    {
     "data": {
      "text/plain": [
       "<matplotlib.axes._subplots.AxesSubplot at 0xe380ba8>"
      ]
     },
     "execution_count": 143,
     "metadata": {},
     "output_type": "execute_result"
    },
    {
     "data": {
      "image/png": "[encoded data removed]",
      "text/plain": [
       "<matplotlib.figure.Figure at 0xe284320>"
      ]
     },
     "metadata": {},
     "output_type": "display_data"
    }
   ],
   "source": [
    "print hw_df[hw_df[\"height\"] > high_out.loc[0.75,\"height\"]]\n",
    "print hw_df[hw_df[\"height\"] < low_out.loc[0.25,\"height\"]]\n",
    "\n",
    "hw_df.boxplot(column=[\"height\"],return_type=\"axes\")"
   ]
  },
  {
   "cell_type": "code",
   "execution_count": 141,
   "metadata": {
    "collapsed": false
   },
   "outputs": [
    {
     "name": "stdout",
     "output_type": "stream",
     "text": [
      "            height      weight\n",
      "Index                         \n",
      "9       172.472731  218.800216\n",
      "            height     weight\n",
      "Index                        \n",
      "31      190.888112  35.386871\n"
     ]
    },
    {
     "data": {
      "text/plain": [
       "<matplotlib.axes._subplots.AxesSubplot at 0xd891eb8>"
      ]
     },
     "execution_count": 141,
     "metadata": {},
     "output_type": "execute_result"
    },
    {
     "data": {
      "image/png": "[encoded data removed]",
      "text/plain": [
       "<matplotlib.figure.Figure at 0xdf98780>"
      ]
     },
     "metadata": {},
     "output_type": "display_data"
    }
   ],
   "source": [
    "print hw_df[hw_df[\"weight\"] > high_out.loc[0.75,\"weight\"]]\n",
    "print hw_df[hw_df[\"weight\"] < low_out.loc[0.25,\"weight\"]] \n",
    "\n",
    "hw_df.boxplot(column=[\"weight\"],return_type=\"axes\")"
   ]
  },
  {
   "cell_type": "code",
   "execution_count": 144,
   "metadata": {
    "collapsed": false
   },
   "outputs": [
    {
     "data": {
      "text/plain": [
       "<matplotlib.axes._subplots.AxesSubplot at 0xe66c390>"
      ]
     },
     "execution_count": 144,
     "metadata": {},
     "output_type": "execute_result"
    },
    {
     "data": {
      "image/png": "[encoded data removed]",
      "text/plain": [
       "<matplotlib.figure.Figure at 0xe2060f0>"
      ]
     },
     "metadata": {},
     "output_type": "display_data"
    }
   ],
   "source": [
    "hw_df.plot(kind=\"scatter\",x=\"height\",y=\"weight\")"
   ]
  },
  {
   "cell_type": "markdown",
   "metadata": {},
   "source": [
    "### Types of Outliers\n",
    "\n",
    "(*from https://www.analyticsvidhya.com/blog/2016/01/guide-data-exploration/#three*)\n",
    "\n",
    "Whenever we come across outliers, the ideal way to tackle them is to find out the reason of having these outliers. \n",
    "\n",
    "The method to deal with them would then depend on the reason of their occurrence. Causes of outliers can be classified in two broad categories:\n",
    "\n",
    "* **Artificial (Error) / Non-natural**\n",
    "* **Natural.**\n",
    "\n",
    "Let’s understand various types of outliers in more detail:\n",
    "\n",
    "* **Data Entry Errors:**- Human errors such as errors caused during data collection, recording, or entry can cause outliers in data. For example: Annual income of a customer is \\$ 100,000. Accidentally, the data entry operator puts an additional zero in the figure. Now the income becomes $1,000,000 which is 10 times higher. Evidently, this will be the outlier value when compared with rest of the population.\n",
    "\n",
    "* **Measurement Error:** It is the most common source of outliers. This is caused when the measurement instrument used turns out to be faulty. For example: There are 10 weighing machines. 9 of them are correct, 1 is faulty. Weight measured by people on the faulty machine will be higher / lower than the rest of people in the group. The weights measured on faulty machine can lead to outliers.\n",
    "\n",
    "* **Experimental Error:** Another cause of outliers is experimental error. For example: In a 100m sprint of 7 runners, one runner missed out on concentrating on the ‘Go’ call which caused him to start late. Hence, this caused the runner’s run time to be more than other runners. His total run time can be an outlier.\n",
    "\n",
    "* **Intentional Outlier:** This is commonly found in self-reported measures that involves sensitive data. For example: Teens would typically under report the amount of alcohol that they consume. Only a fraction of them would report actual value. Here actual values might look like outliers because rest of the teens are under reporting the consumption.\n",
    "\n",
    "* **Data Processing Error:** Whenever we perform data mining, we extract data from multiple sources. It is possible that some manipulation or extraction errors may lead to outliers in the dataset.\n",
    "\n",
    "* **Sampling error:** For instance, we have to measure the height of athletes. By mistake, we include a few basketball players in the sample. This inclusion is likely to cause outliers in the dataset.\n",
    "\n",
    "* **Natural Outlier:** When an outlier is not artificial (due to error), it is a natural outlier. For instance: In my last assignment with one of the renowned insurance company, I noticed that the performance of top 50 financial advisors was far higher than rest of the population. Surprisingly, it was not due to any error. Hence, whenever we perform any data mining activity with advisors, we used to treat this segment separately.\n"
   ]
  },
  {
   "cell_type": "markdown",
   "metadata": {},
   "source": [
    "It is also common to get rid of everithing higher than 95 percentile and lower than 5 percentile"
   ]
  },
  {
   "cell_type": "code",
   "execution_count": 72,
   "metadata": {
    "collapsed": false
   },
   "outputs": [
    {
     "data": {
      "text/plain": [
       "0.05    164.228902\n",
       "0.95    185.344425\n",
       "Name: height, dtype: float64"
      ]
     },
     "execution_count": 72,
     "metadata": {},
     "output_type": "execute_result"
    },
    {
     "data": {
      "image/png": "[encoded data removed]",
      "text/plain": [
       "<matplotlib.figure.Figure at 0x9f3fbe0>"
      ]
     },
     "metadata": {},
     "output_type": "display_data"
    }
   ],
   "source": [
    "%matplotlib inline\n",
    "hw_df[\"height\"].hist(bins=hw_df.shape[0])\n",
    "hw_df[\"height\"].quantile([.05,.95])"
   ]
  },
  {
   "cell_type": "code",
   "execution_count": 76,
   "metadata": {
    "collapsed": false
   },
   "outputs": [
    {
     "data": {
      "text/plain": [
       "<matplotlib.axes._subplots.AxesSubplot at 0x9f3f630>"
      ]
     },
     "execution_count": 76,
     "metadata": {},
     "output_type": "execute_result"
    },
    {
     "data": {
      "image/png": "[encoded data removed]",
      "text/plain": [
       "<matplotlib.figure.Figure at 0x9b3ed30>"
      ]
     },
     "metadata": {},
     "output_type": "display_data"
    }
   ],
   "source": [
    "hl = hw_df[\"height\"].quantile([.95])\n",
    "ll = hw_df[\"height\"].quantile([.05])\n",
    "hw_df[\"height\"][(hw_df[\"height\"] < hl.iloc[0]) & (hw_df[\"height\"] > ll.iloc[0])].hist(bins=15)"
   ]
  },
  {
   "cell_type": "code",
   "execution_count": 163,
   "metadata": {
    "collapsed": false
   },
   "outputs": [
    {
     "data": {
      "text/plain": [
       "0.05    47.246235\n",
       "0.95    72.658970\n",
       "Name: weight, dtype: float64"
      ]
     },
     "execution_count": 163,
     "metadata": {},
     "output_type": "execute_result"
    },
    {
     "data": {
      "image/png": "[encoded data removed]",
      "text/plain": [
       "<matplotlib.figure.Figure at 0x10e71e48>"
      ]
     },
     "metadata": {},
     "output_type": "display_data"
    }
   ],
   "source": [
    "hw_df[\"weight\"].hist(bins=hw_df.shape[0])\n",
    "hw_df[\"weight\"].quantile([.05,.95])"
   ]
  },
  {
   "cell_type": "markdown",
   "metadata": {},
   "source": [
    "## Correction\n",
    "\n",
    "### Simple transformation\n",
    "\n",
    "We can transform data based on two dataset labels.\n",
    "\n",
    "In the following dataset there's an error, and variable a has to be the double for observations labelled as b in variable b"
   ]
  },
  {
   "cell_type": "code",
   "execution_count": 193,
   "metadata": {
    "collapsed": false
   },
   "outputs": [
    {
     "data": {
      "text/plain": [
       "0     1\n",
       "1     2\n",
       "2     3\n",
       "3     8\n",
       "4    10\n",
       "dtype: int64"
      ]
     },
     "execution_count": 193,
     "metadata": {},
     "output_type": "execute_result"
    }
   ],
   "source": [
    "df1 = pd.DataFrame({\"a\":[1,2,3,4,5],\"b\":[\"a\",\"a\",\"a\",\"b\",\"b\"]})\n",
    "\n",
    "s1 =pd.Series([1,2],index=[\"a\",\"b\"])\n",
    "f = s1[pd.match(df1.b,s1.index)]\n",
    "\n",
    "f.index = df1.index\n",
    "\n",
    "df1.a * f"
   ]
  },
  {
   "cell_type": "markdown",
   "metadata": {},
   "source": [
    "This technique can be useful for example when dealing with different units in a same variable. It is also useful for imputation.\n",
    "\n",
    "Imagine that in sacramento estate csv, somebody tells you that Residential houses the unit is in square meters, instead of square feet.\n",
    "\n",
    "A fast technique for transforming this is using match."
   ]
  },
  {
   "cell_type": "code",
   "execution_count": 231,
   "metadata": {
    "collapsed": false
   },
   "outputs": [
    {
     "data": {
      "text/plain": [
       "0     77.666908\n",
       "1    108.417801\n",
       "2     73.950788\n",
       "3     79.153356\n",
       "4     74.043691\n",
       "dtype: float64"
      ]
     },
     "execution_count": 231,
     "metadata": {},
     "output_type": "execute_result"
    }
   ],
   "source": [
    "df = pd.read_csv(\"../data/Sacramentorealestatetransactions.csv\")\n",
    "\n",
    "conv = pd.Series([1],index=df.type.unique(),dtype=float)\n",
    "conv[\"Residential\"] = 0.092903\n",
    "\n",
    "conv[pd.match(df.type,conv.index)].index == df.type\n",
    "new_factor = conv[pd.match(df.type,conv.index)]\n",
    "new_factor.index = df.index\n",
    "\n",
    "(df.sq__ft * new_factor).head()"
   ]
  },
  {
   "cell_type": "markdown",
   "metadata": {},
   "source": [
    "## Imputation\n",
    "\n",
    "Imputation is the process of estimating or deriving values for fields where data is missing. \n",
    "\n",
    "There is a vast body of literature on imputation methods and it goes beyond the scope of this course to discuss all of them.\n",
    "\n",
    "Here, we will use pandas to calculate values to impute and assign them to empty values."
   ]
  },
  {
   "cell_type": "code",
   "execution_count": 1,
   "metadata": {
    "collapsed": false
   },
   "outputs": [
    {
     "name": "stdout",
     "output_type": "stream",
     "text": [
      "     a    b    c    d tag\n",
      "0  0.8  2.3  2.4  0.0   a\n",
      "1  0.4  0.0  3.2  4.4   a\n",
      "2  1.8  0.0  1.1  1.8   b\n",
      "3  0.0  5.6  4.5  0.0   b\n"
     ]
    },
    {
     "data": {
      "text/plain": [
       "a    1.00\n",
       "b    3.95\n",
       "c    2.80\n",
       "d    3.10\n",
       "dtype: float64"
      ]
     },
     "execution_count": 1,
     "metadata": {},
     "output_type": "execute_result"
    }
   ],
   "source": [
    "import pandas as pd\n",
    "import numpy as np\n",
    "\n",
    "df = pd.DataFrame({\"a\":[0.8,0.4,1.8,np.nan],\n",
    "                   \"b\":[2.3,np.nan,np.nan,5.6],\n",
    "                   \"c\":[2.4,3.2,1.1,4.5],\n",
    "                   \"d\":[np.nan,4.4,1.8,np.nan],\n",
    "                   \"tag\":[\"a\",\"a\",\"b\",\"b\"]})\n",
    "\n",
    "print df.fillna(0)\n",
    "\n",
    "df.iloc[:,0:4].apply(np.mean)"
   ]
  },
  {
   "cell_type": "markdown",
   "metadata": {},
   "source": [
    "A more drastic approach would be to get rid of these observations or variables that contain an nan."
   ]
  },
  {
   "cell_type": "code",
   "execution_count": 79,
   "metadata": {
    "collapsed": false
   },
   "outputs": [
    {
     "name": "stdout",
     "output_type": "stream",
     "text": [
      "Empty DataFrame\n",
      "Columns: [a, b, c, d, tag]\n",
      "Index: []\n",
      "     c tag\n",
      "0  2.4   a\n",
      "1  3.2   a\n",
      "2  1.1   b\n",
      "3  4.5   b\n"
     ]
    }
   ],
   "source": [
    "import pandas as pd\n",
    "import numpy as np\n",
    "\n",
    "df = pd.DataFrame({\"a\":[0.8,0.4,1.8,np.nan],\n",
    "                   \"b\":[2.3,np.nan,np.nan,5.6],\n",
    "                   \"c\":[2.4,3.2,1.1,4.5],\n",
    "                   \"d\":[np.nan,4.4,1.8,np.nan],\n",
    "                   \"tag\":[\"a\",\"a\",\"b\",\"b\"]})\n",
    "print df.dropna(axis=0)\n",
    "print df.dropna(axis=1)"
   ]
  },
  {
   "cell_type": "markdown",
   "metadata": {},
   "source": [
    "### Basic Imputation Methods\n",
    "\n",
    "The first is imputation of the mean:\n",
    "\n",
    "$$ \\hat{x}_i = \\bar{x}$$\n",
    "where the $\\bar{x}$ is the imputation value and the mean is taken over the observed values. \n",
    "\n",
    "The usability of this model is limited since it obviously causes a bias in measures of spread, estimated from the sample after imputation. \n",
    "\n",
    "In principle one can use other measures of centrality. For example, imputation of the mean or median can be done as follows."
   ]
  },
  {
   "cell_type": "code",
   "execution_count": 53,
   "metadata": {
    "collapsed": false
   },
   "outputs": [
    {
     "name": "stdout",
     "output_type": "stream",
     "text": [
      "id        0\n",
      "piq       1\n",
      "brain     0\n",
      "height    1\n",
      "weight    0\n",
      "sex       1\n",
      "dtype: int64\n"
     ]
    },
    {
     "data": {
      "text/html": [
       "<div>\n",
       "<table border=\"1\" class=\"dataframe\">\n",
       "  <thead>\n",
       "    <tr style=\"text-align: right;\">\n",
       "      <th></th>\n",
       "      <th>id</th>\n",
       "      <th>piq</th>\n",
       "      <th>brain</th>\n",
       "      <th>height</th>\n",
       "      <th>weight</th>\n",
       "      <th>sex</th>\n",
       "    </tr>\n",
       "  </thead>\n",
       "  <tbody>\n",
       "    <tr>\n",
       "      <th>20</th>\n",
       "      <td>20</td>\n",
       "      <td>134.000000</td>\n",
       "      <td>79.06</td>\n",
       "      <td>62.000000</td>\n",
       "      <td>122</td>\n",
       "      <td>NaN</td>\n",
       "    </tr>\n",
       "    <tr>\n",
       "      <th>34</th>\n",
       "      <td>34</td>\n",
       "      <td>111.002703</td>\n",
       "      <td>94.94</td>\n",
       "      <td>70.500000</td>\n",
       "      <td>144</td>\n",
       "      <td>Female</td>\n",
       "    </tr>\n",
       "    <tr>\n",
       "      <th>36</th>\n",
       "      <td>36</td>\n",
       "      <td>74.000000</td>\n",
       "      <td>93.00</td>\n",
       "      <td>64.378378</td>\n",
       "      <td>148</td>\n",
       "      <td>Female</td>\n",
       "    </tr>\n",
       "  </tbody>\n",
       "</table>\n",
       "</div>"
      ],
      "text/plain": [
       "    id         piq  brain     height  weight     sex\n",
       "20  20  134.000000  79.06  62.000000     122     NaN\n",
       "34  34  111.002703  94.94  70.500000     144  Female\n",
       "36  36   74.000000  93.00  64.378378     148  Female"
      ]
     },
     "execution_count": 53,
     "metadata": {},
     "output_type": "execute_result"
    }
   ],
   "source": [
    "df = pd.read_csv(\"../data/iqsize_clean.csv\")\n",
    "\n",
    "#to check where is a null\n",
    "nulls = df.isnull().sum(axis=1)\n",
    "\n",
    "# to see whic columns have nans\n",
    "print df.isnull().sum()\n",
    "\n",
    "df = df.fillna(df.mean())\n",
    "\n",
    "df[nulls == 1]"
   ]
  },
  {
   "cell_type": "markdown",
   "metadata": {},
   "source": [
    "We have a dicotomic variable, why don't we provide the mean of the sex gender?"
   ]
  },
  {
   "cell_type": "code",
   "execution_count": 30,
   "metadata": {
    "collapsed": false
   },
   "outputs": [
    {
     "data": {
      "text/html": [
       "<div>\n",
       "<table border=\"1\" class=\"dataframe\">\n",
       "  <thead>\n",
       "    <tr style=\"text-align: right;\">\n",
       "      <th></th>\n",
       "      <th>brain</th>\n",
       "      <th>height</th>\n",
       "      <th>piq</th>\n",
       "      <th>weight</th>\n",
       "    </tr>\n",
       "    <tr>\n",
       "      <th>sex</th>\n",
       "      <th></th>\n",
       "      <th></th>\n",
       "      <th></th>\n",
       "      <th></th>\n",
       "    </tr>\n",
       "  </thead>\n",
       "  <tbody>\n",
       "    <tr>\n",
       "      <th>Female</th>\n",
       "      <td>82.300952</td>\n",
       "      <td>68.894208</td>\n",
       "      <td>103.957272</td>\n",
       "      <td>154.714286</td>\n",
       "    </tr>\n",
       "    <tr>\n",
       "      <th>Male</th>\n",
       "      <td>91.996250</td>\n",
       "      <td>58.600000</td>\n",
       "      <td>118.812500</td>\n",
       "      <td>136.750000</td>\n",
       "    </tr>\n",
       "  </tbody>\n",
       "</table>\n",
       "</div>"
      ],
      "text/plain": [
       "            brain     height         piq      weight\n",
       "sex                                                 \n",
       "Female  82.300952  68.894208  103.957272  154.714286\n",
       "Male    91.996250  58.600000  118.812500  136.750000"
      ]
     },
     "execution_count": 30,
     "metadata": {},
     "output_type": "execute_result"
    }
   ],
   "source": [
    "df.pivot_table(index=\"sex\",values=[\"piq\",\"brain\",\"height\",\"weight\"],aggfunc=np.mean)"
   ]
  },
  {
   "cell_type": "markdown",
   "metadata": {},
   "source": [
    "How to fill it?"
   ]
  },
  {
   "cell_type": "code",
   "execution_count": 54,
   "metadata": {
    "collapsed": false
   },
   "outputs": [],
   "source": [
    "df = pd.read_csv(\"../data/iqsize_clean.csv\")\n",
    "\n",
    "\n",
    "sex_means = df.pivot_table(index=\"sex\",values=[\"piq\",\"brain\",\"height\",\"weight\"],aggfunc=np.mean)\n",
    "\n",
    "df.loc[(df.sex==\"Female\") & (df.piq.isnull()),\"piq\"] = sex_means.loc[\"Female\",\"piq\"]\n",
    "df.loc[(df.sex==\"Female\") & (df.piq.isnull()),\"height\"] = sex_means.loc[\"Female\",\"height\"]"
   ]
  },
  {
   "cell_type": "markdown",
   "metadata": {},
   "source": []
  }
 ],
 "metadata": {
  "anaconda-cloud": {},
  "kernelspec": {
   "display_name": "Python [Root]",
   "language": "python",
   "name": "Python [Root]"
  },
  "language_info": {
   "codemirror_mode": {
    "name": "ipython",
    "version": 2
   },
   "file_extension": ".py",
   "mimetype": "text/x-python",
   "name": "python",
   "nbconvert_exporter": "python",
   "pygments_lexer": "ipython2",
   "version": "2.7.12"
  }
 },
 "nbformat": 4,
 "nbformat_minor": 0
}
