{
 "cells": [
  {
   "cell_type": "code",
   "execution_count": 30,
   "metadata": {
    "collapsed": false
   },
   "outputs": [
    {
     "data": {
      "text/plain": [
       "'10110101'"
      ]
     },
     "execution_count": 30,
     "metadata": {},
     "output_type": "execute_result"
    }
   ],
   "source": [
    "mask1 = int('10110101',2)\n",
    "mask2 = int('0xFF',16)\n",
    "\"{0:b}\".format(mask1 & mask2)"
   ]
  },
  {
   "cell_type": "code",
   "execution_count": 94,
   "metadata": {
    "collapsed": false
   },
   "outputs": [
    {
     "name": "stdout",
     "output_type": "stream",
     "text": [
      "10101010101010101010101\n",
      "10101010\n",
      "10101010\n",
      "1010101\n"
     ]
    }
   ],
   "source": [
    "temp2 = '11111111110101010101010101010101'\n",
    "temp1 = '01010101110101010101010111111111'\n",
    "\n",
    "mask1 = int('FF',16)\n",
    "mask2 = int('111111111',2)\n",
    "rgb1 = int(temp1,2)\n",
    "rgb2 = int(temp2,2)\n",
    "\n",
    "result = ((rgb2 & mask1) << 16) | ((rgb2 & mask1) << 8) | (rgb2 & mask1)\n",
    "result_str = \"{0:b}\".format(result)\n",
    "print result_str\n",
    "\n",
    "print result_str[0:8]\n",
    "print result_str[8:16]\n",
    "print result_str[16:]\n"
   ]
  }
 ],
 "metadata": {
  "anaconda-cloud": {},
  "kernelspec": {
   "display_name": "Python [Root]",
   "language": "python",
   "name": "Python [Root]"
  },
  "language_info": {
   "codemirror_mode": {
    "name": "ipython",
    "version": 2
   },
   "file_extension": ".py",
   "mimetype": "text/x-python",
   "name": "python",
   "nbconvert_exporter": "python",
   "pygments_lexer": "ipython2",
   "version": "2.7.12"
  }
 },
 "nbformat": 4,
 "nbformat_minor": 0
}
